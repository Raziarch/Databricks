{
 "cells": [
  {
   "cell_type": "markdown",
   "metadata": {
    "application/vnd.databricks.v1+cell": {
     "inputWidgets": {},
     "nuid": "7cdd7aab-e334-4837-a408-f3197bbbc426",
     "showTitle": false,
     "title": ""
    }
   },
   "source": [
    "# LightGBM training\n",
    "This is an auto-generated notebook. To reproduce these results, attach this notebook to the **AutoMLCluster** cluster and rerun it.\n",
    "- Compare trials in the [MLflow experiment](#mlflow/experiments/2547542356846121/s?orderByKey=metrics.%60val_f1_score%60&orderByAsc=false)\n",
    "- Navigate to the parent notebook [here](#notebook/2547542356846122) (If you launched the AutoML experiment using the Experiments UI, this link isn't very useful.)\n",
    "- Clone this notebook into your project folder by selecting **File > Clone** in the notebook toolbar.\n",
    "\n",
    "Runtime Version: _10.4.x-cpu-ml-scala2.12_"
   ]
  },
  {
   "cell_type": "code",
   "execution_count": 0,
   "metadata": {
    "application/vnd.databricks.v1+cell": {
     "inputWidgets": {},
     "nuid": "79752fc7-af35-483e-a9ea-5df1158daba7",
     "showTitle": false,
     "title": ""
    },
    "execution": {
     "iopub.execute_input": "2022-06-21T22:13:07.836531Z",
     "iopub.status.busy": "2022-06-21T22:13:07.835597Z",
     "iopub.status.idle": "2022-06-21T22:13:07.844951Z",
     "shell.execute_reply": "2022-06-21T22:13:07.845586Z"
    }
   },
   "outputs": [
    {
     "data": {
      "text/html": [
       "<style scoped>\n",
       "  .ansiout {\n",
       "    display: block;\n",
       "    unicode-bidi: embed;\n",
       "    white-space: pre-wrap;\n",
       "    word-wrap: break-word;\n",
       "    word-break: break-all;\n",
       "    font-family: \"Source Code Pro\", \"Menlo\", monospace;;\n",
       "    font-size: 13px;\n",
       "    color: #555;\n",
       "    margin-left: 4px;\n",
       "    line-height: 19px;\n",
       "  }\n",
       "</style>\n",
       "<div class=\"ansiout\"></div>"
      ]
     },
     "metadata": {
      "application/vnd.databricks.v1+output": {
       "addedWidgets": {},
       "arguments": {},
       "data": "<div class=\"ansiout\"></div>",
       "datasetInfos": [],
       "metadata": {},
       "removedWidgets": [],
       "type": "html"
      }
     },
     "output_type": "display_data"
    }
   ],
   "source": [
    "import mlflow\n",
    "import databricks.automl_runtime\n",
    "\n",
    "target_col = \"Is_Submitted\""
   ]
  },
  {
   "cell_type": "markdown",
   "metadata": {
    "application/vnd.databricks.v1+cell": {
     "inputWidgets": {},
     "nuid": "d025469f-9123-4247-89bf-f682d47bdf39",
     "showTitle": false,
     "title": ""
    }
   },
   "source": [
    "## Load Data"
   ]
  },
  {
   "cell_type": "code",
   "execution_count": 0,
   "metadata": {
    "application/vnd.databricks.v1+cell": {
     "inputWidgets": {},
     "nuid": "9414a2bc-cc55-4cf5-b5fd-ce7d539422f0",
     "showTitle": false,
     "title": ""
    },
    "execution": {
     "iopub.execute_input": "2022-06-21T22:13:07.855966Z",
     "iopub.status.busy": "2022-06-21T22:13:07.850994Z",
     "iopub.status.idle": "2022-06-21T22:13:08.840871Z",
     "shell.execute_reply": "2022-06-21T22:13:08.841316Z"
    }
   },
   "outputs": [
    {
     "data": {
      "text/html": [
       "<style scoped>\n",
       "  .ansiout {\n",
       "    display: block;\n",
       "    unicode-bidi: embed;\n",
       "    white-space: pre-wrap;\n",
       "    word-wrap: break-word;\n",
       "    word-break: break-all;\n",
       "    font-family: \"Source Code Pro\", \"Menlo\", monospace;;\n",
       "    font-size: 13px;\n",
       "    color: #555;\n",
       "    margin-left: 4px;\n",
       "    line-height: 19px;\n",
       "  }\n",
       "</style>\n",
       "<div class=\"ansiout\">Out[2]: </div>"
      ]
     },
     "metadata": {
      "application/vnd.databricks.v1+output": {
       "addedWidgets": {},
       "arguments": {},
       "data": "<div class=\"ansiout\">Out[2]: </div>",
       "datasetInfos": [],
       "metadata": {},
       "removedWidgets": [],
       "type": "html"
      }
     },
     "output_type": "display_data"
    },
    {
     "data": {
      "text/html": [
       "<div>\n",
       "<style scoped>\n",
       "    .dataframe tbody tr th:only-of-type {\n",
       "        vertical-align: middle;\n",
       "    }\n",
       "\n",
       "    .dataframe tbody tr th {\n",
       "        vertical-align: top;\n",
       "    }\n",
       "\n",
       "    .dataframe thead th {\n",
       "        text-align: right;\n",
       "    }\n",
       "</style>\n",
       "<table border=\"1\" class=\"dataframe\">\n",
       "  <thead>\n",
       "    <tr style=\"text-align: right;\">\n",
       "      <th></th>\n",
       "      <th>LS_Amount_to_Borrow</th>\n",
       "      <th>LS_GAS</th>\n",
       "      <th>LS_Self_Graded_Credit</th>\n",
       "      <th>Results_From_Wikipedia</th>\n",
       "      <th>Has_Customer_Service</th>\n",
       "      <th>Map_Exists</th>\n",
       "      <th>Unclaimed_Listing</th>\n",
       "      <th>Permanently_Closed</th>\n",
       "      <th>Rating</th>\n",
       "      <th>Number_of_Reviews</th>\n",
       "      <th>Number_of_Results</th>\n",
       "      <th>Mean_monthly_mortgage_and_owner_costs</th>\n",
       "      <th>Rent_mean</th>\n",
       "      <th>Is_established</th>\n",
       "      <th>Number_of_technologies</th>\n",
       "      <th>Average_annual_income_per_household</th>\n",
       "      <th>Average_years_employees_work_at_company</th>\n",
       "      <th>Mean_employee_age</th>\n",
       "      <th>NAICS_sector_code</th>\n",
       "      <th>Company_credit_score</th>\n",
       "      <th>Number_of_socials</th>\n",
       "      <th>Confidence_Score</th>\n",
       "      <th>LS_State</th>\n",
       "      <th>Difference</th>\n",
       "      <th>address</th>\n",
       "      <th>company</th>\n",
       "      <th>Web_Ad_Outlet_code</th>\n",
       "      <th>Web_Ad_Outlet_Source_code</th>\n",
       "      <th>Email_domain</th>\n",
       "      <th>Is_Submitted</th>\n",
       "    </tr>\n",
       "  </thead>\n",
       "  <tbody>\n",
       "    <tr>\n",
       "      <th>0</th>\n",
       "      <td>150000</td>\n",
       "      <td>240000</td>\n",
       "      <td>3</td>\n",
       "      <td>0</td>\n",
       "      <td>0.0</td>\n",
       "      <td>0.0</td>\n",
       "      <td>1.0</td>\n",
       "      <td>0.0</td>\n",
       "      <td>4.8</td>\n",
       "      <td>12.0</td>\n",
       "      <td>6.980000e+05</td>\n",
       "      <td>2121.736895</td>\n",
       "      <td>1172.547380</td>\n",
       "      <td>0.000000</td>\n",
       "      <td>22.0</td>\n",
       "      <td>122256.0</td>\n",
       "      <td>6.5</td>\n",
       "      <td>51.332675</td>\n",
       "      <td>58.198373</td>\n",
       "      <td>51.212596</td>\n",
       "      <td>2.05007</td>\n",
       "      <td>100.0</td>\n",
       "      <td>40</td>\n",
       "      <td>730.000000</td>\n",
       "      <td>0</td>\n",
       "      <td>0</td>\n",
       "      <td>3.0</td>\n",
       "      <td>4.0</td>\n",
       "      <td>0</td>\n",
       "      <td>0</td>\n",
       "    </tr>\n",
       "    <tr>\n",
       "      <th>1</th>\n",
       "      <td>15000</td>\n",
       "      <td>150000</td>\n",
       "      <td>2</td>\n",
       "      <td>0</td>\n",
       "      <td>0.0</td>\n",
       "      <td>0.0</td>\n",
       "      <td>1.0</td>\n",
       "      <td>0.0</td>\n",
       "      <td>4.8</td>\n",
       "      <td>12.0</td>\n",
       "      <td>1.120000e+09</td>\n",
       "      <td>1609.921730</td>\n",
       "      <td>1277.785345</td>\n",
       "      <td>0.801759</td>\n",
       "      <td>59.0</td>\n",
       "      <td>106806.0</td>\n",
       "      <td>6.5</td>\n",
       "      <td>51.332675</td>\n",
       "      <td>58.198373</td>\n",
       "      <td>51.212596</td>\n",
       "      <td>2.05007</td>\n",
       "      <td>100.0</td>\n",
       "      <td>3</td>\n",
       "      <td>3658.584025</td>\n",
       "      <td>0</td>\n",
       "      <td>0</td>\n",
       "      <td>3.0</td>\n",
       "      <td>4.0</td>\n",
       "      <td>0</td>\n",
       "      <td>0</td>\n",
       "    </tr>\n",
       "    <tr>\n",
       "      <th>2</th>\n",
       "      <td>37500</td>\n",
       "      <td>60000</td>\n",
       "      <td>0</td>\n",
       "      <td>0</td>\n",
       "      <td>0.0</td>\n",
       "      <td>0.0</td>\n",
       "      <td>1.0</td>\n",
       "      <td>0.0</td>\n",
       "      <td>4.8</td>\n",
       "      <td>12.0</td>\n",
       "      <td>8.340000e+06</td>\n",
       "      <td>1644.833498</td>\n",
       "      <td>1048.051495</td>\n",
       "      <td>0.801759</td>\n",
       "      <td>59.0</td>\n",
       "      <td>76624.0</td>\n",
       "      <td>6.5</td>\n",
       "      <td>51.332675</td>\n",
       "      <td>52.000000</td>\n",
       "      <td>51.212596</td>\n",
       "      <td>2.05007</td>\n",
       "      <td>99.0</td>\n",
       "      <td>47</td>\n",
       "      <td>3658.584025</td>\n",
       "      <td>0</td>\n",
       "      <td>0</td>\n",
       "      <td>0.0</td>\n",
       "      <td>1.0</td>\n",
       "      <td>2</td>\n",
       "      <td>0</td>\n",
       "    </tr>\n",
       "    <tr>\n",
       "      <th>3</th>\n",
       "      <td>37500</td>\n",
       "      <td>60000</td>\n",
       "      <td>0</td>\n",
       "      <td>0</td>\n",
       "      <td>0.0</td>\n",
       "      <td>0.0</td>\n",
       "      <td>1.0</td>\n",
       "      <td>0.0</td>\n",
       "      <td>4.8</td>\n",
       "      <td>12.0</td>\n",
       "      <td>1.220000e+08</td>\n",
       "      <td>1644.833498</td>\n",
       "      <td>1048.051495</td>\n",
       "      <td>0.801759</td>\n",
       "      <td>59.0</td>\n",
       "      <td>76624.0</td>\n",
       "      <td>6.5</td>\n",
       "      <td>51.332675</td>\n",
       "      <td>58.198373</td>\n",
       "      <td>51.212596</td>\n",
       "      <td>2.05007</td>\n",
       "      <td>100.0</td>\n",
       "      <td>47</td>\n",
       "      <td>3658.584025</td>\n",
       "      <td>0</td>\n",
       "      <td>1</td>\n",
       "      <td>1.0</td>\n",
       "      <td>2.0</td>\n",
       "      <td>0</td>\n",
       "      <td>0</td>\n",
       "    </tr>\n",
       "    <tr>\n",
       "      <th>4</th>\n",
       "      <td>7500</td>\n",
       "      <td>150000</td>\n",
       "      <td>0</td>\n",
       "      <td>0</td>\n",
       "      <td>0.0</td>\n",
       "      <td>0.0</td>\n",
       "      <td>1.0</td>\n",
       "      <td>0.0</td>\n",
       "      <td>4.8</td>\n",
       "      <td>12.0</td>\n",
       "      <td>1.670000e+07</td>\n",
       "      <td>1644.833498</td>\n",
       "      <td>1048.051495</td>\n",
       "      <td>0.801759</td>\n",
       "      <td>59.0</td>\n",
       "      <td>76624.0</td>\n",
       "      <td>6.5</td>\n",
       "      <td>51.332675</td>\n",
       "      <td>54.000000</td>\n",
       "      <td>48.000000</td>\n",
       "      <td>2.05007</td>\n",
       "      <td>100.0</td>\n",
       "      <td>47</td>\n",
       "      <td>3658.584025</td>\n",
       "      <td>0</td>\n",
       "      <td>1</td>\n",
       "      <td>0.0</td>\n",
       "      <td>1.0</td>\n",
       "      <td>0</td>\n",
       "      <td>0</td>\n",
       "    </tr>\n",
       "  </tbody>\n",
       "</table>\n",
       "</div>"
      ]
     },
     "metadata": {
      "application/vnd.databricks.v1+output": {
       "addedWidgets": {},
       "arguments": {},
       "data": "<div>\n<style scoped>\n    .dataframe tbody tr th:only-of-type {\n        vertical-align: middle;\n    }\n\n    .dataframe tbody tr th {\n        vertical-align: top;\n    }\n\n    .dataframe thead th {\n        text-align: right;\n    }\n</style>\n<table border=\"1\" class=\"dataframe\">\n  <thead>\n    <tr style=\"text-align: right;\">\n      <th></th>\n      <th>LS_Amount_to_Borrow</th>\n      <th>LS_GAS</th>\n      <th>LS_Self_Graded_Credit</th>\n      <th>Results_From_Wikipedia</th>\n      <th>Has_Customer_Service</th>\n      <th>Map_Exists</th>\n      <th>Unclaimed_Listing</th>\n      <th>Permanently_Closed</th>\n      <th>Rating</th>\n      <th>Number_of_Reviews</th>\n      <th>Number_of_Results</th>\n      <th>Mean_monthly_mortgage_and_owner_costs</th>\n      <th>Rent_mean</th>\n      <th>Is_established</th>\n      <th>Number_of_technologies</th>\n      <th>Average_annual_income_per_household</th>\n      <th>Average_years_employees_work_at_company</th>\n      <th>Mean_employee_age</th>\n      <th>NAICS_sector_code</th>\n      <th>Company_credit_score</th>\n      <th>Number_of_socials</th>\n      <th>Confidence_Score</th>\n      <th>LS_State</th>\n      <th>Difference</th>\n      <th>address</th>\n      <th>company</th>\n      <th>Web_Ad_Outlet_code</th>\n      <th>Web_Ad_Outlet_Source_code</th>\n      <th>Email_domain</th>\n      <th>Is_Submitted</th>\n    </tr>\n  </thead>\n  <tbody>\n    <tr>\n      <th>0</th>\n      <td>150000</td>\n      <td>240000</td>\n      <td>3</td>\n      <td>0</td>\n      <td>0.0</td>\n      <td>0.0</td>\n      <td>1.0</td>\n      <td>0.0</td>\n      <td>4.8</td>\n      <td>12.0</td>\n      <td>6.980000e+05</td>\n      <td>2121.736895</td>\n      <td>1172.547380</td>\n      <td>0.000000</td>\n      <td>22.0</td>\n      <td>122256.0</td>\n      <td>6.5</td>\n      <td>51.332675</td>\n      <td>58.198373</td>\n      <td>51.212596</td>\n      <td>2.05007</td>\n      <td>100.0</td>\n      <td>40</td>\n      <td>730.000000</td>\n      <td>0</td>\n      <td>0</td>\n      <td>3.0</td>\n      <td>4.0</td>\n      <td>0</td>\n      <td>0</td>\n    </tr>\n    <tr>\n      <th>1</th>\n      <td>15000</td>\n      <td>150000</td>\n      <td>2</td>\n      <td>0</td>\n      <td>0.0</td>\n      <td>0.0</td>\n      <td>1.0</td>\n      <td>0.0</td>\n      <td>4.8</td>\n      <td>12.0</td>\n      <td>1.120000e+09</td>\n      <td>1609.921730</td>\n      <td>1277.785345</td>\n      <td>0.801759</td>\n      <td>59.0</td>\n      <td>106806.0</td>\n      <td>6.5</td>\n      <td>51.332675</td>\n      <td>58.198373</td>\n      <td>51.212596</td>\n      <td>2.05007</td>\n      <td>100.0</td>\n      <td>3</td>\n      <td>3658.584025</td>\n      <td>0</td>\n      <td>0</td>\n      <td>3.0</td>\n      <td>4.0</td>\n      <td>0</td>\n      <td>0</td>\n    </tr>\n    <tr>\n      <th>2</th>\n      <td>37500</td>\n      <td>60000</td>\n      <td>0</td>\n      <td>0</td>\n      <td>0.0</td>\n      <td>0.0</td>\n      <td>1.0</td>\n      <td>0.0</td>\n      <td>4.8</td>\n      <td>12.0</td>\n      <td>8.340000e+06</td>\n      <td>1644.833498</td>\n      <td>1048.051495</td>\n      <td>0.801759</td>\n      <td>59.0</td>\n      <td>76624.0</td>\n      <td>6.5</td>\n      <td>51.332675</td>\n      <td>52.000000</td>\n      <td>51.212596</td>\n      <td>2.05007</td>\n      <td>99.0</td>\n      <td>47</td>\n      <td>3658.584025</td>\n      <td>0</td>\n      <td>0</td>\n      <td>0.0</td>\n      <td>1.0</td>\n      <td>2</td>\n      <td>0</td>\n    </tr>\n    <tr>\n      <th>3</th>\n      <td>37500</td>\n      <td>60000</td>\n      <td>0</td>\n      <td>0</td>\n      <td>0.0</td>\n      <td>0.0</td>\n      <td>1.0</td>\n      <td>0.0</td>\n      <td>4.8</td>\n      <td>12.0</td>\n      <td>1.220000e+08</td>\n      <td>1644.833498</td>\n      <td>1048.051495</td>\n      <td>0.801759</td>\n      <td>59.0</td>\n      <td>76624.0</td>\n      <td>6.5</td>\n      <td>51.332675</td>\n      <td>58.198373</td>\n      <td>51.212596</td>\n      <td>2.05007</td>\n      <td>100.0</td>\n      <td>47</td>\n      <td>3658.584025</td>\n      <td>0</td>\n      <td>1</td>\n      <td>1.0</td>\n      <td>2.0</td>\n      <td>0</td>\n      <td>0</td>\n    </tr>\n    <tr>\n      <th>4</th>\n      <td>7500</td>\n      <td>150000</td>\n      <td>0</td>\n      <td>0</td>\n      <td>0.0</td>\n      <td>0.0</td>\n      <td>1.0</td>\n      <td>0.0</td>\n      <td>4.8</td>\n      <td>12.0</td>\n      <td>1.670000e+07</td>\n      <td>1644.833498</td>\n      <td>1048.051495</td>\n      <td>0.801759</td>\n      <td>59.0</td>\n      <td>76624.0</td>\n      <td>6.5</td>\n      <td>51.332675</td>\n      <td>54.000000</td>\n      <td>48.000000</td>\n      <td>2.05007</td>\n      <td>100.0</td>\n      <td>47</td>\n      <td>3658.584025</td>\n      <td>0</td>\n      <td>1</td>\n      <td>0.0</td>\n      <td>1.0</td>\n      <td>0</td>\n      <td>0</td>\n    </tr>\n  </tbody>\n</table>\n</div>",
       "datasetInfos": [],
       "metadata": {},
       "removedWidgets": [],
       "textData": null,
       "type": "htmlSandbox"
      }
     },
     "output_type": "display_data"
    }
   ],
   "source": [
    "from mlflow.tracking import MlflowClient\n",
    "import os\n",
    "import uuid\n",
    "import shutil\n",
    "import pandas as pd\n",
    "\n",
    "# Create temp directory to download input data from MLflow\n",
    "input_temp_dir = os.path.join(os.environ[\"SPARK_LOCAL_DIRS\"], \"tmp\", str(uuid.uuid4())[:8])\n",
    "os.makedirs(input_temp_dir)\n",
    "\n",
    "\n",
    "# Download the artifact and read it into a pandas DataFrame\n",
    "input_client = MlflowClient()\n",
    "input_data_path = input_client.download_artifacts(\"3cd76bad058748fdae87de1254632771\", \"data\", input_temp_dir)\n",
    "\n",
    "df_loaded = pd.read_parquet(os.path.join(input_data_path, \"training_data\"))\n",
    "# Delete the temp data\n",
    "shutil.rmtree(input_temp_dir)\n",
    "\n",
    "# Preview data\n",
    "df_loaded.head(5)"
   ]
  },
  {
   "cell_type": "markdown",
   "metadata": {
    "application/vnd.databricks.v1+cell": {
     "inputWidgets": {},
     "nuid": "a22cd5f9-b8c2-4743-ad73-0ad377c67de9",
     "showTitle": false,
     "title": ""
    }
   },
   "source": [
    "### Select supported columns\n",
    "Select only the columns that are supported. This allows us to train a model that can predict on a dataset that has extra columns that are not used in training.\n",
    "`[\"Unclaimed_Listing\"]` are dropped in the pipelines. See the Alerts tab of the AutoML Experiment page for details on why these columns are dropped."
   ]
  },
  {
   "cell_type": "code",
   "execution_count": 0,
   "metadata": {
    "application/vnd.databricks.v1+cell": {
     "inputWidgets": {},
     "nuid": "14be4cf5-53e1-42c1-87f6-df04d13890e4",
     "showTitle": false,
     "title": ""
    },
    "execution": {
     "iopub.execute_input": "2022-06-21T22:13:08.852207Z",
     "iopub.status.busy": "2022-06-21T22:13:08.844496Z",
     "iopub.status.idle": "2022-06-21T22:13:09.236060Z",
     "shell.execute_reply": "2022-06-21T22:13:09.236590Z"
    }
   },
   "outputs": [
    {
     "data": {
      "text/html": [
       "<style scoped>\n",
       "  .ansiout {\n",
       "    display: block;\n",
       "    unicode-bidi: embed;\n",
       "    white-space: pre-wrap;\n",
       "    word-wrap: break-word;\n",
       "    word-break: break-all;\n",
       "    font-family: \"Source Code Pro\", \"Menlo\", monospace;;\n",
       "    font-size: 13px;\n",
       "    color: #555;\n",
       "    margin-left: 4px;\n",
       "    line-height: 19px;\n",
       "  }\n",
       "</style>\n",
       "<div class=\"ansiout\"></div>"
      ]
     },
     "metadata": {
      "application/vnd.databricks.v1+output": {
       "addedWidgets": {},
       "arguments": {},
       "data": "<div class=\"ansiout\"></div>",
       "datasetInfos": [],
       "metadata": {},
       "removedWidgets": [],
       "type": "html"
      }
     },
     "output_type": "display_data"
    }
   ],
   "source": [
    "from databricks.automl_runtime.sklearn.column_selector import ColumnSelector\n",
    "supported_cols = [\"company\", \"LS_GAS\", \"Permanently_Closed\", \"Difference\", \"Number_of_Results\", \"LS_State\", \"Number_of_Reviews\", \"Results_From_Wikipedia\", \"LS_Self_Graded_Credit\", \"LS_Amount_to_Borrow\", \"Number_of_technologies\", \"Rating\", \"Mean_monthly_mortgage_and_owner_costs\", \"Number_of_socials\", \"Rent_mean\", \"Average_years_employees_work_at_company\", \"Web_Ad_Outlet_code\", \"Confidence_Score\", \"Is_established\", \"Web_Ad_Outlet_Source_code\", \"Company_credit_score\", \"Map_Exists\", \"Has_Customer_Service\", \"address\", \"NAICS_sector_code\", \"Mean_employee_age\", \"Average_annual_income_per_household\", \"Email_domain\"]\n",
    "col_selector = ColumnSelector(supported_cols)"
   ]
  },
  {
   "cell_type": "markdown",
   "metadata": {
    "application/vnd.databricks.v1+cell": {
     "inputWidgets": {},
     "nuid": "c42ca2a5-8806-4bbd-a795-bdce2976f6c1",
     "showTitle": false,
     "title": ""
    }
   },
   "source": [
    "## Preprocessors"
   ]
  },
  {
   "cell_type": "code",
   "execution_count": 0,
   "metadata": {
    "application/vnd.databricks.v1+cell": {
     "inputWidgets": {},
     "nuid": "ffc98bde-4d1e-48bf-a88e-7d2731e63930",
     "showTitle": false,
     "title": ""
    },
    "execution": {
     "iopub.execute_input": "2022-06-21T22:13:09.244283Z",
     "iopub.status.busy": "2022-06-21T22:13:09.242247Z",
     "iopub.status.idle": "2022-06-21T22:13:09.247330Z",
     "shell.execute_reply": "2022-06-21T22:13:09.247879Z"
    }
   },
   "outputs": [
    {
     "data": {
      "text/html": [
       "<style scoped>\n",
       "  .ansiout {\n",
       "    display: block;\n",
       "    unicode-bidi: embed;\n",
       "    white-space: pre-wrap;\n",
       "    word-wrap: break-word;\n",
       "    word-break: break-all;\n",
       "    font-family: \"Source Code Pro\", \"Menlo\", monospace;;\n",
       "    font-size: 13px;\n",
       "    color: #555;\n",
       "    margin-left: 4px;\n",
       "    line-height: 19px;\n",
       "  }\n",
       "</style>\n",
       "<div class=\"ansiout\"></div>"
      ]
     },
     "metadata": {
      "application/vnd.databricks.v1+output": {
       "addedWidgets": {},
       "arguments": {},
       "data": "<div class=\"ansiout\"></div>",
       "datasetInfos": [],
       "metadata": {},
       "removedWidgets": [],
       "type": "html"
      }
     },
     "output_type": "display_data"
    }
   ],
   "source": [
    "transformers = []"
   ]
  },
  {
   "cell_type": "markdown",
   "metadata": {
    "application/vnd.databricks.v1+cell": {
     "inputWidgets": {},
     "nuid": "89ff13bf-6ac4-475b-bd5e-7ef40551518b",
     "showTitle": false,
     "title": ""
    }
   },
   "source": [
    "### Numerical columns\n",
    "\n",
    "Missing values for numerical columns are imputed with mean by default."
   ]
  },
  {
   "cell_type": "code",
   "execution_count": 0,
   "metadata": {
    "application/vnd.databricks.v1+cell": {
     "inputWidgets": {},
     "nuid": "7be579fb-659e-4160-8f84-922ee8f6fe12",
     "showTitle": false,
     "title": ""
    },
    "execution": {
     "iopub.execute_input": "2022-06-21T22:13:09.258882Z",
     "iopub.status.busy": "2022-06-21T22:13:09.258218Z",
     "iopub.status.idle": "2022-06-21T22:13:09.330563Z",
     "shell.execute_reply": "2022-06-21T22:13:09.335591Z"
    }
   },
   "outputs": [
    {
     "data": {
      "text/html": [
       "<style scoped>\n",
       "  .ansiout {\n",
       "    display: block;\n",
       "    unicode-bidi: embed;\n",
       "    white-space: pre-wrap;\n",
       "    word-wrap: break-word;\n",
       "    word-break: break-all;\n",
       "    font-family: \"Source Code Pro\", \"Menlo\", monospace;;\n",
       "    font-size: 13px;\n",
       "    color: #555;\n",
       "    margin-left: 4px;\n",
       "    line-height: 19px;\n",
       "  }\n",
       "</style>\n",
       "<div class=\"ansiout\"></div>"
      ]
     },
     "metadata": {
      "application/vnd.databricks.v1+output": {
       "addedWidgets": {},
       "arguments": {},
       "data": "<div class=\"ansiout\"></div>",
       "datasetInfos": [],
       "metadata": {},
       "removedWidgets": [],
       "type": "html"
      }
     },
     "output_type": "display_data"
    }
   ],
   "source": [
    "from sklearn.compose import ColumnTransformer\n",
    "from sklearn.impute import SimpleImputer\n",
    "from sklearn.pipeline import Pipeline\n",
    "from sklearn.preprocessing import FunctionTransformer\n",
    "\n",
    "num_imputers = []\n",
    "num_imputers.append((\"impute_mean\", SimpleImputer(), [\"Average_annual_income_per_household\", \"Average_years_employees_work_at_company\", \"Company_credit_score\", \"Difference\", \"LS_Amount_to_Borrow\", \"LS_GAS\", \"LS_State\", \"Mean_employee_age\", \"Mean_monthly_mortgage_and_owner_costs\", \"NAICS_sector_code\", \"Number_of_Results\", \"Number_of_Reviews\", \"Number_of_technologies\", \"Rating\", \"Rent_mean\", \"Web_Ad_Outlet_code\"]))\n",
    "\n",
    "numerical_pipeline = Pipeline(steps=[\n",
    "    (\"converter\", FunctionTransformer(lambda df: df.apply(pd.to_numeric, errors=\"coerce\"))),\n",
    "    (\"imputers\", ColumnTransformer(num_imputers, sparse_threshold=0))\n",
    "])\n",
    "\n",
    "transformers.append((\"numerical\", numerical_pipeline, [\"Rent_mean\", \"Average_years_employees_work_at_company\", \"LS_State\", \"Number_of_Reviews\", \"Company_credit_score\", \"LS_GAS\", \"LS_Amount_to_Borrow\", \"Number_of_technologies\", \"Difference\", \"NAICS_sector_code\", \"Web_Ad_Outlet_code\", \"Mean_employee_age\", \"Average_annual_income_per_household\", \"Rating\", \"Mean_monthly_mortgage_and_owner_costs\", \"Number_of_Results\"]))"
   ]
  },
  {
   "cell_type": "markdown",
   "metadata": {
    "application/vnd.databricks.v1+cell": {
     "inputWidgets": {},
     "nuid": "7fff0bee-2a2a-420b-a925-62e699256396",
     "showTitle": false,
     "title": ""
    }
   },
   "source": [
    "### Categorical columns"
   ]
  },
  {
   "cell_type": "markdown",
   "metadata": {
    "application/vnd.databricks.v1+cell": {
     "inputWidgets": {},
     "nuid": "a278ca77-9ae1-4246-9ca4-0257b94f3512",
     "showTitle": false,
     "title": ""
    }
   },
   "source": [
    "#### Low-cardinality categoricals\n",
    "Convert each low-cardinality categorical column into multiple binary columns through one-hot encoding.\n",
    "For each input categorical column (string or numeric), the number of output columns is equal to the number of unique values in the input column."
   ]
  },
  {
   "cell_type": "code",
   "execution_count": 0,
   "metadata": {
    "application/vnd.databricks.v1+cell": {
     "inputWidgets": {},
     "nuid": "76cbc12c-6b0b-4e07-af73-5bc163b15880",
     "showTitle": false,
     "title": ""
    },
    "execution": {
     "iopub.execute_input": "2022-06-21T22:13:09.343298Z",
     "iopub.status.busy": "2022-06-21T22:13:09.342679Z",
     "iopub.status.idle": "2022-06-21T22:13:09.347431Z",
     "shell.execute_reply": "2022-06-21T22:13:09.348991Z"
    }
   },
   "outputs": [
    {
     "data": {
      "text/html": [
       "<style scoped>\n",
       "  .ansiout {\n",
       "    display: block;\n",
       "    unicode-bidi: embed;\n",
       "    white-space: pre-wrap;\n",
       "    word-wrap: break-word;\n",
       "    word-break: break-all;\n",
       "    font-family: \"Source Code Pro\", \"Menlo\", monospace;;\n",
       "    font-size: 13px;\n",
       "    color: #555;\n",
       "    margin-left: 4px;\n",
       "    line-height: 19px;\n",
       "  }\n",
       "</style>\n",
       "<div class=\"ansiout\"></div>"
      ]
     },
     "metadata": {
      "application/vnd.databricks.v1+output": {
       "addedWidgets": {},
       "arguments": {},
       "data": "<div class=\"ansiout\"></div>",
       "datasetInfos": [],
       "metadata": {},
       "removedWidgets": [],
       "type": "html"
      }
     },
     "output_type": "display_data"
    }
   ],
   "source": [
    "from sklearn.compose import ColumnTransformer\n",
    "from sklearn.impute import SimpleImputer\n",
    "from sklearn.pipeline import Pipeline\n",
    "from sklearn.preprocessing import OneHotEncoder\n",
    "\n",
    "one_hot_imputers = []\n",
    "\n",
    "one_hot_pipeline = Pipeline(steps=[\n",
    "    (\"imputers\", ColumnTransformer(one_hot_imputers, sparse_threshold=0, remainder=\"passthrough\")),\n",
    "    (\"one_hot_encoder\", OneHotEncoder(handle_unknown=\"ignore\")),\n",
    "])\n",
    "\n",
    "transformers.append((\"onehot\", one_hot_pipeline, [\"Confidence_Score\", \"Email_domain\", \"Has_Customer_Service\", \"Is_established\", \"LS_Self_Graded_Credit\", \"Map_Exists\", \"Number_of_socials\", \"Permanently_Closed\", \"Results_From_Wikipedia\", \"Web_Ad_Outlet_Source_code\", \"address\", \"company\"]))"
   ]
  },
  {
   "cell_type": "code",
   "execution_count": 0,
   "metadata": {
    "application/vnd.databricks.v1+cell": {
     "inputWidgets": {},
     "nuid": "d06d0e16-93c9-41ed-83a0-3981c9b38a5e",
     "showTitle": false,
     "title": ""
    },
    "execution": {
     "iopub.execute_input": "2022-06-21T22:13:09.360646Z",
     "iopub.status.busy": "2022-06-21T22:13:09.354400Z",
     "iopub.status.idle": "2022-06-21T22:13:09.366044Z",
     "shell.execute_reply": "2022-06-21T22:13:09.367657Z"
    }
   },
   "outputs": [
    {
     "data": {
      "text/html": [
       "<style scoped>\n",
       "  .ansiout {\n",
       "    display: block;\n",
       "    unicode-bidi: embed;\n",
       "    white-space: pre-wrap;\n",
       "    word-wrap: break-word;\n",
       "    word-break: break-all;\n",
       "    font-family: \"Source Code Pro\", \"Menlo\", monospace;;\n",
       "    font-size: 13px;\n",
       "    color: #555;\n",
       "    margin-left: 4px;\n",
       "    line-height: 19px;\n",
       "  }\n",
       "</style>\n",
       "<div class=\"ansiout\"></div>"
      ]
     },
     "metadata": {
      "application/vnd.databricks.v1+output": {
       "addedWidgets": {},
       "arguments": {},
       "data": "<div class=\"ansiout\"></div>",
       "datasetInfos": [],
       "metadata": {},
       "removedWidgets": [],
       "type": "html"
      }
     },
     "output_type": "display_data"
    }
   ],
   "source": [
    "from sklearn.compose import ColumnTransformer\n",
    "\n",
    "preprocessor = ColumnTransformer(transformers, remainder=\"passthrough\", sparse_threshold=0)"
   ]
  },
  {
   "cell_type": "markdown",
   "metadata": {
    "application/vnd.databricks.v1+cell": {
     "inputWidgets": {},
     "nuid": "09e88afc-a15f-4e58-af32-04ce6100a307",
     "showTitle": false,
     "title": ""
    }
   },
   "source": [
    "### Feature standardization\n",
    "Scale all feature columns to be centered around zero with unit variance."
   ]
  },
  {
   "cell_type": "code",
   "execution_count": 0,
   "metadata": {
    "application/vnd.databricks.v1+cell": {
     "inputWidgets": {},
     "nuid": "f8773d91-6027-43a5-96d1-e8bc7880aadd",
     "showTitle": false,
     "title": ""
    },
    "execution": {
     "iopub.execute_input": "2022-06-21T22:13:09.379367Z",
     "iopub.status.busy": "2022-06-21T22:13:09.377206Z",
     "iopub.status.idle": "2022-06-21T22:13:09.382304Z",
     "shell.execute_reply": "2022-06-21T22:13:09.382735Z"
    }
   },
   "outputs": [
    {
     "data": {
      "text/html": [
       "<style scoped>\n",
       "  .ansiout {\n",
       "    display: block;\n",
       "    unicode-bidi: embed;\n",
       "    white-space: pre-wrap;\n",
       "    word-wrap: break-word;\n",
       "    word-break: break-all;\n",
       "    font-family: \"Source Code Pro\", \"Menlo\", monospace;;\n",
       "    font-size: 13px;\n",
       "    color: #555;\n",
       "    margin-left: 4px;\n",
       "    line-height: 19px;\n",
       "  }\n",
       "</style>\n",
       "<div class=\"ansiout\"></div>"
      ]
     },
     "metadata": {
      "application/vnd.databricks.v1+output": {
       "addedWidgets": {},
       "arguments": {},
       "data": "<div class=\"ansiout\"></div>",
       "datasetInfos": [],
       "metadata": {},
       "removedWidgets": [],
       "type": "html"
      }
     },
     "output_type": "display_data"
    }
   ],
   "source": [
    "from sklearn.preprocessing import StandardScaler\n",
    "\n",
    "standardizer = StandardScaler()"
   ]
  },
  {
   "cell_type": "markdown",
   "metadata": {
    "application/vnd.databricks.v1+cell": {
     "inputWidgets": {},
     "nuid": "0859ac7e-7ab2-4fa6-9837-d7f829be1928",
     "showTitle": false,
     "title": ""
    }
   },
   "source": [
    "## Train - Validation - Test Split\n",
    "Split the input data into 3 sets:\n",
    "- Train (60% of the dataset used to train the model)\n",
    "- Validation (20% of the dataset used to tune the hyperparameters of the model)\n",
    "- Test (20% of the dataset used to report the true performance of the model on an unseen dataset)"
   ]
  },
  {
   "cell_type": "code",
   "execution_count": 0,
   "metadata": {
    "application/vnd.databricks.v1+cell": {
     "inputWidgets": {},
     "nuid": "475ffecc-877a-4df3-af72-67a8342506c2",
     "showTitle": false,
     "title": ""
    },
    "execution": {
     "iopub.execute_input": "2022-06-21T22:13:09.386787Z",
     "iopub.status.busy": "2022-06-21T22:13:09.385808Z",
     "iopub.status.idle": "2022-06-21T22:13:09.425771Z",
     "shell.execute_reply": "2022-06-21T22:13:09.427181Z"
    }
   },
   "outputs": [
    {
     "data": {
      "text/html": [
       "<style scoped>\n",
       "  .ansiout {\n",
       "    display: block;\n",
       "    unicode-bidi: embed;\n",
       "    white-space: pre-wrap;\n",
       "    word-wrap: break-word;\n",
       "    word-break: break-all;\n",
       "    font-family: \"Source Code Pro\", \"Menlo\", monospace;;\n",
       "    font-size: 13px;\n",
       "    color: #555;\n",
       "    margin-left: 4px;\n",
       "    line-height: 19px;\n",
       "  }\n",
       "</style>\n",
       "<div class=\"ansiout\"></div>"
      ]
     },
     "metadata": {
      "application/vnd.databricks.v1+output": {
       "addedWidgets": {},
       "arguments": {},
       "data": "<div class=\"ansiout\"></div>",
       "datasetInfos": [],
       "metadata": {},
       "removedWidgets": [],
       "type": "html"
      }
     },
     "output_type": "display_data"
    }
   ],
   "source": [
    "from sklearn.model_selection import train_test_split\n",
    "\n",
    "split_X = df_loaded.drop([target_col], axis=1)\n",
    "split_y = df_loaded[target_col]\n",
    "\n",
    "# Split out train data\n",
    "X_train, split_X_rem, y_train, split_y_rem = train_test_split(split_X, split_y, train_size=0.6, random_state=614601885, stratify=split_y)\n",
    "\n",
    "# Split remaining data equally for validation and test\n",
    "X_val, X_test, y_val, y_test = train_test_split(split_X_rem, split_y_rem, test_size=0.5, random_state=614601885, stratify=split_y_rem)"
   ]
  },
  {
   "cell_type": "markdown",
   "metadata": {
    "application/vnd.databricks.v1+cell": {
     "inputWidgets": {},
     "nuid": "25ba21cb-2489-407b-9ac1-bd04b895dd73",
     "showTitle": false,
     "title": ""
    }
   },
   "source": [
    "## Train classification model\n",
    "- Log relevant metrics to MLflow to track runs\n",
    "- All the runs are logged under [this MLflow experiment](#mlflow/experiments/2547542356846121/s?orderByKey=metrics.%60val_f1_score%60&orderByAsc=false)\n",
    "- Change the model parameters and re-run the training cell to log a different trial to the MLflow experiment\n",
    "- To view the full list of tunable hyperparameters, check the output of the cell below"
   ]
  },
  {
   "cell_type": "code",
   "execution_count": 0,
   "metadata": {
    "application/vnd.databricks.v1+cell": {
     "inputWidgets": {},
     "nuid": "4c8f34f8-8649-4869-8724-ce630d0515b5",
     "showTitle": false,
     "title": ""
    },
    "execution": {
     "iopub.execute_input": "2022-06-21T22:13:09.433663Z",
     "iopub.status.busy": "2022-06-21T22:13:09.432219Z",
     "iopub.status.idle": "2022-06-21T22:13:09.481058Z",
     "shell.execute_reply": "2022-06-21T22:13:09.482456Z"
    }
   },
   "outputs": [
    {
     "data": {
      "text/html": [
       "<style scoped>\n",
       "  .ansiout {\n",
       "    display: block;\n",
       "    unicode-bidi: embed;\n",
       "    white-space: pre-wrap;\n",
       "    word-wrap: break-word;\n",
       "    word-break: break-all;\n",
       "    font-family: \"Source Code Pro\", \"Menlo\", monospace;;\n",
       "    font-size: 13px;\n",
       "    color: #555;\n",
       "    margin-left: 4px;\n",
       "    line-height: 19px;\n",
       "  }\n",
       "</style>\n",
       "<div class=\"ansiout\">Help on class LGBMClassifier in module lightgbm.sklearn:\n",
       "\n",
       "class LGBMClassifier(sklearn.base.ClassifierMixin, LGBMModel)\n",
       "  LGBMClassifier(boosting_type: str = &#39;gbdt&#39;, num_leaves: int = 31, max_depth: int = -1, learning_rate: float = 0.1, n_estimators: int = 100, subsample_for_bin: int = 200000, objective: Union[str, Callable, NoneType] = None, class_weight: Union[Dict, str, NoneType] = None, min_split_gain: float = 0.0, min_child_weight: float = 0.001, min_child_samples: int = 20, subsample: float = 1.0, subsample_freq: int = 0, colsample_bytree: float = 1.0, reg_alpha: float = 0.0, reg_lambda: float = 0.0, random_state: Union[int, numpy.random.mtrand.RandomState, NoneType] = None, n_jobs: int = -1, silent: Union[bool, str] = &#39;warn&#39;, importance_type: str = &#39;split&#39;, **kwargs)\n",
       "  \n",
       "  LightGBM classifier.\n",
       "  \n",
       "  Method resolution order:\n",
       "      LGBMClassifier\n",
       "      sklearn.base.ClassifierMixin\n",
       "      LGBMModel\n",
       "      sklearn.base.BaseEstimator\n",
       "      builtins.object\n",
       "  \n",
       "  Methods defined here:\n",
       "  \n",
       "  fit(self, X, y, sample_weight=None, init_score=None, eval_set=None, eval_names=None, eval_sample_weight=None, eval_class_weight=None, eval_init_score=None, eval_metric=None, early_stopping_rounds=None, verbose=&#39;warn&#39;, feature_name=&#39;auto&#39;, categorical_feature=&#39;auto&#39;, callbacks=None, init_model=None)\n",
       "      Build a gradient boosting model from the training set (X, y).\n",
       "      \n",
       "      Parameters\n",
       "      ----------\n",
       "      X : array-like or sparse matrix of shape = [n_samples, n_features]\n",
       "          Input feature matrix.\n",
       "      y : array-like of shape = [n_samples]\n",
       "          The target values (class labels in classification, real numbers in regression).\n",
       "      sample_weight : array-like of shape = [n_samples] or None, optional (default=None)\n",
       "          Weights of training data.\n",
       "      init_score : array-like of shape = [n_samples] or shape = [n_samples * n_classes] (for multi-class task) or shape = [n_samples, n_classes] (for multi-class task) or None, optional (default=None)\n",
       "          Init score of training data.\n",
       "      eval_set : list or None, optional (default=None)\n",
       "          A list of (X, y) tuple pairs to use as validation sets.\n",
       "      eval_names : list of str, or None, optional (default=None)\n",
       "          Names of eval_set.\n",
       "      eval_sample_weight : list of array, or None, optional (default=None)\n",
       "          Weights of eval data.\n",
       "      eval_class_weight : list or None, optional (default=None)\n",
       "          Class weights of eval data.\n",
       "      eval_init_score : list of array, or None, optional (default=None)\n",
       "          Init score of eval data.\n",
       "      eval_metric : str, callable, list or None, optional (default=None)\n",
       "          If str, it should be a built-in evaluation metric to use.\n",
       "          If callable, it should be a custom evaluation metric, see note below for more details.\n",
       "          If list, it can be a list of built-in metrics, a list of custom evaluation metrics, or a mix of both.\n",
       "          In either case, the ``metric`` from the model parameters will be evaluated and used as well.\n",
       "          Default: &#39;l2&#39; for LGBMRegressor, &#39;logloss&#39; for LGBMClassifier, &#39;ndcg&#39; for LGBMRanker.\n",
       "      early_stopping_rounds : int or None, optional (default=None)\n",
       "          Activates early stopping. The model will train until the validation score stops improving.\n",
       "          Validation score needs to improve at least every ``early_stopping_rounds`` round(s)\n",
       "          to continue training.\n",
       "          Requires at least one validation data and one metric.\n",
       "          If there&#39;s more than one, will check all of them. But the training data is ignored anyway.\n",
       "          To check only the first metric, set the ``first_metric_only`` parameter to ``True``\n",
       "          in additional parameters ``**kwargs`` of the model constructor.\n",
       "      verbose : bool or int, optional (default=True)\n",
       "          Requires at least one evaluation data.\n",
       "          If True, the eval metric on the eval set is printed at each boosting stage.\n",
       "          If int, the eval metric on the eval set is printed at every ``verbose`` boosting stage.\n",
       "          The last boosting stage or the boosting stage found by using ``early_stopping_rounds`` is also printed.\n",
       "      \n",
       "          .. rubric:: Example\n",
       "      \n",
       "          With ``verbose`` = 4 and at least one item in ``eval_set``,\n",
       "          an evaluation metric is printed every 4 (instead of 1) boosting stages.\n",
       "      \n",
       "      feature_name : list of str, or &#39;auto&#39;, optional (default=&#39;auto&#39;)\n",
       "          Feature names.\n",
       "          If &#39;auto&#39; and data is pandas DataFrame, data columns names are used.\n",
       "      categorical_feature : list of str or int, or &#39;auto&#39;, optional (default=&#39;auto&#39;)\n",
       "          Categorical features.\n",
       "          If list of int, interpreted as indices.\n",
       "          If list of str, interpreted as feature names (need to specify ``feature_name`` as well).\n",
       "          If &#39;auto&#39; and data is pandas DataFrame, pandas unordered categorical columns are used.\n",
       "          All values in categorical features should be less than int32 max value (2147483647).\n",
       "          Large values could be memory consuming. Consider using consecutive integers starting from zero.\n",
       "          All negative values in categorical features will be treated as missing values.\n",
       "          The output cannot be monotonically constrained with respect to a categorical feature.\n",
       "      callbacks : list of callable, or None, optional (default=None)\n",
       "          List of callback functions that are applied at each iteration.\n",
       "          See Callbacks in Python API for more information.\n",
       "      init_model : str, pathlib.Path, Booster, LGBMModel or None, optional (default=None)\n",
       "          Filename of LightGBM model, Booster instance or LGBMModel instance used for continue training.\n",
       "      \n",
       "      Returns\n",
       "      -------\n",
       "      self : object\n",
       "          Returns self.\n",
       "      \n",
       "      \n",
       "      \n",
       "      Note\n",
       "      ----\n",
       "      Custom eval function expects a callable with following signatures:\n",
       "      ``func(y_true, y_pred)``, ``func(y_true, y_pred, weight)`` or\n",
       "      ``func(y_true, y_pred, weight, group)``\n",
       "      and returns (eval_name, eval_result, is_higher_better) or\n",
       "      list of (eval_name, eval_result, is_higher_better):\n",
       "      \n",
       "          y_true : array-like of shape = [n_samples]\n",
       "              The target values.\n",
       "          y_pred : array-like of shape = [n_samples] or shape = [n_samples * n_classes] (for multi-class task)\n",
       "              The predicted values.\n",
       "              In case of custom ``objective``, predicted values are returned before any transformation,\n",
       "              e.g. they are raw margin instead of probability of positive class for binary task in this case.\n",
       "          weight : array-like of shape = [n_samples]\n",
       "              The weight of samples.\n",
       "          group : array-like\n",
       "              Group/query data.\n",
       "              Only used in the learning-to-rank task.\n",
       "              sum(group) = n_samples.\n",
       "              For example, if you have a 100-document dataset with ``group = [10, 20, 40, 10, 10, 10]``, that means that you have 6 groups,\n",
       "              where the first 10 records are in the first group, records 11-30 are in the second group, records 31-70 are in the third group, etc.\n",
       "          eval_name : str\n",
       "              The name of evaluation function (without whitespace).\n",
       "          eval_result : float\n",
       "              The eval result.\n",
       "          is_higher_better : bool\n",
       "              Is eval result higher better, e.g. AUC is ``is_higher_better``.\n",
       "      \n",
       "      For multi-class task, the y_pred is group by class_id first, then group by row_id.\n",
       "      If you want to get i-th row y_pred in j-th class, the access way is y_pred[j * num_data + i].\n",
       "  \n",
       "  predict(self, X, raw_score=False, start_iteration=0, num_iteration=None, pred_leaf=False, pred_contrib=False, **kwargs)\n",
       "      Return the predicted value for each sample.\n",
       "      \n",
       "      Parameters\n",
       "      ----------\n",
       "      X : array-like or sparse matrix of shape = [n_samples, n_features]\n",
       "          Input features matrix.\n",
       "      raw_score : bool, optional (default=False)\n",
       "          Whether to predict raw scores.\n",
       "      start_iteration : int, optional (default=0)\n",
       "          Start index of the iteration to predict.\n",
       "          If &lt;= 0, starts from the first iteration.\n",
       "      num_iteration : int or None, optional (default=None)\n",
       "          Total number of iterations used in the prediction.\n",
       "          If None, if the best iteration exists and start_iteration &lt;= 0, the best iteration is used;\n",
       "          otherwise, all iterations from ``start_iteration`` are used (no limits).\n",
       "          If &lt;= 0, all iterations from ``start_iteration`` are used (no limits).\n",
       "      pred_leaf : bool, optional (default=False)\n",
       "          Whether to predict leaf index.\n",
       "      pred_contrib : bool, optional (default=False)\n",
       "          Whether to predict feature contributions.\n",
       "      \n",
       "          .. note::\n",
       "      \n",
       "              If you want to get more explanations for your model&#39;s predictions using SHAP values,\n",
       "              like SHAP interaction values,\n",
       "              you can install the shap package (https://github.com/slundberg/shap).\n",
       "              Note that unlike the shap package, with ``pred_contrib`` we return a matrix with an extra\n",
       "              column, where the last column is the expected value.\n",
       "      \n",
       "      **kwargs\n",
       "          Other parameters for the prediction.\n",
       "      \n",
       "      Returns\n",
       "      -------\n",
       "      predicted_result : array-like of shape = [n_samples] or shape = [n_samples, n_classes]\n",
       "          The predicted values.\n",
       "      X_leaves : array-like of shape = [n_samples, n_trees] or shape = [n_samples, n_trees * n_classes]\n",
       "          If ``pred_leaf=True``, the predicted leaf of every tree for each sample.\n",
       "      X_SHAP_values : array-like of shape = [n_samples, n_features + 1] or shape = [n_samples, (n_features + 1) * n_classes] or list with n_classes length of such objects\n",
       "          If ``pred_contrib=True``, the feature contributions for each sample.\n",
       "  \n",
       "  predict_proba(self, X, raw_score=False, start_iteration=0, num_iteration=None, pred_leaf=False, pred_contrib=False, **kwargs)\n",
       "      Return the predicted probability for each class for each sample.\n",
       "      \n",
       "      Parameters\n",
       "      ----------\n",
       "      X : array-like or sparse matrix of shape = [n_samples, n_features]\n",
       "          Input features matrix.\n",
       "      raw_score : bool, optional (default=False)\n",
       "          Whether to predict raw scores.\n",
       "      start_iteration : int, optional (default=0)\n",
       "          Start index of the iteration to predict.\n",
       "          If &lt;= 0, starts from the first iteration.\n",
       "      num_iteration : int or None, optional (default=None)\n",
       "          Total number of iterations used in the prediction.\n",
       "          If None, if the best iteration exists and start_iteration &lt;= 0, the best iteration is used;\n",
       "          otherwise, all iterations from ``start_iteration`` are used (no limits).\n",
       "          If &lt;= 0, all iterations from ``start_iteration`` are used (no limits).\n",
       "      pred_leaf : bool, optional (default=False)\n",
       "          Whether to predict leaf index.\n",
       "      pred_contrib : bool, optional (default=False)\n",
       "          Whether to predict feature contributions.\n",
       "      \n",
       "          .. note::\n",
       "      \n",
       "              If you want to get more explanations for your model&#39;s predictions using SHAP values,\n",
       "              like SHAP interaction values,\n",
       "              you can install the shap package (https://github.com/slundberg/shap).\n",
       "              Note that unlike the shap package, with ``pred_contrib`` we return a matrix with an extra\n",
       "              column, where the last column is the expected value.\n",
       "      \n",
       "      **kwargs\n",
       "          Other parameters for the prediction.\n",
       "      \n",
       "      Returns\n",
       "      -------\n",
       "      predicted_probability : array-like of shape = [n_samples] or shape = [n_samples, n_classes]\n",
       "          The predicted values.\n",
       "      X_leaves : array-like of shape = [n_samples, n_trees] or shape = [n_samples, n_trees * n_classes]\n",
       "          If ``pred_leaf=True``, the predicted leaf of every tree for each sample.\n",
       "      X_SHAP_values : array-like of shape = [n_samples, n_features + 1] or shape = [n_samples, (n_features + 1) * n_classes] or list with n_classes length of such objects\n",
       "          If ``pred_contrib=True``, the feature contributions for each sample.\n",
       "  \n",
       "  ----------------------------------------------------------------------\n",
       "  Readonly properties defined here:\n",
       "  \n",
       "  classes_\n",
       "      :obj:`array` of shape = [n_classes]: The class label array.\n",
       "  \n",
       "  n_classes_\n",
       "      :obj:`int`: The number of classes.\n",
       "  \n",
       "  ----------------------------------------------------------------------\n",
       "  Methods inherited from sklearn.base.ClassifierMixin:\n",
       "  \n",
       "  score(self, X, y, sample_weight=None)\n",
       "      Return the mean accuracy on the given test data and labels.\n",
       "      \n",
       "      In multi-label classification, this is the subset accuracy\n",
       "      which is a harsh metric since you require for each sample that\n",
       "      each label set be correctly predicted.\n",
       "      \n",
       "      Parameters\n",
       "      ----------\n",
       "      X : array-like of shape (n_samples, n_features)\n",
       "          Test samples.\n",
       "      \n",
       "      y : array-like of shape (n_samples,) or (n_samples, n_outputs)\n",
       "          True labels for `X`.\n",
       "      \n",
       "      sample_weight : array-like of shape (n_samples,), default=None\n",
       "          Sample weights.\n",
       "      \n",
       "      Returns\n",
       "      -------\n",
       "      score : float\n",
       "          Mean accuracy of ``self.predict(X)`` wrt. `y`.\n",
       "  \n",
       "  ----------------------------------------------------------------------\n",
       "  Data descriptors inherited from sklearn.base.ClassifierMixin:\n",
       "  \n",
       "  __dict__\n",
       "      dictionary for instance variables (if defined)\n",
       "  \n",
       "  __weakref__\n",
       "      list of weak references to the object (if defined)\n",
       "  \n",
       "  ----------------------------------------------------------------------\n",
       "  Methods inherited from LGBMModel:\n",
       "  \n",
       "  __init__(self, boosting_type: str = &#39;gbdt&#39;, num_leaves: int = 31, max_depth: int = -1, learning_rate: float = 0.1, n_estimators: int = 100, subsample_for_bin: int = 200000, objective: Union[str, Callable, NoneType] = None, class_weight: Union[Dict, str, NoneType] = None, min_split_gain: float = 0.0, min_child_weight: float = 0.001, min_child_samples: int = 20, subsample: float = 1.0, subsample_freq: int = 0, colsample_bytree: float = 1.0, reg_alpha: float = 0.0, reg_lambda: float = 0.0, random_state: Union[int, numpy.random.mtrand.RandomState, NoneType] = None, n_jobs: int = -1, silent: Union[bool, str] = &#39;warn&#39;, importance_type: str = &#39;split&#39;, **kwargs)\n",
       "      Construct a gradient boosting model.\n",
       "      \n",
       "      Parameters\n",
       "      ----------\n",
       "      boosting_type : str, optional (default=&#39;gbdt&#39;)\n",
       "          &#39;gbdt&#39;, traditional Gradient Boosting Decision Tree.\n",
       "          &#39;dart&#39;, Dropouts meet Multiple Additive Regression Trees.\n",
       "          &#39;goss&#39;, Gradient-based One-Side Sampling.\n",
       "          &#39;rf&#39;, Random Forest.\n",
       "      num_leaves : int, optional (default=31)\n",
       "          Maximum tree leaves for base learners.\n",
       "      max_depth : int, optional (default=-1)\n",
       "          Maximum tree depth for base learners, &lt;=0 means no limit.\n",
       "      learning_rate : float, optional (default=0.1)\n",
       "          Boosting learning rate.\n",
       "          You can use ``callbacks`` parameter of ``fit`` method to shrink/adapt learning rate\n",
       "          in training using ``reset_parameter`` callback.\n",
       "          Note, that this will ignore the ``learning_rate`` argument in training.\n",
       "      n_estimators : int, optional (default=100)\n",
       "          Number of boosted trees to fit.\n",
       "      subsample_for_bin : int, optional (default=200000)\n",
       "          Number of samples for constructing bins.\n",
       "      objective : str, callable or None, optional (default=None)\n",
       "          Specify the learning task and the corresponding learning objective or\n",
       "          a custom objective function to be used (see note below).\n",
       "          Default: &#39;regression&#39; for LGBMRegressor, &#39;binary&#39; or &#39;multiclass&#39; for LGBMClassifier, &#39;lambdarank&#39; for LGBMRanker.\n",
       "      class_weight : dict, &#39;balanced&#39; or None, optional (default=None)\n",
       "          Weights associated with classes in the form ``{class_label: weight}``.\n",
       "          Use this parameter only for multi-class classification task;\n",
       "          for binary classification task you may use ``is_unbalance`` or ``scale_pos_weight`` parameters.\n",
       "          Note, that the usage of all these parameters will result in poor estimates of the individual class probabilities.\n",
       "          You may want to consider performing probability calibration\n",
       "          (https://scikit-learn.org/stable/modules/calibration.html) of your model.\n",
       "          The &#39;balanced&#39; mode uses the values of y to automatically adjust weights\n",
       "          inversely proportional to class frequencies in the input data as ``n_samples / (n_classes * np.bincount(y))``.\n",
       "          If None, all classes are supposed to have weight one.\n",
       "          Note, that these weights will be multiplied with ``sample_weight`` (passed through the ``fit`` method)\n",
       "          if ``sample_weight`` is specified.\n",
       "      min_split_gain : float, optional (default=0.)\n",
       "          Minimum loss reduction required to make a further partition on a leaf node of the tree.\n",
       "      min_child_weight : float, optional (default=1e-3)\n",
       "          Minimum sum of instance weight (hessian) needed in a child (leaf).\n",
       "      min_child_samples : int, optional (default=20)\n",
       "          Minimum number of data needed in a child (leaf).\n",
       "      subsample : float, optional (default=1.)\n",
       "          Subsample ratio of the training instance.\n",
       "      subsample_freq : int, optional (default=0)\n",
       "          Frequency of subsample, &lt;=0 means no enable.\n",
       "      colsample_bytree : float, optional (default=1.)\n",
       "          Subsample ratio of columns when constructing each tree.\n",
       "      reg_alpha : float, optional (default=0.)\n",
       "          L1 regularization term on weights.\n",
       "      reg_lambda : float, optional (default=0.)\n",
       "          L2 regularization term on weights.\n",
       "      random_state : int, RandomState object or None, optional (default=None)\n",
       "          Random number seed.\n",
       "          If int, this number is used to seed the C++ code.\n",
       "          If RandomState object (numpy), a random integer is picked based on its state to seed the C++ code.\n",
       "          If None, default seeds in C++ code are used.\n",
       "      n_jobs : int, optional (default=-1)\n",
       "          Number of parallel threads.\n",
       "      silent : bool, optional (default=True)\n",
       "          Whether to print messages while running boosting.\n",
       "      importance_type : str, optional (default=&#39;split&#39;)\n",
       "          The type of feature importance to be filled into ``feature_importances_``.\n",
       "          If &#39;split&#39;, result contains numbers of times the feature is used in a model.\n",
       "          If &#39;gain&#39;, result contains total gains of splits which use the feature.\n",
       "      **kwargs\n",
       "          Other parameters for the model.\n",
       "          Check http://lightgbm.readthedocs.io/en/latest/Parameters.html for more parameters.\n",
       "      \n",
       "          .. warning::\n",
       "      \n",
       "              \\*\\*kwargs is not supported in sklearn, it may cause unexpected issues.\n",
       "      \n",
       "      Note\n",
       "      ----\n",
       "      A custom objective function can be provided for the ``objective`` parameter.\n",
       "      In this case, it should have the signature\n",
       "      ``objective(y_true, y_pred) -&gt; grad, hess`` or\n",
       "      ``objective(y_true, y_pred, group) -&gt; grad, hess``:\n",
       "      \n",
       "          y_true : array-like of shape = [n_samples]\n",
       "              The target values.\n",
       "          y_pred : array-like of shape = [n_samples] or shape = [n_samples * n_classes] (for multi-class task)\n",
       "              The predicted values.\n",
       "              Predicted values are returned before any transformation,\n",
       "              e.g. they are raw margin instead of probability of positive class for binary task.\n",
       "          group : array-like\n",
       "              Group/query data.\n",
       "              Only used in the learning-to-rank task.\n",
       "              sum(group) = n_samples.\n",
       "              For example, if you have a 100-document dataset with ``group = [10, 20, 40, 10, 10, 10]``, that means that you have 6 groups,\n",
       "              where the first 10 records are in the first group, records 11-30 are in the second group, records 31-70 are in the third group, etc.\n",
       "          grad : array-like of shape = [n_samples] or shape = [n_samples * n_classes] (for multi-class task)\n",
       "              The value of the first order derivative (gradient) of the loss\n",
       "              with respect to the elements of y_pred for each sample point.\n",
       "          hess : array-like of shape = [n_samples] or shape = [n_samples * n_classes] (for multi-class task)\n",
       "              The value of the second order derivative (Hessian) of the loss\n",
       "              with respect to the elements of y_pred for each sample point.\n",
       "      \n",
       "      For multi-class task, the y_pred is group by class_id first, then group by row_id.\n",
       "      If you want to get i-th row y_pred in j-th class, the access way is y_pred[j * num_data + i]\n",
       "      and you should group grad and hess in this way as well.\n",
       "  \n",
       "  __sklearn_is_fitted__(self) -&gt; bool\n",
       "  \n",
       "  get_params(self, deep=True)\n",
       "      Get parameters for this estimator.\n",
       "      \n",
       "      Parameters\n",
       "      ----------\n",
       "      deep : bool, optional (default=True)\n",
       "          If True, will return the parameters for this estimator and\n",
       "          contained subobjects that are estimators.\n",
       "      \n",
       "      Returns\n",
       "      -------\n",
       "      params : dict\n",
       "          Parameter names mapped to their values.\n",
       "  \n",
       "  set_params(self, **params)\n",
       "      Set the parameters of this estimator.\n",
       "      \n",
       "      Parameters\n",
       "      ----------\n",
       "      **params\n",
       "          Parameter names with their new values.\n",
       "      \n",
       "      Returns\n",
       "      -------\n",
       "      self : object\n",
       "          Returns self.\n",
       "  \n",
       "  ----------------------------------------------------------------------\n",
       "  Readonly properties inherited from LGBMModel:\n",
       "  \n",
       "  best_iteration_\n",
       "      :obj:`int` or :obj:`None`: The best iteration of fitted model if ``early_stopping()`` callback has been specified.\n",
       "  \n",
       "  best_score_\n",
       "      :obj:`dict`: The best score of fitted model.\n",
       "  \n",
       "  booster_\n",
       "      Booster: The underlying Booster of this model.\n",
       "  \n",
       "  evals_result_\n",
       "      :obj:`dict` or :obj:`None`: The evaluation results if validation sets have been specified.\n",
       "  \n",
       "  feature_importances_\n",
       "      :obj:`array` of shape = [n_features]: The feature importances (the higher, the more important).\n",
       "      \n",
       "      .. note::\n",
       "      \n",
       "          ``importance_type`` attribute is passed to the function\n",
       "          to configure the type of importance values to be extracted.\n",
       "  \n",
       "  feature_name_\n",
       "      :obj:`array` of shape = [n_features]: The names of features.\n",
       "  \n",
       "  n_features_\n",
       "      :obj:`int`: The number of features of fitted model.\n",
       "  \n",
       "  n_features_in_\n",
       "      :obj:`int`: The number of features of fitted model.\n",
       "  \n",
       "  objective_\n",
       "      :obj:`str` or :obj:`callable`: The concrete objective used while fitting this model.\n",
       "  \n",
       "  ----------------------------------------------------------------------\n",
       "  Methods inherited from sklearn.base.BaseEstimator:\n",
       "  \n",
       "  __getstate__(self)\n",
       "  \n",
       "  __repr__(self, N_CHAR_MAX=700)\n",
       "      Return repr(self).\n",
       "  \n",
       "  __setstate__(self, state)\n",
       "\n",
       "</div>"
      ]
     },
     "metadata": {
      "application/vnd.databricks.v1+output": {
       "addedWidgets": {},
       "arguments": {},
       "data": "<div class=\"ansiout\">Help on class LGBMClassifier in module lightgbm.sklearn:\n\nclass LGBMClassifier(sklearn.base.ClassifierMixin, LGBMModel)\n |  LGBMClassifier(boosting_type: str = &#39;gbdt&#39;, num_leaves: int = 31, max_depth: int = -1, learning_rate: float = 0.1, n_estimators: int = 100, subsample_for_bin: int = 200000, objective: Union[str, Callable, NoneType] = None, class_weight: Union[Dict, str, NoneType] = None, min_split_gain: float = 0.0, min_child_weight: float = 0.001, min_child_samples: int = 20, subsample: float = 1.0, subsample_freq: int = 0, colsample_bytree: float = 1.0, reg_alpha: float = 0.0, reg_lambda: float = 0.0, random_state: Union[int, numpy.random.mtrand.RandomState, NoneType] = None, n_jobs: int = -1, silent: Union[bool, str] = &#39;warn&#39;, importance_type: str = &#39;split&#39;, **kwargs)\n |  \n |  LightGBM classifier.\n |  \n |  Method resolution order:\n |      LGBMClassifier\n |      sklearn.base.ClassifierMixin\n |      LGBMModel\n |      sklearn.base.BaseEstimator\n |      builtins.object\n |  \n |  Methods defined here:\n |  \n |  fit(self, X, y, sample_weight=None, init_score=None, eval_set=None, eval_names=None, eval_sample_weight=None, eval_class_weight=None, eval_init_score=None, eval_metric=None, early_stopping_rounds=None, verbose=&#39;warn&#39;, feature_name=&#39;auto&#39;, categorical_feature=&#39;auto&#39;, callbacks=None, init_model=None)\n |      Build a gradient boosting model from the training set (X, y).\n |      \n |      Parameters\n |      ----------\n |      X : array-like or sparse matrix of shape = [n_samples, n_features]\n |          Input feature matrix.\n |      y : array-like of shape = [n_samples]\n |          The target values (class labels in classification, real numbers in regression).\n |      sample_weight : array-like of shape = [n_samples] or None, optional (default=None)\n |          Weights of training data.\n |      init_score : array-like of shape = [n_samples] or shape = [n_samples * n_classes] (for multi-class task) or shape = [n_samples, n_classes] (for multi-class task) or None, optional (default=None)\n |          Init score of training data.\n |      eval_set : list or None, optional (default=None)\n |          A list of (X, y) tuple pairs to use as validation sets.\n |      eval_names : list of str, or None, optional (default=None)\n |          Names of eval_set.\n |      eval_sample_weight : list of array, or None, optional (default=None)\n |          Weights of eval data.\n |      eval_class_weight : list or None, optional (default=None)\n |          Class weights of eval data.\n |      eval_init_score : list of array, or None, optional (default=None)\n |          Init score of eval data.\n |      eval_metric : str, callable, list or None, optional (default=None)\n |          If str, it should be a built-in evaluation metric to use.\n |          If callable, it should be a custom evaluation metric, see note below for more details.\n |          If list, it can be a list of built-in metrics, a list of custom evaluation metrics, or a mix of both.\n |          In either case, the ``metric`` from the model parameters will be evaluated and used as well.\n |          Default: &#39;l2&#39; for LGBMRegressor, &#39;logloss&#39; for LGBMClassifier, &#39;ndcg&#39; for LGBMRanker.\n |      early_stopping_rounds : int or None, optional (default=None)\n |          Activates early stopping. The model will train until the validation score stops improving.\n |          Validation score needs to improve at least every ``early_stopping_rounds`` round(s)\n |          to continue training.\n |          Requires at least one validation data and one metric.\n |          If there&#39;s more than one, will check all of them. But the training data is ignored anyway.\n |          To check only the first metric, set the ``first_metric_only`` parameter to ``True``\n |          in additional parameters ``**kwargs`` of the model constructor.\n |      verbose : bool or int, optional (default=True)\n |          Requires at least one evaluation data.\n |          If True, the eval metric on the eval set is printed at each boosting stage.\n |          If int, the eval metric on the eval set is printed at every ``verbose`` boosting stage.\n |          The last boosting stage or the boosting stage found by using ``early_stopping_rounds`` is also printed.\n |      \n |          .. rubric:: Example\n |      \n |          With ``verbose`` = 4 and at least one item in ``eval_set``,\n |          an evaluation metric is printed every 4 (instead of 1) boosting stages.\n |      \n |      feature_name : list of str, or &#39;auto&#39;, optional (default=&#39;auto&#39;)\n |          Feature names.\n |          If &#39;auto&#39; and data is pandas DataFrame, data columns names are used.\n |      categorical_feature : list of str or int, or &#39;auto&#39;, optional (default=&#39;auto&#39;)\n |          Categorical features.\n |          If list of int, interpreted as indices.\n |          If list of str, interpreted as feature names (need to specify ``feature_name`` as well).\n |          If &#39;auto&#39; and data is pandas DataFrame, pandas unordered categorical columns are used.\n |          All values in categorical features should be less than int32 max value (2147483647).\n |          Large values could be memory consuming. Consider using consecutive integers starting from zero.\n |          All negative values in categorical features will be treated as missing values.\n |          The output cannot be monotonically constrained with respect to a categorical feature.\n |      callbacks : list of callable, or None, optional (default=None)\n |          List of callback functions that are applied at each iteration.\n |          See Callbacks in Python API for more information.\n |      init_model : str, pathlib.Path, Booster, LGBMModel or None, optional (default=None)\n |          Filename of LightGBM model, Booster instance or LGBMModel instance used for continue training.\n |      \n |      Returns\n |      -------\n |      self : object\n |          Returns self.\n |      \n |      \n |      \n |      Note\n |      ----\n |      Custom eval function expects a callable with following signatures:\n |      ``func(y_true, y_pred)``, ``func(y_true, y_pred, weight)`` or\n |      ``func(y_true, y_pred, weight, group)``\n |      and returns (eval_name, eval_result, is_higher_better) or\n |      list of (eval_name, eval_result, is_higher_better):\n |      \n |          y_true : array-like of shape = [n_samples]\n |              The target values.\n |          y_pred : array-like of shape = [n_samples] or shape = [n_samples * n_classes] (for multi-class task)\n |              The predicted values.\n |              In case of custom ``objective``, predicted values are returned before any transformation,\n |              e.g. they are raw margin instead of probability of positive class for binary task in this case.\n |          weight : array-like of shape = [n_samples]\n |              The weight of samples.\n |          group : array-like\n |              Group/query data.\n |              Only used in the learning-to-rank task.\n |              sum(group) = n_samples.\n |              For example, if you have a 100-document dataset with ``group = [10, 20, 40, 10, 10, 10]``, that means that you have 6 groups,\n |              where the first 10 records are in the first group, records 11-30 are in the second group, records 31-70 are in the third group, etc.\n |          eval_name : str\n |              The name of evaluation function (without whitespace).\n |          eval_result : float\n |              The eval result.\n |          is_higher_better : bool\n |              Is eval result higher better, e.g. AUC is ``is_higher_better``.\n |      \n |      For multi-class task, the y_pred is group by class_id first, then group by row_id.\n |      If you want to get i-th row y_pred in j-th class, the access way is y_pred[j * num_data + i].\n |  \n |  predict(self, X, raw_score=False, start_iteration=0, num_iteration=None, pred_leaf=False, pred_contrib=False, **kwargs)\n |      Return the predicted value for each sample.\n |      \n |      Parameters\n |      ----------\n |      X : array-like or sparse matrix of shape = [n_samples, n_features]\n |          Input features matrix.\n |      raw_score : bool, optional (default=False)\n |          Whether to predict raw scores.\n |      start_iteration : int, optional (default=0)\n |          Start index of the iteration to predict.\n |          If &lt;= 0, starts from the first iteration.\n |      num_iteration : int or None, optional (default=None)\n |          Total number of iterations used in the prediction.\n |          If None, if the best iteration exists and start_iteration &lt;= 0, the best iteration is used;\n |          otherwise, all iterations from ``start_iteration`` are used (no limits).\n |          If &lt;= 0, all iterations from ``start_iteration`` are used (no limits).\n |      pred_leaf : bool, optional (default=False)\n |          Whether to predict leaf index.\n |      pred_contrib : bool, optional (default=False)\n |          Whether to predict feature contributions.\n |      \n |          .. note::\n |      \n |              If you want to get more explanations for your model&#39;s predictions using SHAP values,\n |              like SHAP interaction values,\n |              you can install the shap package (https://github.com/slundberg/shap).\n |              Note that unlike the shap package, with ``pred_contrib`` we return a matrix with an extra\n |              column, where the last column is the expected value.\n |      \n |      **kwargs\n |          Other parameters for the prediction.\n |      \n |      Returns\n |      -------\n |      predicted_result : array-like of shape = [n_samples] or shape = [n_samples, n_classes]\n |          The predicted values.\n |      X_leaves : array-like of shape = [n_samples, n_trees] or shape = [n_samples, n_trees * n_classes]\n |          If ``pred_leaf=True``, the predicted leaf of every tree for each sample.\n |      X_SHAP_values : array-like of shape = [n_samples, n_features + 1] or shape = [n_samples, (n_features + 1) * n_classes] or list with n_classes length of such objects\n |          If ``pred_contrib=True``, the feature contributions for each sample.\n |  \n |  predict_proba(self, X, raw_score=False, start_iteration=0, num_iteration=None, pred_leaf=False, pred_contrib=False, **kwargs)\n |      Return the predicted probability for each class for each sample.\n |      \n |      Parameters\n |      ----------\n |      X : array-like or sparse matrix of shape = [n_samples, n_features]\n |          Input features matrix.\n |      raw_score : bool, optional (default=False)\n |          Whether to predict raw scores.\n |      start_iteration : int, optional (default=0)\n |          Start index of the iteration to predict.\n |          If &lt;= 0, starts from the first iteration.\n |      num_iteration : int or None, optional (default=None)\n |          Total number of iterations used in the prediction.\n |          If None, if the best iteration exists and start_iteration &lt;= 0, the best iteration is used;\n |          otherwise, all iterations from ``start_iteration`` are used (no limits).\n |          If &lt;= 0, all iterations from ``start_iteration`` are used (no limits).\n |      pred_leaf : bool, optional (default=False)\n |          Whether to predict leaf index.\n |      pred_contrib : bool, optional (default=False)\n |          Whether to predict feature contributions.\n |      \n |          .. note::\n |      \n |              If you want to get more explanations for your model&#39;s predictions using SHAP values,\n |              like SHAP interaction values,\n |              you can install the shap package (https://github.com/slundberg/shap).\n |              Note that unlike the shap package, with ``pred_contrib`` we return a matrix with an extra\n |              column, where the last column is the expected value.\n |      \n |      **kwargs\n |          Other parameters for the prediction.\n |      \n |      Returns\n |      -------\n |      predicted_probability : array-like of shape = [n_samples] or shape = [n_samples, n_classes]\n |          The predicted values.\n |      X_leaves : array-like of shape = [n_samples, n_trees] or shape = [n_samples, n_trees * n_classes]\n |          If ``pred_leaf=True``, the predicted leaf of every tree for each sample.\n |      X_SHAP_values : array-like of shape = [n_samples, n_features + 1] or shape = [n_samples, (n_features + 1) * n_classes] or list with n_classes length of such objects\n |          If ``pred_contrib=True``, the feature contributions for each sample.\n |  \n |  ----------------------------------------------------------------------\n |  Readonly properties defined here:\n |  \n |  classes_\n |      :obj:`array` of shape = [n_classes]: The class label array.\n |  \n |  n_classes_\n |      :obj:`int`: The number of classes.\n |  \n |  ----------------------------------------------------------------------\n |  Methods inherited from sklearn.base.ClassifierMixin:\n |  \n |  score(self, X, y, sample_weight=None)\n |      Return the mean accuracy on the given test data and labels.\n |      \n |      In multi-label classification, this is the subset accuracy\n |      which is a harsh metric since you require for each sample that\n |      each label set be correctly predicted.\n |      \n |      Parameters\n |      ----------\n |      X : array-like of shape (n_samples, n_features)\n |          Test samples.\n |      \n |      y : array-like of shape (n_samples,) or (n_samples, n_outputs)\n |          True labels for `X`.\n |      \n |      sample_weight : array-like of shape (n_samples,), default=None\n |          Sample weights.\n |      \n |      Returns\n |      -------\n |      score : float\n |          Mean accuracy of ``self.predict(X)`` wrt. `y`.\n |  \n |  ----------------------------------------------------------------------\n |  Data descriptors inherited from sklearn.base.ClassifierMixin:\n |  \n |  __dict__\n |      dictionary for instance variables (if defined)\n |  \n |  __weakref__\n |      list of weak references to the object (if defined)\n |  \n |  ----------------------------------------------------------------------\n |  Methods inherited from LGBMModel:\n |  \n |  __init__(self, boosting_type: str = &#39;gbdt&#39;, num_leaves: int = 31, max_depth: int = -1, learning_rate: float = 0.1, n_estimators: int = 100, subsample_for_bin: int = 200000, objective: Union[str, Callable, NoneType] = None, class_weight: Union[Dict, str, NoneType] = None, min_split_gain: float = 0.0, min_child_weight: float = 0.001, min_child_samples: int = 20, subsample: float = 1.0, subsample_freq: int = 0, colsample_bytree: float = 1.0, reg_alpha: float = 0.0, reg_lambda: float = 0.0, random_state: Union[int, numpy.random.mtrand.RandomState, NoneType] = None, n_jobs: int = -1, silent: Union[bool, str] = &#39;warn&#39;, importance_type: str = &#39;split&#39;, **kwargs)\n |      Construct a gradient boosting model.\n |      \n |      Parameters\n |      ----------\n |      boosting_type : str, optional (default=&#39;gbdt&#39;)\n |          &#39;gbdt&#39;, traditional Gradient Boosting Decision Tree.\n |          &#39;dart&#39;, Dropouts meet Multiple Additive Regression Trees.\n |          &#39;goss&#39;, Gradient-based One-Side Sampling.\n |          &#39;rf&#39;, Random Forest.\n |      num_leaves : int, optional (default=31)\n |          Maximum tree leaves for base learners.\n |      max_depth : int, optional (default=-1)\n |          Maximum tree depth for base learners, &lt;=0 means no limit.\n |      learning_rate : float, optional (default=0.1)\n |          Boosting learning rate.\n |          You can use ``callbacks`` parameter of ``fit`` method to shrink/adapt learning rate\n |          in training using ``reset_parameter`` callback.\n |          Note, that this will ignore the ``learning_rate`` argument in training.\n |      n_estimators : int, optional (default=100)\n |          Number of boosted trees to fit.\n |      subsample_for_bin : int, optional (default=200000)\n |          Number of samples for constructing bins.\n |      objective : str, callable or None, optional (default=None)\n |          Specify the learning task and the corresponding learning objective or\n |          a custom objective function to be used (see note below).\n |          Default: &#39;regression&#39; for LGBMRegressor, &#39;binary&#39; or &#39;multiclass&#39; for LGBMClassifier, &#39;lambdarank&#39; for LGBMRanker.\n |      class_weight : dict, &#39;balanced&#39; or None, optional (default=None)\n |          Weights associated with classes in the form ``{class_label: weight}``.\n |          Use this parameter only for multi-class classification task;\n |          for binary classification task you may use ``is_unbalance`` or ``scale_pos_weight`` parameters.\n |          Note, that the usage of all these parameters will result in poor estimates of the individual class probabilities.\n |          You may want to consider performing probability calibration\n |          (https://scikit-learn.org/stable/modules/calibration.html) of your model.\n |          The &#39;balanced&#39; mode uses the values of y to automatically adjust weights\n |          inversely proportional to class frequencies in the input data as ``n_samples / (n_classes * np.bincount(y))``.\n |          If None, all classes are supposed to have weight one.\n |          Note, that these weights will be multiplied with ``sample_weight`` (passed through the ``fit`` method)\n |          if ``sample_weight`` is specified.\n |      min_split_gain : float, optional (default=0.)\n |          Minimum loss reduction required to make a further partition on a leaf node of the tree.\n |      min_child_weight : float, optional (default=1e-3)\n |          Minimum sum of instance weight (hessian) needed in a child (leaf).\n |      min_child_samples : int, optional (default=20)\n |          Minimum number of data needed in a child (leaf).\n |      subsample : float, optional (default=1.)\n |          Subsample ratio of the training instance.\n |      subsample_freq : int, optional (default=0)\n |          Frequency of subsample, &lt;=0 means no enable.\n |      colsample_bytree : float, optional (default=1.)\n |          Subsample ratio of columns when constructing each tree.\n |      reg_alpha : float, optional (default=0.)\n |          L1 regularization term on weights.\n |      reg_lambda : float, optional (default=0.)\n |          L2 regularization term on weights.\n |      random_state : int, RandomState object or None, optional (default=None)\n |          Random number seed.\n |          If int, this number is used to seed the C++ code.\n |          If RandomState object (numpy), a random integer is picked based on its state to seed the C++ code.\n |          If None, default seeds in C++ code are used.\n |      n_jobs : int, optional (default=-1)\n |          Number of parallel threads.\n |      silent : bool, optional (default=True)\n |          Whether to print messages while running boosting.\n |      importance_type : str, optional (default=&#39;split&#39;)\n |          The type of feature importance to be filled into ``feature_importances_``.\n |          If &#39;split&#39;, result contains numbers of times the feature is used in a model.\n |          If &#39;gain&#39;, result contains total gains of splits which use the feature.\n |      **kwargs\n |          Other parameters for the model.\n |          Check http://lightgbm.readthedocs.io/en/latest/Parameters.html for more parameters.\n |      \n |          .. warning::\n |      \n |              \\*\\*kwargs is not supported in sklearn, it may cause unexpected issues.\n |      \n |      Note\n |      ----\n |      A custom objective function can be provided for the ``objective`` parameter.\n |      In this case, it should have the signature\n |      ``objective(y_true, y_pred) -&gt; grad, hess`` or\n |      ``objective(y_true, y_pred, group) -&gt; grad, hess``:\n |      \n |          y_true : array-like of shape = [n_samples]\n |              The target values.\n |          y_pred : array-like of shape = [n_samples] or shape = [n_samples * n_classes] (for multi-class task)\n |              The predicted values.\n |              Predicted values are returned before any transformation,\n |              e.g. they are raw margin instead of probability of positive class for binary task.\n |          group : array-like\n |              Group/query data.\n |              Only used in the learning-to-rank task.\n |              sum(group) = n_samples.\n |              For example, if you have a 100-document dataset with ``group = [10, 20, 40, 10, 10, 10]``, that means that you have 6 groups,\n |              where the first 10 records are in the first group, records 11-30 are in the second group, records 31-70 are in the third group, etc.\n |          grad : array-like of shape = [n_samples] or shape = [n_samples * n_classes] (for multi-class task)\n |              The value of the first order derivative (gradient) of the loss\n |              with respect to the elements of y_pred for each sample point.\n |          hess : array-like of shape = [n_samples] or shape = [n_samples * n_classes] (for multi-class task)\n |              The value of the second order derivative (Hessian) of the loss\n |              with respect to the elements of y_pred for each sample point.\n |      \n |      For multi-class task, the y_pred is group by class_id first, then group by row_id.\n |      If you want to get i-th row y_pred in j-th class, the access way is y_pred[j * num_data + i]\n |      and you should group grad and hess in this way as well.\n |  \n |  __sklearn_is_fitted__(self) -&gt; bool\n |  \n |  get_params(self, deep=True)\n |      Get parameters for this estimator.\n |      \n |      Parameters\n |      ----------\n |      deep : bool, optional (default=True)\n |          If True, will return the parameters for this estimator and\n |          contained subobjects that are estimators.\n |      \n |      Returns\n |      -------\n |      params : dict\n |          Parameter names mapped to their values.\n |  \n |  set_params(self, **params)\n |      Set the parameters of this estimator.\n |      \n |      Parameters\n |      ----------\n |      **params\n |          Parameter names with their new values.\n |      \n |      Returns\n |      -------\n |      self : object\n |          Returns self.\n |  \n |  ----------------------------------------------------------------------\n |  Readonly properties inherited from LGBMModel:\n |  \n |  best_iteration_\n |      :obj:`int` or :obj:`None`: The best iteration of fitted model if ``early_stopping()`` callback has been specified.\n |  \n |  best_score_\n |      :obj:`dict`: The best score of fitted model.\n |  \n |  booster_\n |      Booster: The underlying Booster of this model.\n |  \n |  evals_result_\n |      :obj:`dict` or :obj:`None`: The evaluation results if validation sets have been specified.\n |  \n |  feature_importances_\n |      :obj:`array` of shape = [n_features]: The feature importances (the higher, the more important).\n |      \n |      .. note::\n |      \n |          ``importance_type`` attribute is passed to the function\n |          to configure the type of importance values to be extracted.\n |  \n |  feature_name_\n |      :obj:`array` of shape = [n_features]: The names of features.\n |  \n |  n_features_\n |      :obj:`int`: The number of features of fitted model.\n |  \n |  n_features_in_\n |      :obj:`int`: The number of features of fitted model.\n |  \n |  objective_\n |      :obj:`str` or :obj:`callable`: The concrete objective used while fitting this model.\n |  \n |  ----------------------------------------------------------------------\n |  Methods inherited from sklearn.base.BaseEstimator:\n |  \n |  __getstate__(self)\n |  \n |  __repr__(self, N_CHAR_MAX=700)\n |      Return repr(self).\n |  \n |  __setstate__(self, state)\n\n</div>",
       "datasetInfos": [],
       "metadata": {},
       "removedWidgets": [],
       "type": "html"
      }
     },
     "output_type": "display_data"
    }
   ],
   "source": [
    "from lightgbm import LGBMClassifier\n",
    "\n",
    "help(LGBMClassifier)"
   ]
  },
  {
   "cell_type": "code",
   "execution_count": 0,
   "metadata": {
    "application/vnd.databricks.v1+cell": {
     "inputWidgets": {},
     "nuid": "ab97e7a2-b57e-4a8c-8a8e-bc10a2dc85c3",
     "showTitle": false,
     "title": ""
    },
    "execution": {
     "iopub.execute_input": "2022-06-21T22:13:09.494941Z",
     "iopub.status.busy": "2022-06-21T22:13:09.494343Z",
     "iopub.status.idle": "2022-06-21T22:13:09.748219Z",
     "shell.execute_reply": "2022-06-21T22:13:09.746980Z"
    }
   },
   "outputs": [
    {
     "data": {
      "text/html": [
       "<style scoped>\n",
       "  .ansiout {\n",
       "    display: block;\n",
       "    unicode-bidi: embed;\n",
       "    white-space: pre-wrap;\n",
       "    word-wrap: break-word;\n",
       "    word-break: break-all;\n",
       "    font-family: \"Source Code Pro\", \"Menlo\", monospace;;\n",
       "    font-size: 13px;\n",
       "    color: #555;\n",
       "    margin-left: 4px;\n",
       "    line-height: 19px;\n",
       "  }\n",
       "</style>\n",
       "<div class=\"ansiout\">Out[11]: </div>"
      ]
     },
     "metadata": {
      "application/vnd.databricks.v1+output": {
       "addedWidgets": {},
       "arguments": {},
       "data": "<div class=\"ansiout\">Out[11]: </div>",
       "datasetInfos": [],
       "metadata": {},
       "removedWidgets": [],
       "type": "html"
      }
     },
     "output_type": "display_data"
    },
    {
     "data": {
      "text/html": [
       "<style>div.sk-top-container {color: black;background-color: white;}div.sk-toggleable {background-color: white;}label.sk-toggleable__label {cursor: pointer;display: block;width: 100%;margin-bottom: 0;padding: 0.2em 0.3em;box-sizing: border-box;text-align: center;}div.sk-toggleable__content {max-height: 0;max-width: 0;overflow: hidden;text-align: left;background-color: #f0f8ff;}div.sk-toggleable__content pre {margin: 0.2em;color: black;border-radius: 0.25em;background-color: #f0f8ff;}input.sk-toggleable__control:checked~div.sk-toggleable__content {max-height: 200px;max-width: 100%;overflow: auto;}div.sk-estimator input.sk-toggleable__control:checked~label.sk-toggleable__label {background-color: #d4ebff;}div.sk-label input.sk-toggleable__control:checked~label.sk-toggleable__label {background-color: #d4ebff;}input.sk-hidden--visually {border: 0;clip: rect(1px 1px 1px 1px);clip: rect(1px, 1px, 1px, 1px);height: 1px;margin: -1px;overflow: hidden;padding: 0;position: absolute;width: 1px;}div.sk-estimator {font-family: monospace;background-color: #f0f8ff;margin: 0.25em 0.25em;border: 1px dotted black;border-radius: 0.25em;box-sizing: border-box;}div.sk-estimator:hover {background-color: #d4ebff;}div.sk-parallel-item::after {content: \"\";width: 100%;border-bottom: 1px solid gray;flex-grow: 1;}div.sk-label:hover label.sk-toggleable__label {background-color: #d4ebff;}div.sk-serial::before {content: \"\";position: absolute;border-left: 1px solid gray;box-sizing: border-box;top: 2em;bottom: 0;left: 50%;}div.sk-serial {display: flex;flex-direction: column;align-items: center;background-color: white;}div.sk-item {z-index: 1;}div.sk-parallel {display: flex;align-items: stretch;justify-content: center;background-color: white;}div.sk-parallel-item {display: flex;flex-direction: column;position: relative;background-color: white;}div.sk-parallel-item:first-child::after {align-self: flex-end;width: 50%;}div.sk-parallel-item:last-child::after {align-self: flex-start;width: 50%;}div.sk-parallel-item:only-child::after {width: 0;}div.sk-dashed-wrapped {border: 1px dashed gray;margin: 0.2em;box-sizing: border-box;padding-bottom: 0.1em;background-color: white;position: relative;}div.sk-label label {font-family: monospace;font-weight: bold;background-color: white;display: inline-block;line-height: 1.2em;}div.sk-label-container {position: relative;z-index: 2;text-align: center;}div.sk-container {display: inline-block;position: relative;}</style><div class=\"sk-top-container\"><div class=\"sk-container\"><div class=\"sk-item sk-dashed-wrapped\"><div class=\"sk-label-container\"><div class=\"sk-label sk-toggleable\"><input class=\"sk-toggleable__control sk-hidden--visually\" id=\"160f6017-5191-4058-81f0-a00ce8a31640\" type=\"checkbox\" ><label class=\"sk-toggleable__label\" for=\"160f6017-5191-4058-81f0-a00ce8a31640\">Pipeline</label><div class=\"sk-toggleable__content\"><pre>Pipeline(steps=[('column_selector',\n",
       "                 ColumnSelector(cols=['company', 'LS_GAS', 'Permanently_Closed',\n",
       "                                      'Difference', 'Number_of_Results',\n",
       "                                      'LS_State', 'Number_of_Reviews',\n",
       "                                      'Results_From_Wikipedia',\n",
       "                                      'LS_Self_Graded_Credit',\n",
       "                                      'LS_Amount_to_Borrow',\n",
       "                                      'Number_of_technologies', 'Rating',\n",
       "                                      'Mean_monthly_mortgage_and_owner_costs',\n",
       "                                      'Number_of_socials', 'Rent_mean',\n",
       "                                      'Average_year...\n",
       "                ('standardizer', StandardScaler()),\n",
       "                ('classifier',\n",
       "                 LGBMClassifier(colsample_bytree=0.7458314364406566,\n",
       "                                lambda_l1=1.8593828358605584,\n",
       "                                lambda_l2=0.3701904479666098,\n",
       "                                learning_rate=4.315948263029916, max_bin=243,\n",
       "                                max_depth=11, min_child_samples=38,\n",
       "                                n_estimators=239, num_leaves=9,\n",
       "                                path_smooth=14.257096191768284,\n",
       "                                random_state=614601885,\n",
       "                                subsample=0.5488548439204592))])</pre></div></div></div><div class=\"sk-serial\"><div class=\"sk-item\"><div class=\"sk-estimator sk-toggleable\"><input class=\"sk-toggleable__control sk-hidden--visually\" id=\"6e3be54b-5f50-411e-ba63-88a763492e07\" type=\"checkbox\" ><label class=\"sk-toggleable__label\" for=\"6e3be54b-5f50-411e-ba63-88a763492e07\">ColumnSelector</label><div class=\"sk-toggleable__content\"><pre>ColumnSelector(cols=['company', 'LS_GAS', 'Permanently_Closed', 'Difference',\n",
       "                     'Number_of_Results', 'LS_State', 'Number_of_Reviews',\n",
       "                     'Results_From_Wikipedia', 'LS_Self_Graded_Credit',\n",
       "                     'LS_Amount_to_Borrow', 'Number_of_technologies', 'Rating',\n",
       "                     'Mean_monthly_mortgage_and_owner_costs',\n",
       "                     'Number_of_socials', 'Rent_mean',\n",
       "                     'Average_years_employees_work_at_company',\n",
       "                     'Web_Ad_Outlet_code', 'Confidence_Score', 'Is_established',\n",
       "                     'Web_Ad_Outlet_Source_code', 'Company_credit_score',\n",
       "                     'Map_Exists', 'Has_Customer_Service', 'address',\n",
       "                     'NAICS_sector_code', 'Mean_employee_age',\n",
       "                     'Average_annual_income_per_household', 'Email_domain'])</pre></div></div></div><div class=\"sk-item sk-dashed-wrapped\"><div class=\"sk-label-container\"><div class=\"sk-label sk-toggleable\"><input class=\"sk-toggleable__control sk-hidden--visually\" id=\"69864bf2-1adf-4714-a227-bc73613e3dde\" type=\"checkbox\" ><label class=\"sk-toggleable__label\" for=\"69864bf2-1adf-4714-a227-bc73613e3dde\">preprocessor: ColumnTransformer</label><div class=\"sk-toggleable__content\"><pre>ColumnTransformer(remainder='passthrough', sparse_threshold=0,\n",
       "                  transformers=[('numerical',\n",
       "                                 Pipeline(steps=[('converter',\n",
       "                                                  FunctionTransformer(func=<function <lambda> at 0x7f6374d22310>)),\n",
       "                                                 ('imputers',\n",
       "                                                  ColumnTransformer(sparse_threshold=0,\n",
       "                                                                    transformers=[('impute_mean',\n",
       "                                                                                   SimpleImputer(),\n",
       "                                                                                   ['Average_annual_income_per_household',\n",
       "                                                                                    'Average_years_employees_work_at_compa...\n",
       "                                                  ColumnTransformer(remainder='passthrough',\n",
       "                                                                    sparse_threshold=0,\n",
       "                                                                    transformers=[])),\n",
       "                                                 ('one_hot_encoder',\n",
       "                                                  OneHotEncoder(handle_unknown='ignore'))]),\n",
       "                                 ['Confidence_Score', 'Email_domain',\n",
       "                                  'Has_Customer_Service', 'Is_established',\n",
       "                                  'LS_Self_Graded_Credit', 'Map_Exists',\n",
       "                                  'Number_of_socials', 'Permanently_Closed',\n",
       "                                  'Results_From_Wikipedia',\n",
       "                                  'Web_Ad_Outlet_Source_code', 'address',\n",
       "                                  'company'])])</pre></div></div></div><div class=\"sk-parallel\"><div class=\"sk-parallel-item\"><div class=\"sk-item\"><div class=\"sk-label-container\"><div class=\"sk-label sk-toggleable\"><input class=\"sk-toggleable__control sk-hidden--visually\" id=\"163399ed-5cdc-448d-a4a7-687a5673d075\" type=\"checkbox\" ><label class=\"sk-toggleable__label\" for=\"163399ed-5cdc-448d-a4a7-687a5673d075\">numerical</label><div class=\"sk-toggleable__content\"><pre>['Rent_mean', 'Average_years_employees_work_at_company', 'LS_State', 'Number_of_Reviews', 'Company_credit_score', 'LS_GAS', 'LS_Amount_to_Borrow', 'Number_of_technologies', 'Difference', 'NAICS_sector_code', 'Web_Ad_Outlet_code', 'Mean_employee_age', 'Average_annual_income_per_household', 'Rating', 'Mean_monthly_mortgage_and_owner_costs', 'Number_of_Results']</pre></div></div></div><div class=\"sk-serial\"><div class=\"sk-item\"><div class=\"sk-serial\"><div class=\"sk-item\"><div class=\"sk-estimator sk-toggleable\"><input class=\"sk-toggleable__control sk-hidden--visually\" id=\"8e4724a1-baeb-47c3-b74e-23fe19d81843\" type=\"checkbox\" ><label class=\"sk-toggleable__label\" for=\"8e4724a1-baeb-47c3-b74e-23fe19d81843\">FunctionTransformer</label><div class=\"sk-toggleable__content\"><pre>FunctionTransformer(func=<function <lambda> at 0x7f6374d22310>)</pre></div></div></div><div class=\"sk-item sk-dashed-wrapped\"><div class=\"sk-label-container\"><div class=\"sk-label sk-toggleable\"><input class=\"sk-toggleable__control sk-hidden--visually\" id=\"709b59b2-31e8-452d-86eb-8b10b6d61c08\" type=\"checkbox\" ><label class=\"sk-toggleable__label\" for=\"709b59b2-31e8-452d-86eb-8b10b6d61c08\">imputers: ColumnTransformer</label><div class=\"sk-toggleable__content\"><pre>ColumnTransformer(sparse_threshold=0,\n",
       "                  transformers=[('impute_mean', SimpleImputer(),\n",
       "                                 ['Average_annual_income_per_household',\n",
       "                                  'Average_years_employees_work_at_company',\n",
       "                                  'Company_credit_score', 'Difference',\n",
       "                                  'LS_Amount_to_Borrow', 'LS_GAS', 'LS_State',\n",
       "                                  'Mean_employee_age',\n",
       "                                  'Mean_monthly_mortgage_and_owner_costs',\n",
       "                                  'NAICS_sector_code', 'Number_of_Results',\n",
       "                                  'Number_of_Reviews', 'Number_of_technologies',\n",
       "                                  'Rating', 'Rent_mean',\n",
       "                                  'Web_Ad_Outlet_code'])])</pre></div></div></div><div class=\"sk-parallel\"><div class=\"sk-parallel-item\"><div class=\"sk-item\"><div class=\"sk-label-container\"><div class=\"sk-label sk-toggleable\"><input class=\"sk-toggleable__control sk-hidden--visually\" id=\"74b071c8-e80d-4863-9b93-6557051471cc\" type=\"checkbox\" ><label class=\"sk-toggleable__label\" for=\"74b071c8-e80d-4863-9b93-6557051471cc\">impute_mean</label><div class=\"sk-toggleable__content\"><pre>['Average_annual_income_per_household', 'Average_years_employees_work_at_company', 'Company_credit_score', 'Difference', 'LS_Amount_to_Borrow', 'LS_GAS', 'LS_State', 'Mean_employee_age', 'Mean_monthly_mortgage_and_owner_costs', 'NAICS_sector_code', 'Number_of_Results', 'Number_of_Reviews', 'Number_of_technologies', 'Rating', 'Rent_mean', 'Web_Ad_Outlet_code']</pre></div></div></div><div class=\"sk-serial\"><div class=\"sk-item\"><div class=\"sk-estimator sk-toggleable\"><input class=\"sk-toggleable__control sk-hidden--visually\" id=\"db6e43b7-ec0d-4a88-bdf1-62245eb82cf4\" type=\"checkbox\" ><label class=\"sk-toggleable__label\" for=\"db6e43b7-ec0d-4a88-bdf1-62245eb82cf4\">SimpleImputer</label><div class=\"sk-toggleable__content\"><pre>SimpleImputer()</pre></div></div></div></div></div></div></div></div></div></div></div></div></div><div class=\"sk-parallel-item\"><div class=\"sk-item\"><div class=\"sk-label-container\"><div class=\"sk-label sk-toggleable\"><input class=\"sk-toggleable__control sk-hidden--visually\" id=\"36dc6496-0387-4b85-ad56-119b2760f06d\" type=\"checkbox\" ><label class=\"sk-toggleable__label\" for=\"36dc6496-0387-4b85-ad56-119b2760f06d\">onehot</label><div class=\"sk-toggleable__content\"><pre>['Confidence_Score', 'Email_domain', 'Has_Customer_Service', 'Is_established', 'LS_Self_Graded_Credit', 'Map_Exists', 'Number_of_socials', 'Permanently_Closed', 'Results_From_Wikipedia', 'Web_Ad_Outlet_Source_code', 'address', 'company']</pre></div></div></div><div class=\"sk-serial\"><div class=\"sk-item\"><div class=\"sk-serial\"><div class=\"sk-item sk-dashed-wrapped\"><div class=\"sk-label-container\"><div class=\"sk-label sk-toggleable\"><input class=\"sk-toggleable__control sk-hidden--visually\" id=\"4dc23b0b-c055-4a2b-a281-2c717044e902\" type=\"checkbox\" ><label class=\"sk-toggleable__label\" for=\"4dc23b0b-c055-4a2b-a281-2c717044e902\">imputers: ColumnTransformer</label><div class=\"sk-toggleable__content\"><pre>ColumnTransformer(remainder='passthrough', sparse_threshold=0, transformers=[])</pre></div></div></div><div class=\"sk-parallel\"><div class=\"sk-parallel-item\"><div class=\"sk-item\"><div class=\"sk-label-container\"><div class=\"sk-label sk-toggleable\"><input class=\"sk-toggleable__control sk-hidden--visually\" id=\"1e2b9c07-383f-4941-b53b-6e27958eaed1\" type=\"checkbox\" ><label class=\"sk-toggleable__label\" for=\"1e2b9c07-383f-4941-b53b-6e27958eaed1\">remainder</label><div class=\"sk-toggleable__content\"><pre></pre></div></div></div><div class=\"sk-serial\"><div class=\"sk-item\"><div class=\"sk-estimator sk-toggleable\"><input class=\"sk-toggleable__control sk-hidden--visually\" id=\"a5e32b47-3977-4d5a-8689-70fcac5e6466\" type=\"checkbox\" ><label class=\"sk-toggleable__label\" for=\"a5e32b47-3977-4d5a-8689-70fcac5e6466\">passthrough</label><div class=\"sk-toggleable__content\"><pre>passthrough</pre></div></div></div></div></div></div></div></div><div class=\"sk-item\"><div class=\"sk-estimator sk-toggleable\"><input class=\"sk-toggleable__control sk-hidden--visually\" id=\"e397413c-f2bf-43de-9ee5-cc4aa9158317\" type=\"checkbox\" ><label class=\"sk-toggleable__label\" for=\"e397413c-f2bf-43de-9ee5-cc4aa9158317\">OneHotEncoder</label><div class=\"sk-toggleable__content\"><pre>OneHotEncoder(handle_unknown='ignore')</pre></div></div></div></div></div></div></div></div><div class=\"sk-parallel-item\"><div class=\"sk-item\"><div class=\"sk-label-container\"><div class=\"sk-label sk-toggleable\"><input class=\"sk-toggleable__control sk-hidden--visually\" id=\"70d5473c-5492-44e4-9f9e-303aaf09617e\" type=\"checkbox\" ><label class=\"sk-toggleable__label\" for=\"70d5473c-5492-44e4-9f9e-303aaf09617e\">remainder</label><div class=\"sk-toggleable__content\"><pre>[['company', 'LS_GAS', 'Permanently_Closed', 'Difference', 'Number_of_Results', 'LS_State', 'Number_of_Reviews', 'Results_From_Wikipedia', 'LS_Self_Graded_Credit', 'LS_Amount_to_Borrow', 'Number_of_technologies', 'Rating', 'Mean_monthly_mortgage_and_owner_costs', 'Number_of_socials', 'Rent_mean', 'Average_years_employees_work_at_company', 'Web_Ad_Outlet_code', 'Confidence_Score', 'Is_established', 'Web_Ad_Outlet_Source_code', 'Company_credit_score', 'Map_Exists', 'Has_Customer_Service', 'address', 'NAICS_sector_code', 'Mean_employee_age', 'Average_annual_income_per_household', 'Email_domain']]</pre></div></div></div><div class=\"sk-serial\"><div class=\"sk-item\"><div class=\"sk-estimator sk-toggleable\"><input class=\"sk-toggleable__control sk-hidden--visually\" id=\"14d1b752-677b-49a0-8202-ead125ab2364\" type=\"checkbox\" ><label class=\"sk-toggleable__label\" for=\"14d1b752-677b-49a0-8202-ead125ab2364\">passthrough</label><div class=\"sk-toggleable__content\"><pre>passthrough</pre></div></div></div></div></div></div></div></div><div class=\"sk-item\"><div class=\"sk-estimator sk-toggleable\"><input class=\"sk-toggleable__control sk-hidden--visually\" id=\"0ce9a146-d202-4691-a102-34b6cf788432\" type=\"checkbox\" ><label class=\"sk-toggleable__label\" for=\"0ce9a146-d202-4691-a102-34b6cf788432\">StandardScaler</label><div class=\"sk-toggleable__content\"><pre>StandardScaler()</pre></div></div></div><div class=\"sk-item\"><div class=\"sk-estimator sk-toggleable\"><input class=\"sk-toggleable__control sk-hidden--visually\" id=\"d5597be4-a48d-4688-9840-19b8da3da2ef\" type=\"checkbox\" ><label class=\"sk-toggleable__label\" for=\"d5597be4-a48d-4688-9840-19b8da3da2ef\">LGBMClassifier</label><div class=\"sk-toggleable__content\"><pre>LGBMClassifier(colsample_bytree=0.7458314364406566,\n",
       "               lambda_l1=1.8593828358605584, lambda_l2=0.3701904479666098,\n",
       "               learning_rate=4.315948263029916, max_bin=243, max_depth=11,\n",
       "               min_child_samples=38, n_estimators=239, num_leaves=9,\n",
       "               path_smooth=14.257096191768284, random_state=614601885,\n",
       "               subsample=0.5488548439204592)</pre></div></div></div></div></div></div></div>"
      ]
     },
     "metadata": {
      "application/vnd.databricks.v1+output": {
       "addedWidgets": {},
       "arguments": {},
       "data": "<style>div.sk-top-container {color: black;background-color: white;}div.sk-toggleable {background-color: white;}label.sk-toggleable__label {cursor: pointer;display: block;width: 100%;margin-bottom: 0;padding: 0.2em 0.3em;box-sizing: border-box;text-align: center;}div.sk-toggleable__content {max-height: 0;max-width: 0;overflow: hidden;text-align: left;background-color: #f0f8ff;}div.sk-toggleable__content pre {margin: 0.2em;color: black;border-radius: 0.25em;background-color: #f0f8ff;}input.sk-toggleable__control:checked~div.sk-toggleable__content {max-height: 200px;max-width: 100%;overflow: auto;}div.sk-estimator input.sk-toggleable__control:checked~label.sk-toggleable__label {background-color: #d4ebff;}div.sk-label input.sk-toggleable__control:checked~label.sk-toggleable__label {background-color: #d4ebff;}input.sk-hidden--visually {border: 0;clip: rect(1px 1px 1px 1px);clip: rect(1px, 1px, 1px, 1px);height: 1px;margin: -1px;overflow: hidden;padding: 0;position: absolute;width: 1px;}div.sk-estimator {font-family: monospace;background-color: #f0f8ff;margin: 0.25em 0.25em;border: 1px dotted black;border-radius: 0.25em;box-sizing: border-box;}div.sk-estimator:hover {background-color: #d4ebff;}div.sk-parallel-item::after {content: \"\";width: 100%;border-bottom: 1px solid gray;flex-grow: 1;}div.sk-label:hover label.sk-toggleable__label {background-color: #d4ebff;}div.sk-serial::before {content: \"\";position: absolute;border-left: 1px solid gray;box-sizing: border-box;top: 2em;bottom: 0;left: 50%;}div.sk-serial {display: flex;flex-direction: column;align-items: center;background-color: white;}div.sk-item {z-index: 1;}div.sk-parallel {display: flex;align-items: stretch;justify-content: center;background-color: white;}div.sk-parallel-item {display: flex;flex-direction: column;position: relative;background-color: white;}div.sk-parallel-item:first-child::after {align-self: flex-end;width: 50%;}div.sk-parallel-item:last-child::after {align-self: flex-start;width: 50%;}div.sk-parallel-item:only-child::after {width: 0;}div.sk-dashed-wrapped {border: 1px dashed gray;margin: 0.2em;box-sizing: border-box;padding-bottom: 0.1em;background-color: white;position: relative;}div.sk-label label {font-family: monospace;font-weight: bold;background-color: white;display: inline-block;line-height: 1.2em;}div.sk-label-container {position: relative;z-index: 2;text-align: center;}div.sk-container {display: inline-block;position: relative;}</style><div class=\"sk-top-container\"><div class=\"sk-container\"><div class=\"sk-item sk-dashed-wrapped\"><div class=\"sk-label-container\"><div class=\"sk-label sk-toggleable\"><input class=\"sk-toggleable__control sk-hidden--visually\" id=\"160f6017-5191-4058-81f0-a00ce8a31640\" type=\"checkbox\" ><label class=\"sk-toggleable__label\" for=\"160f6017-5191-4058-81f0-a00ce8a31640\">Pipeline</label><div class=\"sk-toggleable__content\"><pre>Pipeline(steps=[('column_selector',\n                 ColumnSelector(cols=['company', 'LS_GAS', 'Permanently_Closed',\n                                      'Difference', 'Number_of_Results',\n                                      'LS_State', 'Number_of_Reviews',\n                                      'Results_From_Wikipedia',\n                                      'LS_Self_Graded_Credit',\n                                      'LS_Amount_to_Borrow',\n                                      'Number_of_technologies', 'Rating',\n                                      'Mean_monthly_mortgage_and_owner_costs',\n                                      'Number_of_socials', 'Rent_mean',\n                                      'Average_year...\n                ('standardizer', StandardScaler()),\n                ('classifier',\n                 LGBMClassifier(colsample_bytree=0.7458314364406566,\n                                lambda_l1=1.8593828358605584,\n                                lambda_l2=0.3701904479666098,\n                                learning_rate=4.315948263029916, max_bin=243,\n                                max_depth=11, min_child_samples=38,\n                                n_estimators=239, num_leaves=9,\n                                path_smooth=14.257096191768284,\n                                random_state=614601885,\n                                subsample=0.5488548439204592))])</pre></div></div></div><div class=\"sk-serial\"><div class=\"sk-item\"><div class=\"sk-estimator sk-toggleable\"><input class=\"sk-toggleable__control sk-hidden--visually\" id=\"6e3be54b-5f50-411e-ba63-88a763492e07\" type=\"checkbox\" ><label class=\"sk-toggleable__label\" for=\"6e3be54b-5f50-411e-ba63-88a763492e07\">ColumnSelector</label><div class=\"sk-toggleable__content\"><pre>ColumnSelector(cols=['company', 'LS_GAS', 'Permanently_Closed', 'Difference',\n                     'Number_of_Results', 'LS_State', 'Number_of_Reviews',\n                     'Results_From_Wikipedia', 'LS_Self_Graded_Credit',\n                     'LS_Amount_to_Borrow', 'Number_of_technologies', 'Rating',\n                     'Mean_monthly_mortgage_and_owner_costs',\n                     'Number_of_socials', 'Rent_mean',\n                     'Average_years_employees_work_at_company',\n                     'Web_Ad_Outlet_code', 'Confidence_Score', 'Is_established',\n                     'Web_Ad_Outlet_Source_code', 'Company_credit_score',\n                     'Map_Exists', 'Has_Customer_Service', 'address',\n                     'NAICS_sector_code', 'Mean_employee_age',\n                     'Average_annual_income_per_household', 'Email_domain'])</pre></div></div></div><div class=\"sk-item sk-dashed-wrapped\"><div class=\"sk-label-container\"><div class=\"sk-label sk-toggleable\"><input class=\"sk-toggleable__control sk-hidden--visually\" id=\"69864bf2-1adf-4714-a227-bc73613e3dde\" type=\"checkbox\" ><label class=\"sk-toggleable__label\" for=\"69864bf2-1adf-4714-a227-bc73613e3dde\">preprocessor: ColumnTransformer</label><div class=\"sk-toggleable__content\"><pre>ColumnTransformer(remainder='passthrough', sparse_threshold=0,\n                  transformers=[('numerical',\n                                 Pipeline(steps=[('converter',\n                                                  FunctionTransformer(func=<function <lambda> at 0x7f6374d22310>)),\n                                                 ('imputers',\n                                                  ColumnTransformer(sparse_threshold=0,\n                                                                    transformers=[('impute_mean',\n                                                                                   SimpleImputer(),\n                                                                                   ['Average_annual_income_per_household',\n                                                                                    'Average_years_employees_work_at_compa...\n                                                  ColumnTransformer(remainder='passthrough',\n                                                                    sparse_threshold=0,\n                                                                    transformers=[])),\n                                                 ('one_hot_encoder',\n                                                  OneHotEncoder(handle_unknown='ignore'))]),\n                                 ['Confidence_Score', 'Email_domain',\n                                  'Has_Customer_Service', 'Is_established',\n                                  'LS_Self_Graded_Credit', 'Map_Exists',\n                                  'Number_of_socials', 'Permanently_Closed',\n                                  'Results_From_Wikipedia',\n                                  'Web_Ad_Outlet_Source_code', 'address',\n                                  'company'])])</pre></div></div></div><div class=\"sk-parallel\"><div class=\"sk-parallel-item\"><div class=\"sk-item\"><div class=\"sk-label-container\"><div class=\"sk-label sk-toggleable\"><input class=\"sk-toggleable__control sk-hidden--visually\" id=\"163399ed-5cdc-448d-a4a7-687a5673d075\" type=\"checkbox\" ><label class=\"sk-toggleable__label\" for=\"163399ed-5cdc-448d-a4a7-687a5673d075\">numerical</label><div class=\"sk-toggleable__content\"><pre>['Rent_mean', 'Average_years_employees_work_at_company', 'LS_State', 'Number_of_Reviews', 'Company_credit_score', 'LS_GAS', 'LS_Amount_to_Borrow', 'Number_of_technologies', 'Difference', 'NAICS_sector_code', 'Web_Ad_Outlet_code', 'Mean_employee_age', 'Average_annual_income_per_household', 'Rating', 'Mean_monthly_mortgage_and_owner_costs', 'Number_of_Results']</pre></div></div></div><div class=\"sk-serial\"><div class=\"sk-item\"><div class=\"sk-serial\"><div class=\"sk-item\"><div class=\"sk-estimator sk-toggleable\"><input class=\"sk-toggleable__control sk-hidden--visually\" id=\"8e4724a1-baeb-47c3-b74e-23fe19d81843\" type=\"checkbox\" ><label class=\"sk-toggleable__label\" for=\"8e4724a1-baeb-47c3-b74e-23fe19d81843\">FunctionTransformer</label><div class=\"sk-toggleable__content\"><pre>FunctionTransformer(func=<function <lambda> at 0x7f6374d22310>)</pre></div></div></div><div class=\"sk-item sk-dashed-wrapped\"><div class=\"sk-label-container\"><div class=\"sk-label sk-toggleable\"><input class=\"sk-toggleable__control sk-hidden--visually\" id=\"709b59b2-31e8-452d-86eb-8b10b6d61c08\" type=\"checkbox\" ><label class=\"sk-toggleable__label\" for=\"709b59b2-31e8-452d-86eb-8b10b6d61c08\">imputers: ColumnTransformer</label><div class=\"sk-toggleable__content\"><pre>ColumnTransformer(sparse_threshold=0,\n                  transformers=[('impute_mean', SimpleImputer(),\n                                 ['Average_annual_income_per_household',\n                                  'Average_years_employees_work_at_company',\n                                  'Company_credit_score', 'Difference',\n                                  'LS_Amount_to_Borrow', 'LS_GAS', 'LS_State',\n                                  'Mean_employee_age',\n                                  'Mean_monthly_mortgage_and_owner_costs',\n                                  'NAICS_sector_code', 'Number_of_Results',\n                                  'Number_of_Reviews', 'Number_of_technologies',\n                                  'Rating', 'Rent_mean',\n                                  'Web_Ad_Outlet_code'])])</pre></div></div></div><div class=\"sk-parallel\"><div class=\"sk-parallel-item\"><div class=\"sk-item\"><div class=\"sk-label-container\"><div class=\"sk-label sk-toggleable\"><input class=\"sk-toggleable__control sk-hidden--visually\" id=\"74b071c8-e80d-4863-9b93-6557051471cc\" type=\"checkbox\" ><label class=\"sk-toggleable__label\" for=\"74b071c8-e80d-4863-9b93-6557051471cc\">impute_mean</label><div class=\"sk-toggleable__content\"><pre>['Average_annual_income_per_household', 'Average_years_employees_work_at_company', 'Company_credit_score', 'Difference', 'LS_Amount_to_Borrow', 'LS_GAS', 'LS_State', 'Mean_employee_age', 'Mean_monthly_mortgage_and_owner_costs', 'NAICS_sector_code', 'Number_of_Results', 'Number_of_Reviews', 'Number_of_technologies', 'Rating', 'Rent_mean', 'Web_Ad_Outlet_code']</pre></div></div></div><div class=\"sk-serial\"><div class=\"sk-item\"><div class=\"sk-estimator sk-toggleable\"><input class=\"sk-toggleable__control sk-hidden--visually\" id=\"db6e43b7-ec0d-4a88-bdf1-62245eb82cf4\" type=\"checkbox\" ><label class=\"sk-toggleable__label\" for=\"db6e43b7-ec0d-4a88-bdf1-62245eb82cf4\">SimpleImputer</label><div class=\"sk-toggleable__content\"><pre>SimpleImputer()</pre></div></div></div></div></div></div></div></div></div></div></div></div></div><div class=\"sk-parallel-item\"><div class=\"sk-item\"><div class=\"sk-label-container\"><div class=\"sk-label sk-toggleable\"><input class=\"sk-toggleable__control sk-hidden--visually\" id=\"36dc6496-0387-4b85-ad56-119b2760f06d\" type=\"checkbox\" ><label class=\"sk-toggleable__label\" for=\"36dc6496-0387-4b85-ad56-119b2760f06d\">onehot</label><div class=\"sk-toggleable__content\"><pre>['Confidence_Score', 'Email_domain', 'Has_Customer_Service', 'Is_established', 'LS_Self_Graded_Credit', 'Map_Exists', 'Number_of_socials', 'Permanently_Closed', 'Results_From_Wikipedia', 'Web_Ad_Outlet_Source_code', 'address', 'company']</pre></div></div></div><div class=\"sk-serial\"><div class=\"sk-item\"><div class=\"sk-serial\"><div class=\"sk-item sk-dashed-wrapped\"><div class=\"sk-label-container\"><div class=\"sk-label sk-toggleable\"><input class=\"sk-toggleable__control sk-hidden--visually\" id=\"4dc23b0b-c055-4a2b-a281-2c717044e902\" type=\"checkbox\" ><label class=\"sk-toggleable__label\" for=\"4dc23b0b-c055-4a2b-a281-2c717044e902\">imputers: ColumnTransformer</label><div class=\"sk-toggleable__content\"><pre>ColumnTransformer(remainder='passthrough', sparse_threshold=0, transformers=[])</pre></div></div></div><div class=\"sk-parallel\"><div class=\"sk-parallel-item\"><div class=\"sk-item\"><div class=\"sk-label-container\"><div class=\"sk-label sk-toggleable\"><input class=\"sk-toggleable__control sk-hidden--visually\" id=\"1e2b9c07-383f-4941-b53b-6e27958eaed1\" type=\"checkbox\" ><label class=\"sk-toggleable__label\" for=\"1e2b9c07-383f-4941-b53b-6e27958eaed1\">remainder</label><div class=\"sk-toggleable__content\"><pre></pre></div></div></div><div class=\"sk-serial\"><div class=\"sk-item\"><div class=\"sk-estimator sk-toggleable\"><input class=\"sk-toggleable__control sk-hidden--visually\" id=\"a5e32b47-3977-4d5a-8689-70fcac5e6466\" type=\"checkbox\" ><label class=\"sk-toggleable__label\" for=\"a5e32b47-3977-4d5a-8689-70fcac5e6466\">passthrough</label><div class=\"sk-toggleable__content\"><pre>passthrough</pre></div></div></div></div></div></div></div></div><div class=\"sk-item\"><div class=\"sk-estimator sk-toggleable\"><input class=\"sk-toggleable__control sk-hidden--visually\" id=\"e397413c-f2bf-43de-9ee5-cc4aa9158317\" type=\"checkbox\" ><label class=\"sk-toggleable__label\" for=\"e397413c-f2bf-43de-9ee5-cc4aa9158317\">OneHotEncoder</label><div class=\"sk-toggleable__content\"><pre>OneHotEncoder(handle_unknown='ignore')</pre></div></div></div></div></div></div></div></div><div class=\"sk-parallel-item\"><div class=\"sk-item\"><div class=\"sk-label-container\"><div class=\"sk-label sk-toggleable\"><input class=\"sk-toggleable__control sk-hidden--visually\" id=\"70d5473c-5492-44e4-9f9e-303aaf09617e\" type=\"checkbox\" ><label class=\"sk-toggleable__label\" for=\"70d5473c-5492-44e4-9f9e-303aaf09617e\">remainder</label><div class=\"sk-toggleable__content\"><pre>[['company', 'LS_GAS', 'Permanently_Closed', 'Difference', 'Number_of_Results', 'LS_State', 'Number_of_Reviews', 'Results_From_Wikipedia', 'LS_Self_Graded_Credit', 'LS_Amount_to_Borrow', 'Number_of_technologies', 'Rating', 'Mean_monthly_mortgage_and_owner_costs', 'Number_of_socials', 'Rent_mean', 'Average_years_employees_work_at_company', 'Web_Ad_Outlet_code', 'Confidence_Score', 'Is_established', 'Web_Ad_Outlet_Source_code', 'Company_credit_score', 'Map_Exists', 'Has_Customer_Service', 'address', 'NAICS_sector_code', 'Mean_employee_age', 'Average_annual_income_per_household', 'Email_domain']]</pre></div></div></div><div class=\"sk-serial\"><div class=\"sk-item\"><div class=\"sk-estimator sk-toggleable\"><input class=\"sk-toggleable__control sk-hidden--visually\" id=\"14d1b752-677b-49a0-8202-ead125ab2364\" type=\"checkbox\" ><label class=\"sk-toggleable__label\" for=\"14d1b752-677b-49a0-8202-ead125ab2364\">passthrough</label><div class=\"sk-toggleable__content\"><pre>passthrough</pre></div></div></div></div></div></div></div></div><div class=\"sk-item\"><div class=\"sk-estimator sk-toggleable\"><input class=\"sk-toggleable__control sk-hidden--visually\" id=\"0ce9a146-d202-4691-a102-34b6cf788432\" type=\"checkbox\" ><label class=\"sk-toggleable__label\" for=\"0ce9a146-d202-4691-a102-34b6cf788432\">StandardScaler</label><div class=\"sk-toggleable__content\"><pre>StandardScaler()</pre></div></div></div><div class=\"sk-item\"><div class=\"sk-estimator sk-toggleable\"><input class=\"sk-toggleable__control sk-hidden--visually\" id=\"d5597be4-a48d-4688-9840-19b8da3da2ef\" type=\"checkbox\" ><label class=\"sk-toggleable__label\" for=\"d5597be4-a48d-4688-9840-19b8da3da2ef\">LGBMClassifier</label><div class=\"sk-toggleable__content\"><pre>LGBMClassifier(colsample_bytree=0.7458314364406566,\n               lambda_l1=1.8593828358605584, lambda_l2=0.3701904479666098,\n               learning_rate=4.315948263029916, max_bin=243, max_depth=11,\n               min_child_samples=38, n_estimators=239, num_leaves=9,\n               path_smooth=14.257096191768284, random_state=614601885,\n               subsample=0.5488548439204592)</pre></div></div></div></div></div></div></div>",
       "datasetInfos": [],
       "metadata": {},
       "removedWidgets": [],
       "textData": null,
       "type": "htmlSandbox"
      }
     },
     "output_type": "display_data"
    }
   ],
   "source": [
    "import mlflow\n",
    "import sklearn\n",
    "from sklearn import set_config\n",
    "from sklearn.pipeline import Pipeline\n",
    "\n",
    "set_config(display=\"diagram\")\n",
    "\n",
    "lgbmc_classifier = LGBMClassifier(\n",
    "  colsample_bytree=0.7458314364406566,\n",
    "  lambda_l1=1.8593828358605584,\n",
    "  lambda_l2=0.3701904479666098,\n",
    "  learning_rate=4.315948263029916,\n",
    "  max_bin=243,\n",
    "  max_depth=11,\n",
    "  min_child_samples=38,\n",
    "  n_estimators=239,\n",
    "  num_leaves=9,\n",
    "  path_smooth=14.257096191768284,\n",
    "  subsample=0.5488548439204592,\n",
    "  random_state=614601885,\n",
    ")\n",
    "\n",
    "model = Pipeline([\n",
    "    (\"column_selector\", col_selector),\n",
    "    (\"preprocessor\", preprocessor),\n",
    "    (\"standardizer\", standardizer),\n",
    "    (\"classifier\", lgbmc_classifier),\n",
    "])\n",
    "\n",
    "# Create a separate pipeline to transform the validation dataset. This is used for early stopping.\n",
    "pipeline = Pipeline([\n",
    "    (\"column_selector\", col_selector),\n",
    "    (\"preprocessor\", preprocessor),\n",
    "    (\"standardizer\", standardizer),\n",
    "])\n",
    "\n",
    "mlflow.sklearn.autolog(disable=True)\n",
    "pipeline.fit(X_train, y_train)\n",
    "X_val_processed = pipeline.transform(X_val)\n",
    "\n",
    "model"
   ]
  },
  {
   "cell_type": "code",
   "execution_count": 0,
   "metadata": {
    "application/vnd.databricks.v1+cell": {
     "inputWidgets": {},
     "nuid": "35dce278-c975-4c84-9507-3da70ed2137d",
     "showTitle": false,
     "title": ""
    },
    "execution": {
     "iopub.execute_input": "2022-06-21T22:13:09.768378Z",
     "iopub.status.busy": "2022-06-21T22:13:09.766244Z",
     "iopub.status.idle": "2022-06-21T22:13:22.949547Z",
     "shell.execute_reply": "2022-06-21T22:13:22.948954Z"
    }
   },
   "outputs": [
    {
     "data": {
      "text/html": [
       "<style scoped>\n",
       "  .ansiout {\n",
       "    display: block;\n",
       "    unicode-bidi: embed;\n",
       "    white-space: pre-wrap;\n",
       "    word-wrap: break-word;\n",
       "    word-break: break-all;\n",
       "    font-family: \"Source Code Pro\", \"Menlo\", monospace;;\n",
       "    font-size: 13px;\n",
       "    color: #555;\n",
       "    margin-left: 4px;\n",
       "    line-height: 19px;\n",
       "  }\n",
       "</style>\n",
       "<div class=\"ansiout\">/databricks/python/lib/python3.8/site-packages/lightgbm/sklearn.py:726: UserWarning: &#39;early_stopping_rounds&#39; argument is deprecated and will be removed in a future release of LightGBM. Pass &#39;early_stopping()&#39; callback via &#39;callbacks&#39; argument instead.\n",
       "  _log_warning(&#34;&#39;early_stopping_rounds&#39; argument is deprecated and will be removed in a future release of LightGBM. &#34;\n",
       "/databricks/python/lib/python3.8/site-packages/lightgbm/sklearn.py:736: UserWarning: &#39;verbose&#39; argument is deprecated and will be removed in a future release of LightGBM. Pass &#39;log_evaluation()&#39; callback via &#39;callbacks&#39; argument instead.\n",
       "  _log_warning(&#34;&#39;verbose&#39; argument is deprecated and will be removed in a future release of LightGBM. &#34;\n",
       "[LightGBM] [Warning] lambda_l1 is set=1.8593828358605584, reg_alpha=0.0 will be ignored. Current value: lambda_l1=1.8593828358605584\n",
       "[LightGBM] [Warning] lambda_l2 is set=0.3701904479666098, reg_lambda=0.0 will be ignored. Current value: lambda_l2=0.3701904479666098\n",
       "</div>"
      ]
     },
     "metadata": {
      "application/vnd.databricks.v1+output": {
       "addedWidgets": {},
       "arguments": {},
       "data": "<div class=\"ansiout\">/databricks/python/lib/python3.8/site-packages/lightgbm/sklearn.py:726: UserWarning: &#39;early_stopping_rounds&#39; argument is deprecated and will be removed in a future release of LightGBM. Pass &#39;early_stopping()&#39; callback via &#39;callbacks&#39; argument instead.\n  _log_warning(&#34;&#39;early_stopping_rounds&#39; argument is deprecated and will be removed in a future release of LightGBM. &#34;\n/databricks/python/lib/python3.8/site-packages/lightgbm/sklearn.py:736: UserWarning: &#39;verbose&#39; argument is deprecated and will be removed in a future release of LightGBM. Pass &#39;log_evaluation()&#39; callback via &#39;callbacks&#39; argument instead.\n  _log_warning(&#34;&#39;verbose&#39; argument is deprecated and will be removed in a future release of LightGBM. &#34;\n[LightGBM] [Warning] lambda_l1 is set=1.8593828358605584, reg_alpha=0.0 will be ignored. Current value: lambda_l1=1.8593828358605584\n[LightGBM] [Warning] lambda_l2 is set=0.3701904479666098, reg_lambda=0.0 will be ignored. Current value: lambda_l2=0.3701904479666098\n</div>",
       "datasetInfos": [],
       "metadata": {},
       "removedWidgets": [],
       "type": "html"
      }
     },
     "output_type": "display_data"
    },
    {
     "data": {
      "text/html": [
       "<style scoped>\n",
       "  .table-result-container {\n",
       "    max-height: 300px;\n",
       "    overflow: auto;\n",
       "  }\n",
       "  table, th, td {\n",
       "    border: 1px solid black;\n",
       "    border-collapse: collapse;\n",
       "  }\n",
       "  th, td {\n",
       "    padding: 5px;\n",
       "  }\n",
       "  th {\n",
       "    text-align: left;\n",
       "  }\n",
       "</style><div class='table-result-container'><table class='table-result'><thead style='background-color: white'><tr><th>precision_score</th><th>recall_score</th><th>f1_score</th><th>accuracy_score</th><th>log_loss</th><th>roc_auc_score</th><th>score</th></tr></thead><tbody><tr><td>0.7481096294743247</td><td>0.8006624510689552</td><td>0.7611357683425857</td><td>0.8006624510689552</td><td>0.5772400188060919</td><td>0.6118500204565016</td><td>0.8006624510689552</td></tr><tr><td>0.7212231888712224</td><td>0.7853702588801926</td><td>0.7431016752417031</td><td>0.7853702588801926</td><td>0.6172644263729361</td><td>0.576459052476438</td><td>0.7853702588801926</td></tr></tbody></table></div>"
      ]
     },
     "metadata": {
      "application/vnd.databricks.v1+output": {
       "addedWidgets": {},
       "aggData": [],
       "aggError": "",
       "aggOverflow": false,
       "aggSchema": [],
       "aggSeriesLimitReached": false,
       "aggType": "",
       "arguments": {},
       "columnCustomDisplayInfos": {},
       "data": [
        [
         0.7481096294743247,
         0.8006624510689552,
         0.7611357683425857,
         0.8006624510689552,
         0.5772400188060919,
         0.6118500204565016,
         0.8006624510689552
        ],
        [
         0.7212231888712224,
         0.7853702588801926,
         0.7431016752417031,
         0.7853702588801926,
         0.6172644263729361,
         0.576459052476438,
         0.7853702588801926
        ]
       ],
       "datasetInfos": [],
       "dbfsResultPath": null,
       "isJsonSchema": true,
       "metadata": {},
       "overflow": false,
       "plotOptions": {
        "customPlotOptions": {},
        "displayType": "table",
        "pivotAggregation": null,
        "pivotColumns": null,
        "xColumns": null,
        "yColumns": null
       },
       "removedWidgets": [],
       "schema": [
        {
         "metadata": "{}",
         "name": "precision_score",
         "type": "\"double\""
        },
        {
         "metadata": "{}",
         "name": "recall_score",
         "type": "\"double\""
        },
        {
         "metadata": "{}",
         "name": "f1_score",
         "type": "\"double\""
        },
        {
         "metadata": "{}",
         "name": "accuracy_score",
         "type": "\"double\""
        },
        {
         "metadata": "{}",
         "name": "log_loss",
         "type": "\"double\""
        },
        {
         "metadata": "{}",
         "name": "roc_auc_score",
         "type": "\"double\""
        },
        {
         "metadata": "{}",
         "name": "score",
         "type": "\"double\""
        }
       ],
       "type": "table"
      }
     },
     "output_type": "display_data"
    }
   ],
   "source": [
    "# Enable automatic logging of input samples, metrics, parameters, and models\n",
    "mlflow.sklearn.autolog(log_input_examples=True, silent=True)\n",
    "\n",
    "with mlflow.start_run(experiment_id=\"2547542356846121\", run_name=\"lightgbm\") as mlflow_run:\n",
    "    model.fit(X_train, y_train, classifier__early_stopping_rounds=5, classifier__eval_set=[(X_val_processed,y_val)], classifier__verbose=False)\n",
    "    \n",
    "    # Training metrics are logged by MLflow autologging\n",
    "    # Log metrics for the validation set\n",
    "    lgbmc_val_metrics = mlflow.sklearn.eval_and_log_metrics(model, X_val, y_val, prefix=\"val_\")\n",
    "\n",
    "    # Log metrics for the test set\n",
    "    lgbmc_test_metrics = mlflow.sklearn.eval_and_log_metrics(model, X_test, y_test, prefix=\"test_\")\n",
    "\n",
    "    # Display the logged metrics\n",
    "    lgbmc_val_metrics = {k.replace(\"val_\", \"\"): v for k, v in lgbmc_val_metrics.items()}\n",
    "    lgbmc_test_metrics = {k.replace(\"test_\", \"\"): v for k, v in lgbmc_test_metrics.items()}\n",
    "    display(pd.DataFrame([lgbmc_val_metrics, lgbmc_test_metrics], index=[\"validation\", \"test\"]))"
   ]
  },
  {
   "cell_type": "code",
   "execution_count": 0,
   "metadata": {
    "application/vnd.databricks.v1+cell": {
     "inputWidgets": {},
     "nuid": "cf2f1ac2-9be5-470f-88c7-3a15e9ea9b56",
     "showTitle": false,
     "title": ""
    },
    "execution": {
     "iopub.execute_input": "2022-06-21T22:13:22.957374Z",
     "iopub.status.busy": "2022-06-21T22:13:22.956692Z",
     "iopub.status.idle": "2022-06-21T22:13:51.798982Z",
     "shell.execute_reply": "2022-06-21T22:13:51.799513Z"
    }
   },
   "outputs": [
    {
     "data": {
      "text/html": [
       "<style scoped>\n",
       "  .ansiout {\n",
       "    display: block;\n",
       "    unicode-bidi: embed;\n",
       "    white-space: pre-wrap;\n",
       "    word-wrap: break-word;\n",
       "    word-break: break-all;\n",
       "    font-family: \"Source Code Pro\", \"Menlo\", monospace;;\n",
       "    font-size: 13px;\n",
       "    color: #555;\n",
       "    margin-left: 4px;\n",
       "    line-height: 19px;\n",
       "  }\n",
       "</style>\n",
       "<div class=\"ansiout\"></div>"
      ]
     },
     "metadata": {
      "application/vnd.databricks.v1+output": {
       "addedWidgets": {},
       "arguments": {},
       "data": "<div class=\"ansiout\"></div>",
       "datasetInfos": [],
       "metadata": {},
       "removedWidgets": [],
       "type": "html"
      }
     },
     "output_type": "display_data"
    }
   ],
   "source": [
    "# Patch requisite packages to the model environment YAML for model serving\n",
    "import os\n",
    "import shutil\n",
    "import uuid\n",
    "import yaml\n",
    "\n",
    "None\n",
    "\n",
    "import lightgbm\n",
    "from mlflow.tracking import MlflowClient\n",
    "\n",
    "lgbmc_temp_dir = os.path.join(os.environ[\"SPARK_LOCAL_DIRS\"], str(uuid.uuid4())[:8])\n",
    "os.makedirs(lgbmc_temp_dir)\n",
    "lgbmc_client = MlflowClient()\n",
    "lgbmc_model_env_path = lgbmc_client.download_artifacts(mlflow_run.info.run_id, \"model/conda.yaml\", lgbmc_temp_dir)\n",
    "lgbmc_model_env_str = open(lgbmc_model_env_path)\n",
    "lgbmc_parsed_model_env_str = yaml.load(lgbmc_model_env_str, Loader=yaml.FullLoader)\n",
    "\n",
    "lgbmc_parsed_model_env_str[\"dependencies\"][-1][\"pip\"].append(f\"lightgbm=={lightgbm.__version__}\")\n",
    "\n",
    "with open(lgbmc_model_env_path, \"w\") as f:\n",
    "  f.write(yaml.dump(lgbmc_parsed_model_env_str))\n",
    "lgbmc_client.log_artifact(run_id=mlflow_run.info.run_id, local_path=lgbmc_model_env_path, artifact_path=\"model\")\n",
    "shutil.rmtree(lgbmc_temp_dir)"
   ]
  },
  {
   "cell_type": "markdown",
   "metadata": {
    "application/vnd.databricks.v1+cell": {
     "inputWidgets": {},
     "nuid": "81de7044-57b6-4106-aa00-bf2a688bb2d9",
     "showTitle": false,
     "title": ""
    }
   },
   "source": [
    "## Feature importance\n",
    "\n",
    "SHAP is a game-theoretic approach to explain machine learning models, providing a summary plot\n",
    "of the relationship between features and model output. Features are ranked in descending order of\n",
    "importance, and impact/color describe the correlation between the feature and the target variable.\n",
    "- Generating SHAP feature importance is a very memory intensive operation, so to ensure that AutoML can run trials without\n",
    "  running out of memory, we disable SHAP by default.<br />\n",
    "  You can set the flag defined below to `shap_enabled = True` and re-run this notebook to see the SHAP plots.\n",
    "- To reduce the computational overhead of each trial, a single example is sampled from the validation set to explain.<br />\n",
    "  For more thorough results, increase the sample size of explanations, or provide your own examples to explain.\n",
    "- SHAP cannot explain models using data with nulls; if your dataset has any, both the background data and\n",
    "  examples to explain will be imputed using the mode (most frequent values). This affects the computed\n",
    "  SHAP values, as the imputed samples may not match the actual data distribution.\n",
    "\n",
    "For more information on how to read Shapley values, see the [SHAP documentation](https://shap.readthedocs.io/en/latest/example_notebooks/overviews/An%20introduction%20to%20explainable%20AI%20with%20Shapley%20values.html)."
   ]
  },
  {
   "cell_type": "code",
   "execution_count": 0,
   "metadata": {
    "application/vnd.databricks.v1+cell": {
     "inputWidgets": {},
     "nuid": "621ca2cd-cc8b-46c5-993e-e35f2d879151",
     "showTitle": false,
     "title": ""
    },
    "execution": {
     "iopub.execute_input": "2022-06-21T22:13:51.805680Z",
     "iopub.status.busy": "2022-06-21T22:13:51.805064Z",
     "iopub.status.idle": "2022-06-21T22:13:51.809515Z",
     "shell.execute_reply": "2022-06-21T22:13:51.810281Z"
    }
   },
   "outputs": [
    {
     "data": {
      "text/html": [
       "<style scoped>\n",
       "  .ansiout {\n",
       "    display: block;\n",
       "    unicode-bidi: embed;\n",
       "    white-space: pre-wrap;\n",
       "    word-wrap: break-word;\n",
       "    word-break: break-all;\n",
       "    font-family: \"Source Code Pro\", \"Menlo\", monospace;;\n",
       "    font-size: 13px;\n",
       "    color: #555;\n",
       "    margin-left: 4px;\n",
       "    line-height: 19px;\n",
       "  }\n",
       "</style>\n",
       "<div class=\"ansiout\"></div>"
      ]
     },
     "metadata": {
      "application/vnd.databricks.v1+output": {
       "addedWidgets": {},
       "arguments": {},
       "data": "<div class=\"ansiout\"></div>",
       "datasetInfos": [],
       "metadata": {},
       "removedWidgets": [],
       "type": "html"
      }
     },
     "output_type": "display_data"
    }
   ],
   "source": [
    "# Set this flag to True and re-run the notebook to see the SHAP plots\n",
    "shap_enabled =True"
   ]
  },
  {
   "cell_type": "code",
   "execution_count": 0,
   "metadata": {
    "application/vnd.databricks.v1+cell": {
     "inputWidgets": {},
     "nuid": "cf000092-4ba0-445f-8ec6-a98c64ef28da",
     "showTitle": false,
     "title": ""
    },
    "execution": {
     "iopub.execute_input": "2022-06-21T22:13:51.820146Z",
     "iopub.status.busy": "2022-06-21T22:13:51.819261Z",
     "iopub.status.idle": "2022-06-21T22:13:51.821912Z",
     "shell.execute_reply": "2022-06-21T22:13:51.823024Z"
    }
   },
   "outputs": [
    {
     "data": {
      "text/html": [
       "<style scoped>\n",
       "  .ansiout {\n",
       "    display: block;\n",
       "    unicode-bidi: embed;\n",
       "    white-space: pre-wrap;\n",
       "    word-wrap: break-word;\n",
       "    word-break: break-all;\n",
       "    font-family: \"Source Code Pro\", \"Menlo\", monospace;;\n",
       "    font-size: 13px;\n",
       "    color: #555;\n",
       "    margin-left: 4px;\n",
       "    line-height: 19px;\n",
       "  }\n",
       "</style>\n",
       "<div class=\"ansiout\">&#34;is&#34; with a literal. Did you mean &#34;==&#34;?\n",
       "&#34;is&#34; with a literal. Did you mean &#34;==&#34;?\n",
       "&#34;is&#34; with a literal. Did you mean &#34;==&#34;?\n",
       "&#34;is&#34; with a literal. Did you mean &#34;==&#34;?\n",
       "&#34;is not&#34; with a literal. Did you mean &#34;!=&#34;?\n",
       "&#34;is&#34; with a literal. Did you mean &#34;==&#34;?\n",
       "&#34;is&#34; with a literal. Did you mean &#34;==&#34;?\n",
       "&#34;is not&#34; with a literal. Did you mean &#34;!=&#34;?\n",
       "  0%|          | 0/1 [00:00&lt;?, ?it/s]\n",
       "</div>"
      ]
     },
     "metadata": {
      "application/vnd.databricks.v1+output": {
       "addedWidgets": {},
       "arguments": {},
       "data": "<div class=\"ansiout\">&#34;is&#34; with a literal. Did you mean &#34;==&#34;?\n&#34;is&#34; with a literal. Did you mean &#34;==&#34;?\n&#34;is&#34; with a literal. Did you mean &#34;==&#34;?\n&#34;is&#34; with a literal. Did you mean &#34;==&#34;?\n&#34;is not&#34; with a literal. Did you mean &#34;!=&#34;?\n&#34;is&#34; with a literal. Did you mean &#34;==&#34;?\n&#34;is&#34; with a literal. Did you mean &#34;==&#34;?\n&#34;is not&#34; with a literal. Did you mean &#34;!=&#34;?\n  0%|          | 0/1 [00:00&lt;?, ?it/s]\n</div>",
       "datasetInfos": [],
       "metadata": {},
       "removedWidgets": [],
       "type": "html"
      }
     },
     "output_type": "display_data"
    },
    {
     "data": {
      "image/png": "[encoded data removed]"
     },
     "metadata": {
      "application/vnd.databricks.v1+output": {
       "addedWidgets": {},
       "arguments": {},
       "data": "data:image/png;base64,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",
       "datasetInfos": [],
       "metadata": {
        "imageDimensions": {
         "height": 568,
         "width": 724
        }
       },
       "removedWidgets": [],
       "type": "image"
      },
      "image/png": {
       "height": 568,
       "width": 724
      }
     },
     "output_type": "display_data"
    }
   ],
   "source": [
    "if shap_enabled:\n",
    "    from shap import KernelExplainer, summary_plot\n",
    "    # Sample background data for SHAP Explainer. Increase the sample size to reduce variance.\n",
    "    train_sample = X_train.sample(n=min(100, len(X_train.index)))\n",
    "\n",
    "    # Sample a single example from the validation set to explain. Increase the sample size and rerun for more thorough results.\n",
    "    example = X_val.sample(n=1)\n",
    "\n",
    "    # Use Kernel SHAP to explain feature importance on the example from the validation set.\n",
    "    predict = lambda x: model.predict(pd.DataFrame(x, columns=X_train.columns))\n",
    "    explainer = KernelExplainer(predict, train_sample, link=\"identity\")\n",
    "    shap_values = explainer.shap_values(example, l1_reg=False)\n",
    "    summary_plot(shap_values, example, class_names=model.classes_)"
   ]
  },
  {
   "cell_type": "code",
   "execution_count": 0,
   "metadata": {
    "application/vnd.databricks.v1+cell": {
     "inputWidgets": {},
     "nuid": "1e0ebd06-5368-445b-aa8e-d639088c2613",
     "showTitle": false,
     "title": ""
    }
   },
   "outputs": [
    {
     "data": {
      "text/html": [
       "<style scoped>\n",
       "  .ansiout {\n",
       "    display: block;\n",
       "    unicode-bidi: embed;\n",
       "    white-space: pre-wrap;\n",
       "    word-wrap: break-word;\n",
       "    word-break: break-all;\n",
       "    font-family: \"Source Code Pro\", \"Menlo\", monospace;;\n",
       "    font-size: 13px;\n",
       "    color: #555;\n",
       "    margin-left: 4px;\n",
       "    line-height: 19px;\n",
       "  }\n",
       "</style>\n",
       "<div class=\"ansiout\">Help on class RandomForestClassifier in module sklearn.ensemble._forest:\n",
       "\n",
       "class RandomForestClassifier(ForestClassifier)\n",
       "  RandomForestClassifier(n_estimators=100, *, criterion=&#39;gini&#39;, max_depth=None, min_samples_split=2, min_samples_leaf=1, min_weight_fraction_leaf=0.0, max_features=&#39;auto&#39;, max_leaf_nodes=None, min_impurity_decrease=0.0, min_impurity_split=None, bootstrap=True, oob_score=False, n_jobs=None, random_state=None, verbose=0, warm_start=False, class_weight=None, ccp_alpha=0.0, max_samples=None)\n",
       "  \n",
       "  A random forest classifier.\n",
       "  \n",
       "  A random forest is a meta estimator that fits a number of decision tree\n",
       "  classifiers on various sub-samples of the dataset and uses averaging to\n",
       "  improve the predictive accuracy and control over-fitting.\n",
       "  The sub-sample size is controlled with the `max_samples` parameter if\n",
       "  `bootstrap=True` (default), otherwise the whole dataset is used to build\n",
       "  each tree.\n",
       "  \n",
       "  Read more in the :ref:`User Guide &lt;forest&gt;`.\n",
       "  \n",
       "  Parameters\n",
       "  ----------\n",
       "  n_estimators : int, default=100\n",
       "      The number of trees in the forest.\n",
       "  \n",
       "      .. versionchanged:: 0.22\n",
       "         The default value of ``n_estimators`` changed from 10 to 100\n",
       "         in 0.22.\n",
       "  \n",
       "  criterion : {&#34;gini&#34;, &#34;entropy&#34;}, default=&#34;gini&#34;\n",
       "      The function to measure the quality of a split. Supported criteria are\n",
       "      &#34;gini&#34; for the Gini impurity and &#34;entropy&#34; for the information gain.\n",
       "      Note: this parameter is tree-specific.\n",
       "  \n",
       "  max_depth : int, default=None\n",
       "      The maximum depth of the tree. If None, then nodes are expanded until\n",
       "      all leaves are pure or until all leaves contain less than\n",
       "      min_samples_split samples.\n",
       "  \n",
       "  min_samples_split : int or float, default=2\n",
       "      The minimum number of samples required to split an internal node:\n",
       "  \n",
       "      - If int, then consider `min_samples_split` as the minimum number.\n",
       "      - If float, then `min_samples_split` is a fraction and\n",
       "        `ceil(min_samples_split * n_samples)` are the minimum\n",
       "        number of samples for each split.\n",
       "  \n",
       "      .. versionchanged:: 0.18\n",
       "         Added float values for fractions.\n",
       "  \n",
       "  min_samples_leaf : int or float, default=1\n",
       "      The minimum number of samples required to be at a leaf node.\n",
       "      A split point at any depth will only be considered if it leaves at\n",
       "      least ``min_samples_leaf`` training samples in each of the left and\n",
       "      right branches.  This may have the effect of smoothing the model,\n",
       "      especially in regression.\n",
       "  \n",
       "      - If int, then consider `min_samples_leaf` as the minimum number.\n",
       "      - If float, then `min_samples_leaf` is a fraction and\n",
       "        `ceil(min_samples_leaf * n_samples)` are the minimum\n",
       "        number of samples for each node.\n",
       "  \n",
       "      .. versionchanged:: 0.18\n",
       "         Added float values for fractions.\n",
       "  \n",
       "  min_weight_fraction_leaf : float, default=0.0\n",
       "      The minimum weighted fraction of the sum total of weights (of all\n",
       "      the input samples) required to be at a leaf node. Samples have\n",
       "      equal weight when sample_weight is not provided.\n",
       "  \n",
       "  max_features : {&#34;auto&#34;, &#34;sqrt&#34;, &#34;log2&#34;}, int or float, default=&#34;auto&#34;\n",
       "      The number of features to consider when looking for the best split:\n",
       "  \n",
       "      - If int, then consider `max_features` features at each split.\n",
       "      - If float, then `max_features` is a fraction and\n",
       "        `round(max_features * n_features)` features are considered at each\n",
       "        split.\n",
       "      - If &#34;auto&#34;, then `max_features=sqrt(n_features)`.\n",
       "      - If &#34;sqrt&#34;, then `max_features=sqrt(n_features)` (same as &#34;auto&#34;).\n",
       "      - If &#34;log2&#34;, then `max_features=log2(n_features)`.\n",
       "      - If None, then `max_features=n_features`.\n",
       "  \n",
       "      Note: the search for a split does not stop until at least one\n",
       "      valid partition of the node samples is found, even if it requires to\n",
       "      effectively inspect more than ``max_features`` features.\n",
       "  \n",
       "  max_leaf_nodes : int, default=None\n",
       "      Grow trees with ``max_leaf_nodes`` in best-first fashion.\n",
       "      Best nodes are defined as relative reduction in impurity.\n",
       "      If None then unlimited number of leaf nodes.\n",
       "  \n",
       "  min_impurity_decrease : float, default=0.0\n",
       "      A node will be split if this split induces a decrease of the impurity\n",
       "      greater than or equal to this value.\n",
       "  \n",
       "      The weighted impurity decrease equation is the following::\n",
       "  \n",
       "          N_t / N * (impurity - N_t_R / N_t * right_impurity\n",
       "                              - N_t_L / N_t * left_impurity)\n",
       "  \n",
       "      where ``N`` is the total number of samples, ``N_t`` is the number of\n",
       "      samples at the current node, ``N_t_L`` is the number of samples in the\n",
       "      left child, and ``N_t_R`` is the number of samples in the right child.\n",
       "  \n",
       "      ``N``, ``N_t``, ``N_t_R`` and ``N_t_L`` all refer to the weighted sum,\n",
       "      if ``sample_weight`` is passed.\n",
       "  \n",
       "      .. versionadded:: 0.19\n",
       "  \n",
       "  min_impurity_split : float, default=None\n",
       "      Threshold for early stopping in tree growth. A node will split\n",
       "      if its impurity is above the threshold, otherwise it is a leaf.\n",
       "  \n",
       "      .. deprecated:: 0.19\n",
       "         ``min_impurity_split`` has been deprecated in favor of\n",
       "         ``min_impurity_decrease`` in 0.19. The default value of\n",
       "         ``min_impurity_split`` has changed from 1e-7 to 0 in 0.23 and it\n",
       "         will be removed in 1.0 (renaming of 0.25).\n",
       "         Use ``min_impurity_decrease`` instead.\n",
       "  \n",
       "  bootstrap : bool, default=True\n",
       "      Whether bootstrap samples are used when building trees. If False, the\n",
       "      whole dataset is used to build each tree.\n",
       "  \n",
       "  oob_score : bool, default=False\n",
       "      Whether to use out-of-bag samples to estimate\n",
       "      the generalization accuracy.\n",
       "  \n",
       "  n_jobs : int, default=None\n",
       "      The number of jobs to run in parallel. :meth:`fit`, :meth:`predict`,\n",
       "      :meth:`decision_path` and :meth:`apply` are all parallelized over the\n",
       "      trees. ``None`` means 1 unless in a :obj:`joblib.parallel_backend`\n",
       "      context. ``-1`` means using all processors. See :term:`Glossary\n",
       "      &lt;n_jobs&gt;` for more details.\n",
       "  \n",
       "  random_state : int, RandomState instance or None, default=None\n",
       "      Controls both the randomness of the bootstrapping of the samples used\n",
       "      when building trees (if ``bootstrap=True``) and the sampling of the\n",
       "      features to consider when looking for the best split at each node\n",
       "      (if ``max_features &lt; n_features``).\n",
       "      See :term:`Glossary &lt;random_state&gt;` for details.\n",
       "  \n",
       "  verbose : int, default=0\n",
       "      Controls the verbosity when fitting and predicting.\n",
       "  \n",
       "  warm_start : bool, default=False\n",
       "      When set to ``True``, reuse the solution of the previous call to fit\n",
       "      and add more estimators to the ensemble, otherwise, just fit a whole\n",
       "      new forest. See :term:`the Glossary &lt;warm_start&gt;`.\n",
       "  \n",
       "  class_weight : {&#34;balanced&#34;, &#34;balanced_subsample&#34;}, dict or list of dicts,             default=None\n",
       "      Weights associated with classes in the form ``{class_label: weight}``.\n",
       "      If not given, all classes are supposed to have weight one. For\n",
       "      multi-output problems, a list of dicts can be provided in the same\n",
       "      order as the columns of y.\n",
       "  \n",
       "      Note that for multioutput (including multilabel) weights should be\n",
       "      defined for each class of every column in its own dict. For example,\n",
       "      for four-class multilabel classification weights should be\n",
       "      [{0: 1, 1: 1}, {0: 1, 1: 5}, {0: 1, 1: 1}, {0: 1, 1: 1}] instead of\n",
       "      [{1:1}, {2:5}, {3:1}, {4:1}].\n",
       "  \n",
       "      The &#34;balanced&#34; mode uses the values of y to automatically adjust\n",
       "      weights inversely proportional to class frequencies in the input data\n",
       "      as ``n_samples / (n_classes * np.bincount(y))``\n",
       "  \n",
       "      The &#34;balanced_subsample&#34; mode is the same as &#34;balanced&#34; except that\n",
       "      weights are computed based on the bootstrap sample for every tree\n",
       "      grown.\n",
       "  \n",
       "      For multi-output, the weights of each column of y will be multiplied.\n",
       "  \n",
       "      Note that these weights will be multiplied with sample_weight (passed\n",
       "      through the fit method) if sample_weight is specified.\n",
       "  \n",
       "  ccp_alpha : non-negative float, default=0.0\n",
       "      Complexity parameter used for Minimal Cost-Complexity Pruning. The\n",
       "      subtree with the largest cost complexity that is smaller than\n",
       "      ``ccp_alpha`` will be chosen. By default, no pruning is performed. See\n",
       "      :ref:`minimal_cost_complexity_pruning` for details.\n",
       "  \n",
       "      .. versionadded:: 0.22\n",
       "  \n",
       "  max_samples : int or float, default=None\n",
       "      If bootstrap is True, the number of samples to draw from X\n",
       "      to train each base estimator.\n",
       "  \n",
       "      - If None (default), then draw `X.shape[0]` samples.\n",
       "      - If int, then draw `max_samples` samples.\n",
       "      - If float, then draw `max_samples * X.shape[0]` samples. Thus,\n",
       "        `max_samples` should be in the interval `(0, 1)`.\n",
       "  \n",
       "      .. versionadded:: 0.22\n",
       "  \n",
       "  Attributes\n",
       "  ----------\n",
       "  base_estimator_ : DecisionTreeClassifier\n",
       "      The child estimator template used to create the collection of fitted\n",
       "      sub-estimators.\n",
       "  \n",
       "  estimators_ : list of DecisionTreeClassifier\n",
       "      The collection of fitted sub-estimators.\n",
       "  \n",
       "  classes_ : ndarray of shape (n_classes,) or a list of such arrays\n",
       "      The classes labels (single output problem), or a list of arrays of\n",
       "      class labels (multi-output problem).\n",
       "  \n",
       "  n_classes_ : int or list\n",
       "      The number of classes (single output problem), or a list containing the\n",
       "      number of classes for each output (multi-output problem).\n",
       "  \n",
       "  n_features_ : int\n",
       "      The number of features when ``fit`` is performed.\n",
       "  \n",
       "  n_outputs_ : int\n",
       "      The number of outputs when ``fit`` is performed.\n",
       "  \n",
       "  feature_importances_ : ndarray of shape (n_features,)\n",
       "      The impurity-based feature importances.\n",
       "      The higher, the more important the feature.\n",
       "      The importance of a feature is computed as the (normalized)\n",
       "      total reduction of the criterion brought by that feature.  It is also\n",
       "      known as the Gini importance.\n",
       "  \n",
       "      Warning: impurity-based feature importances can be misleading for\n",
       "      high cardinality features (many unique values). See\n",
       "      :func:`sklearn.inspection.permutation_importance` as an alternative.\n",
       "  \n",
       "  oob_score_ : float\n",
       "      Score of the training dataset obtained using an out-of-bag estimate.\n",
       "      This attribute exists only when ``oob_score`` is True.\n",
       "  \n",
       "  oob_decision_function_ : ndarray of shape (n_samples, n_classes)\n",
       "      Decision function computed with out-of-bag estimate on the training\n",
       "      set. If n_estimators is small it might be possible that a data point\n",
       "      was never left out during the bootstrap. In this case,\n",
       "      `oob_decision_function_` might contain NaN. This attribute exists\n",
       "      only when ``oob_score`` is True.\n",
       "  \n",
       "  See Also\n",
       "  --------\n",
       "  DecisionTreeClassifier, ExtraTreesClassifier\n",
       "  \n",
       "  Notes\n",
       "  -----\n",
       "  The default values for the parameters controlling the size of the trees\n",
       "  (e.g. ``max_depth``, ``min_samples_leaf``, etc.) lead to fully grown and\n",
       "  unpruned trees which can potentially be very large on some data sets. To\n",
       "  reduce memory consumption, the complexity and size of the trees should be\n",
       "  controlled by setting those parameter values.\n",
       "  \n",
       "  The features are always randomly permuted at each split. Therefore,\n",
       "  the best found split may vary, even with the same training data,\n",
       "  ``max_features=n_features`` and ``bootstrap=False``, if the improvement\n",
       "  of the criterion is identical for several splits enumerated during the\n",
       "  search of the best split. To obtain a deterministic behaviour during\n",
       "  fitting, ``random_state`` has to be fixed.\n",
       "  \n",
       "  References\n",
       "  ----------\n",
       "  .. [1] L. Breiman, &#34;Random Forests&#34;, Machine Learning, 45(1), 5-32, 2001.\n",
       "  \n",
       "  Examples\n",
       "  --------\n",
       "  &gt;&gt;&gt; from sklearn.ensemble import RandomForestClassifier\n",
       "  &gt;&gt;&gt; from sklearn.datasets import make_classification\n",
       "  &gt;&gt;&gt; X, y = make_classification(n_samples=1000, n_features=4,\n",
       "  ...                            n_informative=2, n_redundant=0,\n",
       "  ...                            random_state=0, shuffle=False)\n",
       "  &gt;&gt;&gt; clf = RandomForestClassifier(max_depth=2, random_state=0)\n",
       "  &gt;&gt;&gt; clf.fit(X, y)\n",
       "  RandomForestClassifier(...)\n",
       "  &gt;&gt;&gt; print(clf.predict([[0, 0, 0, 0]]))\n",
       "  [1]\n",
       "  \n",
       "  Method resolution order:\n",
       "      RandomForestClassifier\n",
       "      ForestClassifier\n",
       "      sklearn.base.ClassifierMixin\n",
       "      BaseForest\n",
       "      sklearn.base.MultiOutputMixin\n",
       "      sklearn.ensemble._base.BaseEnsemble\n",
       "      sklearn.base.MetaEstimatorMixin\n",
       "      sklearn.base.BaseEstimator\n",
       "      builtins.object\n",
       "  \n",
       "  Methods defined here:\n",
       "  \n",
       "  __init__(self, n_estimators=100, *, criterion=&#39;gini&#39;, max_depth=None, min_samples_split=2, min_samples_leaf=1, min_weight_fraction_leaf=0.0, max_features=&#39;auto&#39;, max_leaf_nodes=None, min_impurity_decrease=0.0, min_impurity_split=None, bootstrap=True, oob_score=False, n_jobs=None, random_state=None, verbose=0, warm_start=False, class_weight=None, ccp_alpha=0.0, max_samples=None)\n",
       "      Initialize self.  See help(type(self)) for accurate signature.\n",
       "  \n",
       "  fit(self, X, y, sample_weight=None)\n",
       "      Build a forest of trees from the training set (X, y).\n",
       "      \n",
       "      Parameters\n",
       "      ----------\n",
       "      X : {array-like, sparse matrix} of shape (n_samples, n_features)\n",
       "          The training input samples. Internally, its dtype will be converted\n",
       "          to ``dtype=np.float32``. If a sparse matrix is provided, it will be\n",
       "          converted into a sparse ``csc_matrix``.\n",
       "      \n",
       "      y : array-like of shape (n_samples,) or (n_samples, n_outputs)\n",
       "          The target values (class labels in classification, real numbers in\n",
       "          regression).\n",
       "      \n",
       "      sample_weight : array-like of shape (n_samples,), default=None\n",
       "          Sample weights. If None, then samples are equally weighted. Splits\n",
       "          that would create child nodes with net zero or negative weight are\n",
       "          ignored while searching for a split in each node. In the case of\n",
       "          classification, splits are also ignored if they would result in any\n",
       "          single class carrying a negative weight in either child node.\n",
       "      \n",
       "      Returns\n",
       "      -------\n",
       "      self : object\n",
       "  \n",
       "  predict(self, X)\n",
       "      Predict class for X.\n",
       "      \n",
       "      The predicted class of an input sample is a vote by the trees in\n",
       "      the forest, weighted by their probability estimates. That is,\n",
       "      the predicted class is the one with highest mean probability\n",
       "      estimate across the trees.\n",
       "      \n",
       "      Parameters\n",
       "      ----------\n",
       "      X : {array-like, sparse matrix} of shape (n_samples, n_features)\n",
       "          The input samples. Internally, its dtype will be converted to\n",
       "          ``dtype=np.float32``. If a sparse matrix is provided, it will be\n",
       "          converted into a sparse ``csr_matrix``.\n",
       "      \n",
       "      Returns\n",
       "      -------\n",
       "      y : ndarray of shape (n_samples,) or (n_samples, n_outputs)\n",
       "          The predicted classes.\n",
       "  \n",
       "  predict_log_proba(self, X)\n",
       "      Predict class log-probabilities for X.\n",
       "      \n",
       "      The predicted class log-probabilities of an input sample is computed as\n",
       "      the log of the mean predicted class probabilities of the trees in the\n",
       "      forest.\n",
       "      \n",
       "      Parameters\n",
       "      ----------\n",
       "      X : {array-like, sparse matrix} of shape (n_samples, n_features)\n",
       "          The input samples. Internally, its dtype will be converted to\n",
       "          ``dtype=np.float32``. If a sparse matrix is provided, it will be\n",
       "          converted into a sparse ``csr_matrix``.\n",
       "      \n",
       "      Returns\n",
       "      -------\n",
       "      p : ndarray of shape (n_samples, n_classes), or a list of n_outputs\n",
       "          such arrays if n_outputs &gt; 1.\n",
       "          The class probabilities of the input samples. The order of the\n",
       "          classes corresponds to that in the attribute :term:`classes_`.\n",
       "  \n",
       "  predict_proba(self, X)\n",
       "      Predict class probabilities for X.\n",
       "      \n",
       "      The predicted class probabilities of an input sample are computed as\n",
       "      the mean predicted class probabilities of the trees in the forest.\n",
       "      The class probability of a single tree is the fraction of samples of\n",
       "      the same class in a leaf.\n",
       "      \n",
       "      Parameters\n",
       "      ----------\n",
       "      X : {array-like, sparse matrix} of shape (n_samples, n_features)\n",
       "          The input samples. Internally, its dtype will be converted to\n",
       "          ``dtype=np.float32``. If a sparse matrix is provided, it will be\n",
       "          converted into a sparse ``csr_matrix``.\n",
       "      \n",
       "      Returns\n",
       "      -------\n",
       "      p : ndarray of shape (n_samples, n_classes), or a list of n_outputs\n",
       "          such arrays if n_outputs &gt; 1.\n",
       "          The class probabilities of the input samples. The order of the\n",
       "          classes corresponds to that in the attribute :term:`classes_`.\n",
       "  \n",
       "  score(self, X, y, sample_weight=None)\n",
       "      Return the mean accuracy on the given test data and labels.\n",
       "      \n",
       "      In multi-label classification, this is the subset accuracy\n",
       "      which is a harsh metric since you require for each sample that\n",
       "      each label set be correctly predicted.\n",
       "      \n",
       "      Parameters\n",
       "      ----------\n",
       "      X : array-like of shape (n_samples, n_features)\n",
       "          Test samples.\n",
       "      \n",
       "      y : array-like of shape (n_samples,) or (n_samples, n_outputs)\n",
       "          True labels for `X`.\n",
       "      \n",
       "      sample_weight : array-like of shape (n_samples,), default=None\n",
       "          Sample weights.\n",
       "      \n",
       "      Returns\n",
       "      -------\n",
       "      score : float\n",
       "          Mean accuracy of ``self.predict(X)`` wrt. `y`.\n",
       "  \n",
       "  ----------------------------------------------------------------------\n",
       "  Data and other attributes defined here:\n",
       "  \n",
       "  __abstractmethods__ = frozenset()\n",
       "  \n",
       "  ----------------------------------------------------------------------\n",
       "  Data descriptors inherited from sklearn.base.ClassifierMixin:\n",
       "  \n",
       "  __dict__\n",
       "      dictionary for instance variables (if defined)\n",
       "  \n",
       "  __weakref__\n",
       "      list of weak references to the object (if defined)\n",
       "  \n",
       "  ----------------------------------------------------------------------\n",
       "  Methods inherited from BaseForest:\n",
       "  \n",
       "  apply(self, X)\n",
       "      Apply trees in the forest to X, return leaf indices.\n",
       "      \n",
       "      Parameters\n",
       "      ----------\n",
       "      X : {array-like, sparse matrix} of shape (n_samples, n_features)\n",
       "          The input samples. Internally, its dtype will be converted to\n",
       "          ``dtype=np.float32``. If a sparse matrix is provided, it will be\n",
       "          converted into a sparse ``csr_matrix``.\n",
       "      \n",
       "      Returns\n",
       "      -------\n",
       "      X_leaves : ndarray of shape (n_samples, n_estimators)\n",
       "          For each datapoint x in X and for each tree in the forest,\n",
       "          return the index of the leaf x ends up in.\n",
       "  \n",
       "  decision_path(self, X)\n",
       "      Return the decision path in the forest.\n",
       "      \n",
       "      .. versionadded:: 0.18\n",
       "      \n",
       "      Parameters\n",
       "      ----------\n",
       "      X : {array-like, sparse matrix} of shape (n_samples, n_features)\n",
       "          The input samples. Internally, its dtype will be converted to\n",
       "          ``dtype=np.float32``. If a sparse matrix is provided, it will be\n",
       "          converted into a sparse ``csr_matrix``.\n",
       "      \n",
       "      Returns\n",
       "      -------\n",
       "      indicator : sparse matrix of shape (n_samples, n_nodes)\n",
       "          Return a node indicator matrix where non zero elements indicates\n",
       "          that the samples goes through the nodes. The matrix is of CSR\n",
       "          format.\n",
       "      \n",
       "      n_nodes_ptr : ndarray of shape (n_estimators + 1,)\n",
       "          The columns from indicator[n_nodes_ptr[i]:n_nodes_ptr[i+1]]\n",
       "          gives the indicator value for the i-th estimator.\n",
       "  \n",
       "  ----------------------------------------------------------------------\n",
       "  Readonly properties inherited from BaseForest:\n",
       "  \n",
       "  feature_importances_\n",
       "      The impurity-based feature importances.\n",
       "      \n",
       "      The higher, the more important the feature.\n",
       "      The importance of a feature is computed as the (normalized)\n",
       "      total reduction of the criterion brought by that feature.  It is also\n",
       "      known as the Gini importance.\n",
       "      \n",
       "      Warning: impurity-based feature importances can be misleading for\n",
       "      high cardinality features (many unique values). See\n",
       "      :func:`sklearn.inspection.permutation_importance` as an alternative.\n",
       "      \n",
       "      Returns\n",
       "      -------\n",
       "      feature_importances_ : ndarray of shape (n_features,)\n",
       "          The values of this array sum to 1, unless all trees are single node\n",
       "          trees consisting of only the root node, in which case it will be an\n",
       "          array of zeros.\n",
       "  \n",
       "  ----------------------------------------------------------------------\n",
       "  Methods inherited from sklearn.ensemble._base.BaseEnsemble:\n",
       "  \n",
       "  __getitem__(self, index)\n",
       "      Return the index&#39;th estimator in the ensemble.\n",
       "  \n",
       "  __iter__(self)\n",
       "      Return iterator over estimators in the ensemble.\n",
       "  \n",
       "  __len__(self)\n",
       "      Return the number of estimators in the ensemble.\n",
       "  \n",
       "  ----------------------------------------------------------------------\n",
       "  Data and other attributes inherited from sklearn.ensemble._base.BaseEnsemble:\n",
       "  \n",
       "  __annotations__ = {&#39;_required_parameters&#39;: typing.List[str]}\n",
       "  \n",
       "  ----------------------------------------------------------------------\n",
       "  Methods inherited from sklearn.base.BaseEstimator:\n",
       "  \n",
       "  __getstate__(self)\n",
       "  \n",
       "  __repr__(self, N_CHAR_MAX=700)\n",
       "      Return repr(self).\n",
       "  \n",
       "  __setstate__(self, state)\n",
       "  \n",
       "  get_params(self, deep=True)\n",
       "      Get parameters for this estimator.\n",
       "      \n",
       "      Parameters\n",
       "      ----------\n",
       "      deep : bool, default=True\n",
       "          If True, will return the parameters for this estimator and\n",
       "          contained subobjects that are estimators.\n",
       "      \n",
       "      Returns\n",
       "      -------\n",
       "      params : dict\n",
       "          Parameter names mapped to their values.\n",
       "  \n",
       "  set_params(self, **params)\n",
       "      Set the parameters of this estimator.\n",
       "      \n",
       "      The method works on simple estimators as well as on nested objects\n",
       "      (such as :class:`~sklearn.pipeline.Pipeline`). The latter have\n",
       "      parameters of the form ``&lt;component&gt;__&lt;parameter&gt;`` so that it&#39;s\n",
       "      possible to update each component of a nested object.\n",
       "      \n",
       "      Parameters\n",
       "      ----------\n",
       "      **params : dict\n",
       "          Estimator parameters.\n",
       "      \n",
       "      Returns\n",
       "      -------\n",
       "      self : estimator instance\n",
       "          Estimator instance.\n",
       "\n",
       "</div>"
      ]
     },
     "metadata": {
      "application/vnd.databricks.v1+output": {
       "addedWidgets": {},
       "arguments": {},
       "data": "<div class=\"ansiout\">Help on class RandomForestClassifier in module sklearn.ensemble._forest:\n\nclass RandomForestClassifier(ForestClassifier)\n |  RandomForestClassifier(n_estimators=100, *, criterion=&#39;gini&#39;, max_depth=None, min_samples_split=2, min_samples_leaf=1, min_weight_fraction_leaf=0.0, max_features=&#39;auto&#39;, max_leaf_nodes=None, min_impurity_decrease=0.0, min_impurity_split=None, bootstrap=True, oob_score=False, n_jobs=None, random_state=None, verbose=0, warm_start=False, class_weight=None, ccp_alpha=0.0, max_samples=None)\n |  \n |  A random forest classifier.\n |  \n |  A random forest is a meta estimator that fits a number of decision tree\n |  classifiers on various sub-samples of the dataset and uses averaging to\n |  improve the predictive accuracy and control over-fitting.\n |  The sub-sample size is controlled with the `max_samples` parameter if\n |  `bootstrap=True` (default), otherwise the whole dataset is used to build\n |  each tree.\n |  \n |  Read more in the :ref:`User Guide &lt;forest&gt;`.\n |  \n |  Parameters\n |  ----------\n |  n_estimators : int, default=100\n |      The number of trees in the forest.\n |  \n |      .. versionchanged:: 0.22\n |         The default value of ``n_estimators`` changed from 10 to 100\n |         in 0.22.\n |  \n |  criterion : {&#34;gini&#34;, &#34;entropy&#34;}, default=&#34;gini&#34;\n |      The function to measure the quality of a split. Supported criteria are\n |      &#34;gini&#34; for the Gini impurity and &#34;entropy&#34; for the information gain.\n |      Note: this parameter is tree-specific.\n |  \n |  max_depth : int, default=None\n |      The maximum depth of the tree. If None, then nodes are expanded until\n |      all leaves are pure or until all leaves contain less than\n |      min_samples_split samples.\n |  \n |  min_samples_split : int or float, default=2\n |      The minimum number of samples required to split an internal node:\n |  \n |      - If int, then consider `min_samples_split` as the minimum number.\n |      - If float, then `min_samples_split` is a fraction and\n |        `ceil(min_samples_split * n_samples)` are the minimum\n |        number of samples for each split.\n |  \n |      .. versionchanged:: 0.18\n |         Added float values for fractions.\n |  \n |  min_samples_leaf : int or float, default=1\n |      The minimum number of samples required to be at a leaf node.\n |      A split point at any depth will only be considered if it leaves at\n |      least ``min_samples_leaf`` training samples in each of the left and\n |      right branches.  This may have the effect of smoothing the model,\n |      especially in regression.\n |  \n |      - If int, then consider `min_samples_leaf` as the minimum number.\n |      - If float, then `min_samples_leaf` is a fraction and\n |        `ceil(min_samples_leaf * n_samples)` are the minimum\n |        number of samples for each node.\n |  \n |      .. versionchanged:: 0.18\n |         Added float values for fractions.\n |  \n |  min_weight_fraction_leaf : float, default=0.0\n |      The minimum weighted fraction of the sum total of weights (of all\n |      the input samples) required to be at a leaf node. Samples have\n |      equal weight when sample_weight is not provided.\n |  \n |  max_features : {&#34;auto&#34;, &#34;sqrt&#34;, &#34;log2&#34;}, int or float, default=&#34;auto&#34;\n |      The number of features to consider when looking for the best split:\n |  \n |      - If int, then consider `max_features` features at each split.\n |      - If float, then `max_features` is a fraction and\n |        `round(max_features * n_features)` features are considered at each\n |        split.\n |      - If &#34;auto&#34;, then `max_features=sqrt(n_features)`.\n |      - If &#34;sqrt&#34;, then `max_features=sqrt(n_features)` (same as &#34;auto&#34;).\n |      - If &#34;log2&#34;, then `max_features=log2(n_features)`.\n |      - If None, then `max_features=n_features`.\n |  \n |      Note: the search for a split does not stop until at least one\n |      valid partition of the node samples is found, even if it requires to\n |      effectively inspect more than ``max_features`` features.\n |  \n |  max_leaf_nodes : int, default=None\n |      Grow trees with ``max_leaf_nodes`` in best-first fashion.\n |      Best nodes are defined as relative reduction in impurity.\n |      If None then unlimited number of leaf nodes.\n |  \n |  min_impurity_decrease : float, default=0.0\n |      A node will be split if this split induces a decrease of the impurity\n |      greater than or equal to this value.\n |  \n |      The weighted impurity decrease equation is the following::\n |  \n |          N_t / N * (impurity - N_t_R / N_t * right_impurity\n |                              - N_t_L / N_t * left_impurity)\n |  \n |      where ``N`` is the total number of samples, ``N_t`` is the number of\n |      samples at the current node, ``N_t_L`` is the number of samples in the\n |      left child, and ``N_t_R`` is the number of samples in the right child.\n |  \n |      ``N``, ``N_t``, ``N_t_R`` and ``N_t_L`` all refer to the weighted sum,\n |      if ``sample_weight`` is passed.\n |  \n |      .. versionadded:: 0.19\n |  \n |  min_impurity_split : float, default=None\n |      Threshold for early stopping in tree growth. A node will split\n |      if its impurity is above the threshold, otherwise it is a leaf.\n |  \n |      .. deprecated:: 0.19\n |         ``min_impurity_split`` has been deprecated in favor of\n |         ``min_impurity_decrease`` in 0.19. The default value of\n |         ``min_impurity_split`` has changed from 1e-7 to 0 in 0.23 and it\n |         will be removed in 1.0 (renaming of 0.25).\n |         Use ``min_impurity_decrease`` instead.\n |  \n |  bootstrap : bool, default=True\n |      Whether bootstrap samples are used when building trees. If False, the\n |      whole dataset is used to build each tree.\n |  \n |  oob_score : bool, default=False\n |      Whether to use out-of-bag samples to estimate\n |      the generalization accuracy.\n |  \n |  n_jobs : int, default=None\n |      The number of jobs to run in parallel. :meth:`fit`, :meth:`predict`,\n |      :meth:`decision_path` and :meth:`apply` are all parallelized over the\n |      trees. ``None`` means 1 unless in a :obj:`joblib.parallel_backend`\n |      context. ``-1`` means using all processors. See :term:`Glossary\n |      &lt;n_jobs&gt;` for more details.\n |  \n |  random_state : int, RandomState instance or None, default=None\n |      Controls both the randomness of the bootstrapping of the samples used\n |      when building trees (if ``bootstrap=True``) and the sampling of the\n |      features to consider when looking for the best split at each node\n |      (if ``max_features &lt; n_features``).\n |      See :term:`Glossary &lt;random_state&gt;` for details.\n |  \n |  verbose : int, default=0\n |      Controls the verbosity when fitting and predicting.\n |  \n |  warm_start : bool, default=False\n |      When set to ``True``, reuse the solution of the previous call to fit\n |      and add more estimators to the ensemble, otherwise, just fit a whole\n |      new forest. See :term:`the Glossary &lt;warm_start&gt;`.\n |  \n |  class_weight : {&#34;balanced&#34;, &#34;balanced_subsample&#34;}, dict or list of dicts,             default=None\n |      Weights associated with classes in the form ``{class_label: weight}``.\n |      If not given, all classes are supposed to have weight one. For\n |      multi-output problems, a list of dicts can be provided in the same\n |      order as the columns of y.\n |  \n |      Note that for multioutput (including multilabel) weights should be\n |      defined for each class of every column in its own dict. For example,\n |      for four-class multilabel classification weights should be\n |      [{0: 1, 1: 1}, {0: 1, 1: 5}, {0: 1, 1: 1}, {0: 1, 1: 1}] instead of\n |      [{1:1}, {2:5}, {3:1}, {4:1}].\n |  \n |      The &#34;balanced&#34; mode uses the values of y to automatically adjust\n |      weights inversely proportional to class frequencies in the input data\n |      as ``n_samples / (n_classes * np.bincount(y))``\n |  \n |      The &#34;balanced_subsample&#34; mode is the same as &#34;balanced&#34; except that\n |      weights are computed based on the bootstrap sample for every tree\n |      grown.\n |  \n |      For multi-output, the weights of each column of y will be multiplied.\n |  \n |      Note that these weights will be multiplied with sample_weight (passed\n |      through the fit method) if sample_weight is specified.\n |  \n |  ccp_alpha : non-negative float, default=0.0\n |      Complexity parameter used for Minimal Cost-Complexity Pruning. The\n |      subtree with the largest cost complexity that is smaller than\n |      ``ccp_alpha`` will be chosen. By default, no pruning is performed. See\n |      :ref:`minimal_cost_complexity_pruning` for details.\n |  \n |      .. versionadded:: 0.22\n |  \n |  max_samples : int or float, default=None\n |      If bootstrap is True, the number of samples to draw from X\n |      to train each base estimator.\n |  \n |      - If None (default), then draw `X.shape[0]` samples.\n |      - If int, then draw `max_samples` samples.\n |      - If float, then draw `max_samples * X.shape[0]` samples. Thus,\n |        `max_samples` should be in the interval `(0, 1)`.\n |  \n |      .. versionadded:: 0.22\n |  \n |  Attributes\n |  ----------\n |  base_estimator_ : DecisionTreeClassifier\n |      The child estimator template used to create the collection of fitted\n |      sub-estimators.\n |  \n |  estimators_ : list of DecisionTreeClassifier\n |      The collection of fitted sub-estimators.\n |  \n |  classes_ : ndarray of shape (n_classes,) or a list of such arrays\n |      The classes labels (single output problem), or a list of arrays of\n |      class labels (multi-output problem).\n |  \n |  n_classes_ : int or list\n |      The number of classes (single output problem), or a list containing the\n |      number of classes for each output (multi-output problem).\n |  \n |  n_features_ : int\n |      The number of features when ``fit`` is performed.\n |  \n |  n_outputs_ : int\n |      The number of outputs when ``fit`` is performed.\n |  \n |  feature_importances_ : ndarray of shape (n_features,)\n |      The impurity-based feature importances.\n |      The higher, the more important the feature.\n |      The importance of a feature is computed as the (normalized)\n |      total reduction of the criterion brought by that feature.  It is also\n |      known as the Gini importance.\n |  \n |      Warning: impurity-based feature importances can be misleading for\n |      high cardinality features (many unique values). See\n |      :func:`sklearn.inspection.permutation_importance` as an alternative.\n |  \n |  oob_score_ : float\n |      Score of the training dataset obtained using an out-of-bag estimate.\n |      This attribute exists only when ``oob_score`` is True.\n |  \n |  oob_decision_function_ : ndarray of shape (n_samples, n_classes)\n |      Decision function computed with out-of-bag estimate on the training\n |      set. If n_estimators is small it might be possible that a data point\n |      was never left out during the bootstrap. In this case,\n |      `oob_decision_function_` might contain NaN. This attribute exists\n |      only when ``oob_score`` is True.\n |  \n |  See Also\n |  --------\n |  DecisionTreeClassifier, ExtraTreesClassifier\n |  \n |  Notes\n |  -----\n |  The default values for the parameters controlling the size of the trees\n |  (e.g. ``max_depth``, ``min_samples_leaf``, etc.) lead to fully grown and\n |  unpruned trees which can potentially be very large on some data sets. To\n |  reduce memory consumption, the complexity and size of the trees should be\n |  controlled by setting those parameter values.\n |  \n |  The features are always randomly permuted at each split. Therefore,\n |  the best found split may vary, even with the same training data,\n |  ``max_features=n_features`` and ``bootstrap=False``, if the improvement\n |  of the criterion is identical for several splits enumerated during the\n |  search of the best split. To obtain a deterministic behaviour during\n |  fitting, ``random_state`` has to be fixed.\n |  \n |  References\n |  ----------\n |  .. [1] L. Breiman, &#34;Random Forests&#34;, Machine Learning, 45(1), 5-32, 2001.\n |  \n |  Examples\n |  --------\n |  &gt;&gt;&gt; from sklearn.ensemble import RandomForestClassifier\n |  &gt;&gt;&gt; from sklearn.datasets import make_classification\n |  &gt;&gt;&gt; X, y = make_classification(n_samples=1000, n_features=4,\n |  ...                            n_informative=2, n_redundant=0,\n |  ...                            random_state=0, shuffle=False)\n |  &gt;&gt;&gt; clf = RandomForestClassifier(max_depth=2, random_state=0)\n |  &gt;&gt;&gt; clf.fit(X, y)\n |  RandomForestClassifier(...)\n |  &gt;&gt;&gt; print(clf.predict([[0, 0, 0, 0]]))\n |  [1]\n |  \n |  Method resolution order:\n |      RandomForestClassifier\n |      ForestClassifier\n |      sklearn.base.ClassifierMixin\n |      BaseForest\n |      sklearn.base.MultiOutputMixin\n |      sklearn.ensemble._base.BaseEnsemble\n |      sklearn.base.MetaEstimatorMixin\n |      sklearn.base.BaseEstimator\n |      builtins.object\n |  \n |  Methods defined here:\n |  \n |  __init__(self, n_estimators=100, *, criterion=&#39;gini&#39;, max_depth=None, min_samples_split=2, min_samples_leaf=1, min_weight_fraction_leaf=0.0, max_features=&#39;auto&#39;, max_leaf_nodes=None, min_impurity_decrease=0.0, min_impurity_split=None, bootstrap=True, oob_score=False, n_jobs=None, random_state=None, verbose=0, warm_start=False, class_weight=None, ccp_alpha=0.0, max_samples=None)\n |      Initialize self.  See help(type(self)) for accurate signature.\n |  \n |  fit(self, X, y, sample_weight=None)\n |      Build a forest of trees from the training set (X, y).\n |      \n |      Parameters\n |      ----------\n |      X : {array-like, sparse matrix} of shape (n_samples, n_features)\n |          The training input samples. Internally, its dtype will be converted\n |          to ``dtype=np.float32``. If a sparse matrix is provided, it will be\n |          converted into a sparse ``csc_matrix``.\n |      \n |      y : array-like of shape (n_samples,) or (n_samples, n_outputs)\n |          The target values (class labels in classification, real numbers in\n |          regression).\n |      \n |      sample_weight : array-like of shape (n_samples,), default=None\n |          Sample weights. If None, then samples are equally weighted. Splits\n |          that would create child nodes with net zero or negative weight are\n |          ignored while searching for a split in each node. In the case of\n |          classification, splits are also ignored if they would result in any\n |          single class carrying a negative weight in either child node.\n |      \n |      Returns\n |      -------\n |      self : object\n |  \n |  predict(self, X)\n |      Predict class for X.\n |      \n |      The predicted class of an input sample is a vote by the trees in\n |      the forest, weighted by their probability estimates. That is,\n |      the predicted class is the one with highest mean probability\n |      estimate across the trees.\n |      \n |      Parameters\n |      ----------\n |      X : {array-like, sparse matrix} of shape (n_samples, n_features)\n |          The input samples. Internally, its dtype will be converted to\n |          ``dtype=np.float32``. If a sparse matrix is provided, it will be\n |          converted into a sparse ``csr_matrix``.\n |      \n |      Returns\n |      -------\n |      y : ndarray of shape (n_samples,) or (n_samples, n_outputs)\n |          The predicted classes.\n |  \n |  predict_log_proba(self, X)\n |      Predict class log-probabilities for X.\n |      \n |      The predicted class log-probabilities of an input sample is computed as\n |      the log of the mean predicted class probabilities of the trees in the\n |      forest.\n |      \n |      Parameters\n |      ----------\n |      X : {array-like, sparse matrix} of shape (n_samples, n_features)\n |          The input samples. Internally, its dtype will be converted to\n |          ``dtype=np.float32``. If a sparse matrix is provided, it will be\n |          converted into a sparse ``csr_matrix``.\n |      \n |      Returns\n |      -------\n |      p : ndarray of shape (n_samples, n_classes), or a list of n_outputs\n |          such arrays if n_outputs &gt; 1.\n |          The class probabilities of the input samples. The order of the\n |          classes corresponds to that in the attribute :term:`classes_`.\n |  \n |  predict_proba(self, X)\n |      Predict class probabilities for X.\n |      \n |      The predicted class probabilities of an input sample are computed as\n |      the mean predicted class probabilities of the trees in the forest.\n |      The class probability of a single tree is the fraction of samples of\n |      the same class in a leaf.\n |      \n |      Parameters\n |      ----------\n |      X : {array-like, sparse matrix} of shape (n_samples, n_features)\n |          The input samples. Internally, its dtype will be converted to\n |          ``dtype=np.float32``. If a sparse matrix is provided, it will be\n |          converted into a sparse ``csr_matrix``.\n |      \n |      Returns\n |      -------\n |      p : ndarray of shape (n_samples, n_classes), or a list of n_outputs\n |          such arrays if n_outputs &gt; 1.\n |          The class probabilities of the input samples. The order of the\n |          classes corresponds to that in the attribute :term:`classes_`.\n |  \n |  score(self, X, y, sample_weight=None)\n |      Return the mean accuracy on the given test data and labels.\n |      \n |      In multi-label classification, this is the subset accuracy\n |      which is a harsh metric since you require for each sample that\n |      each label set be correctly predicted.\n |      \n |      Parameters\n |      ----------\n |      X : array-like of shape (n_samples, n_features)\n |          Test samples.\n |      \n |      y : array-like of shape (n_samples,) or (n_samples, n_outputs)\n |          True labels for `X`.\n |      \n |      sample_weight : array-like of shape (n_samples,), default=None\n |          Sample weights.\n |      \n |      Returns\n |      -------\n |      score : float\n |          Mean accuracy of ``self.predict(X)`` wrt. `y`.\n |  \n |  ----------------------------------------------------------------------\n |  Data and other attributes defined here:\n |  \n |  __abstractmethods__ = frozenset()\n |  \n |  ----------------------------------------------------------------------\n |  Data descriptors inherited from sklearn.base.ClassifierMixin:\n |  \n |  __dict__\n |      dictionary for instance variables (if defined)\n |  \n |  __weakref__\n |      list of weak references to the object (if defined)\n |  \n |  ----------------------------------------------------------------------\n |  Methods inherited from BaseForest:\n |  \n |  apply(self, X)\n |      Apply trees in the forest to X, return leaf indices.\n |      \n |      Parameters\n |      ----------\n |      X : {array-like, sparse matrix} of shape (n_samples, n_features)\n |          The input samples. Internally, its dtype will be converted to\n |          ``dtype=np.float32``. If a sparse matrix is provided, it will be\n |          converted into a sparse ``csr_matrix``.\n |      \n |      Returns\n |      -------\n |      X_leaves : ndarray of shape (n_samples, n_estimators)\n |          For each datapoint x in X and for each tree in the forest,\n |          return the index of the leaf x ends up in.\n |  \n |  decision_path(self, X)\n |      Return the decision path in the forest.\n |      \n |      .. versionadded:: 0.18\n |      \n |      Parameters\n |      ----------\n |      X : {array-like, sparse matrix} of shape (n_samples, n_features)\n |          The input samples. Internally, its dtype will be converted to\n |          ``dtype=np.float32``. If a sparse matrix is provided, it will be\n |          converted into a sparse ``csr_matrix``.\n |      \n |      Returns\n |      -------\n |      indicator : sparse matrix of shape (n_samples, n_nodes)\n |          Return a node indicator matrix where non zero elements indicates\n |          that the samples goes through the nodes. The matrix is of CSR\n |          format.\n |      \n |      n_nodes_ptr : ndarray of shape (n_estimators + 1,)\n |          The columns from indicator[n_nodes_ptr[i]:n_nodes_ptr[i+1]]\n |          gives the indicator value for the i-th estimator.\n |  \n |  ----------------------------------------------------------------------\n |  Readonly properties inherited from BaseForest:\n |  \n |  feature_importances_\n |      The impurity-based feature importances.\n |      \n |      The higher, the more important the feature.\n |      The importance of a feature is computed as the (normalized)\n |      total reduction of the criterion brought by that feature.  It is also\n |      known as the Gini importance.\n |      \n |      Warning: impurity-based feature importances can be misleading for\n |      high cardinality features (many unique values). See\n |      :func:`sklearn.inspection.permutation_importance` as an alternative.\n |      \n |      Returns\n |      -------\n |      feature_importances_ : ndarray of shape (n_features,)\n |          The values of this array sum to 1, unless all trees are single node\n |          trees consisting of only the root node, in which case it will be an\n |          array of zeros.\n |  \n |  ----------------------------------------------------------------------\n |  Methods inherited from sklearn.ensemble._base.BaseEnsemble:\n |  \n |  __getitem__(self, index)\n |      Return the index&#39;th estimator in the ensemble.\n |  \n |  __iter__(self)\n |      Return iterator over estimators in the ensemble.\n |  \n |  __len__(self)\n |      Return the number of estimators in the ensemble.\n |  \n |  ----------------------------------------------------------------------\n |  Data and other attributes inherited from sklearn.ensemble._base.BaseEnsemble:\n |  \n |  __annotations__ = {&#39;_required_parameters&#39;: typing.List[str]}\n |  \n |  ----------------------------------------------------------------------\n |  Methods inherited from sklearn.base.BaseEstimator:\n |  \n |  __getstate__(self)\n |  \n |  __repr__(self, N_CHAR_MAX=700)\n |      Return repr(self).\n |  \n |  __setstate__(self, state)\n |  \n |  get_params(self, deep=True)\n |      Get parameters for this estimator.\n |      \n |      Parameters\n |      ----------\n |      deep : bool, default=True\n |          If True, will return the parameters for this estimator and\n |          contained subobjects that are estimators.\n |      \n |      Returns\n |      -------\n |      params : dict\n |          Parameter names mapped to their values.\n |  \n |  set_params(self, **params)\n |      Set the parameters of this estimator.\n |      \n |      The method works on simple estimators as well as on nested objects\n |      (such as :class:`~sklearn.pipeline.Pipeline`). The latter have\n |      parameters of the form ``&lt;component&gt;__&lt;parameter&gt;`` so that it&#39;s\n |      possible to update each component of a nested object.\n |      \n |      Parameters\n |      ----------\n |      **params : dict\n |          Estimator parameters.\n |      \n |      Returns\n |      -------\n |      self : estimator instance\n |          Estimator instance.\n\n</div>",
       "datasetInfos": [],
       "metadata": {},
       "removedWidgets": [],
       "type": "html"
      }
     },
     "output_type": "display_data"
    }
   ],
   "source": [
    "from sklearn.ensemble import RandomForestClassifier\n",
    "\n",
    "help(RandomForestClassifier)"
   ]
  },
  {
   "cell_type": "code",
   "execution_count": 0,
   "metadata": {
    "application/vnd.databricks.v1+cell": {
     "inputWidgets": {},
     "nuid": "e98eed11-8178-4f40-af9e-e71afe6b77be",
     "showTitle": false,
     "title": ""
    }
   },
   "outputs": [
    {
     "data": {
      "text/html": [
       "<style scoped>\n",
       "  .ansiout {\n",
       "    display: block;\n",
       "    unicode-bidi: embed;\n",
       "    white-space: pre-wrap;\n",
       "    word-wrap: break-word;\n",
       "    word-break: break-all;\n",
       "    font-family: \"Source Code Pro\", \"Menlo\", monospace;;\n",
       "    font-size: 13px;\n",
       "    color: #555;\n",
       "    margin-left: 4px;\n",
       "    line-height: 19px;\n",
       "  }\n",
       "</style>\n",
       "<div class=\"ansiout\"></div>"
      ]
     },
     "metadata": {
      "application/vnd.databricks.v1+output": {
       "addedWidgets": {},
       "arguments": {},
       "data": "<div class=\"ansiout\"></div>",
       "datasetInfos": [],
       "metadata": {},
       "removedWidgets": [],
       "type": "html"
      }
     },
     "output_type": "display_data"
    }
   ],
   "source": [
    "import mlflow\n",
    "import mlflow.pyfunc\n",
    "import mlflow.sklearn\n",
    "import numpy as np\n",
    "\n",
    "from sklearn.metrics import roc_auc_score\n",
    "from mlflow.models.signature import infer_signature\n",
    " \n",
    "# The predict method of sklearn's RandomForestClassifier returns a binary classification (0 or 1). \n",
    "# The following code creates a wrapper function, SklearnModelWrapper, that uses \n",
    "# the predict_proba method to return the probability that the observation belongs to each class. \n",
    " \n",
    "class SklearnModelWrapper(mlflow.pyfunc.PythonModel):\n",
    "  def __init__(self, model):\n",
    "    self.model = model\n",
    "    \n",
    "  def predict(self, context, model_input):\n",
    "    return self.model.predict_proba(model_input)[:,1]\n",
    " "
   ]
  },
  {
   "cell_type": "code",
   "execution_count": 0,
   "metadata": {
    "application/vnd.databricks.v1+cell": {
     "inputWidgets": {},
     "nuid": "8e3eaac7-689c-48a2-a77a-6ddac26b365a",
     "showTitle": false,
     "title": ""
    }
   },
   "outputs": [
    {
     "data": {
      "text/html": [
       "<style scoped>\n",
       "  .ansiout {\n",
       "    display: block;\n",
       "    unicode-bidi: embed;\n",
       "    white-space: pre-wrap;\n",
       "    word-wrap: break-word;\n",
       "    word-break: break-all;\n",
       "    font-family: \"Source Code Pro\", \"Menlo\", monospace;;\n",
       "    font-size: 13px;\n",
       "    color: #555;\n",
       "    margin-left: 4px;\n",
       "    line-height: 19px;\n",
       "  }\n",
       "</style>\n",
       "<div class=\"ansiout\">Hint: Inferred schema contains integer column(s). Integer columns in Python cannot represent missing values. If your input data contains missing values at inference time, it will be encoded as floats and will cause a schema enforcement error. The best way to avoid this problem is to infer the model schema based on a realistic data sample (training dataset) that includes missing values. Alternatively, you can declare integer columns as doubles (float64) whenever these columns may have missing values. See `Handling Integers With Missing Values &lt;https://www.mlflow.org/docs/latest/models.html#handling-integers-with-missing-values&gt;`_ for more details.\n",
       "</div>"
      ]
     },
     "metadata": {
      "application/vnd.databricks.v1+output": {
       "addedWidgets": {},
       "arguments": {},
       "data": "<div class=\"ansiout\">Hint: Inferred schema contains integer column(s). Integer columns in Python cannot represent missing values. If your input data contains missing values at inference time, it will be encoded as floats and will cause a schema enforcement error. The best way to avoid this problem is to infer the model schema based on a realistic data sample (training dataset) that includes missing values. Alternatively, you can declare integer columns as doubles (float64) whenever these columns may have missing values. See `Handling Integers With Missing Values &lt;https://www.mlflow.org/docs/latest/models.html#handling-integers-with-missing-values&gt;`_ for more details.\n</div>",
       "datasetInfos": [],
       "metadata": {},
       "removedWidgets": [],
       "type": "html"
      }
     },
     "output_type": "display_data"
    }
   ],
   "source": [
    "with mlflow.start_run(run_name='untuned_random_forest'):\n",
    "  n_estimators = 10\n",
    "  model = RandomForestClassifier(n_estimators=n_estimators, random_state=np.random.RandomState(123))\n",
    "  model.fit(X_train, y_train)\n",
    " \n",
    "  # predict_proba returns [prob_negative, prob_positive], so slice the output with [:, 1]\n",
    "  predictions_test = model.predict_proba(X_test)[:,1]\n",
    "  auc_score = roc_auc_score(y_test, predictions_test)\n",
    "  mlflow.log_param('n_estimators', n_estimators)\n",
    "  # Use the area under the ROC curve as a metric.\n",
    "  mlflow.log_metric('auc', auc_score)\n",
    "  wrappedModel = SklearnModelWrapper(model)\n",
    "  # Log the model with a signature that defines the schema of the model's inputs and outputs. \n",
    "  # When the model is deployed, this signature will be used to validate inputs.\n",
    "  signature = infer_signature(X_train, wrappedModel.predict(None, X_train))\n",
    "  mlflow.pyfunc.log_model(\"random_forest_model\", python_model=wrappedModel, signature=signature)"
   ]
  },
  {
   "cell_type": "code",
   "execution_count": 0,
   "metadata": {
    "application/vnd.databricks.v1+cell": {
     "inputWidgets": {},
     "nuid": "68caf461-8178-4b27-b78d-9f2598325fca",
     "showTitle": false,
     "title": ""
    }
   },
   "outputs": [
    {
     "data": {
      "text/html": [
       "<style scoped>\n",
       "  .ansiout {\n",
       "    display: block;\n",
       "    unicode-bidi: embed;\n",
       "    white-space: pre-wrap;\n",
       "    word-wrap: break-word;\n",
       "    word-break: break-all;\n",
       "    font-family: \"Source Code Pro\", \"Menlo\", monospace;;\n",
       "    font-size: 13px;\n",
       "    color: #555;\n",
       "    margin-left: 4px;\n",
       "    line-height: 19px;\n",
       "  }\n",
       "</style>\n",
       "<div class=\"ansiout\">Out[19]: </div>"
      ]
     },
     "metadata": {
      "application/vnd.databricks.v1+output": {
       "addedWidgets": {},
       "arguments": {},
       "data": "<div class=\"ansiout\">Out[19]: </div>",
       "datasetInfos": [],
       "metadata": {},
       "removedWidgets": [],
       "type": "html"
      }
     },
     "output_type": "display_data"
    },
    {
     "data": {
      "text/html": [
       "<div>\n",
       "<style scoped>\n",
       "    .dataframe tbody tr th:only-of-type {\n",
       "        vertical-align: middle;\n",
       "    }\n",
       "\n",
       "    .dataframe tbody tr th {\n",
       "        vertical-align: top;\n",
       "    }\n",
       "\n",
       "    .dataframe thead th {\n",
       "        text-align: right;\n",
       "    }\n",
       "</style>\n",
       "<table border=\"1\" class=\"dataframe\">\n",
       "  <thead>\n",
       "    <tr style=\"text-align: right;\">\n",
       "      <th></th>\n",
       "      <th>importance</th>\n",
       "    </tr>\n",
       "  </thead>\n",
       "  <tbody>\n",
       "    <tr>\n",
       "      <th>Number_of_Results</th>\n",
       "      <td>0.119503</td>\n",
       "    </tr>\n",
       "    <tr>\n",
       "      <th>Average_annual_income_per_household</th>\n",
       "      <td>0.067908</td>\n",
       "    </tr>\n",
       "    <tr>\n",
       "      <th>NAICS_sector_code</th>\n",
       "      <td>0.067690</td>\n",
       "    </tr>\n",
       "    <tr>\n",
       "      <th>LS_Amount_to_Borrow</th>\n",
       "      <td>0.065236</td>\n",
       "    </tr>\n",
       "    <tr>\n",
       "      <th>LS_GAS</th>\n",
       "      <td>0.062907</td>\n",
       "    </tr>\n",
       "    <tr>\n",
       "      <th>Mean_monthly_mortgage_and_owner_costs</th>\n",
       "      <td>0.061668</td>\n",
       "    </tr>\n",
       "    <tr>\n",
       "      <th>Rent_mean</th>\n",
       "      <td>0.061177</td>\n",
       "    </tr>\n",
       "    <tr>\n",
       "      <th>LS_State</th>\n",
       "      <td>0.052694</td>\n",
       "    </tr>\n",
       "    <tr>\n",
       "      <th>Number_of_technologies</th>\n",
       "      <td>0.049583</td>\n",
       "    </tr>\n",
       "    <tr>\n",
       "      <th>Difference</th>\n",
       "      <td>0.043114</td>\n",
       "    </tr>\n",
       "    <tr>\n",
       "      <th>Web_Ad_Outlet_code</th>\n",
       "      <td>0.041680</td>\n",
       "    </tr>\n",
       "    <tr>\n",
       "      <th>Company_credit_score</th>\n",
       "      <td>0.040209</td>\n",
       "    </tr>\n",
       "    <tr>\n",
       "      <th>Number_of_Reviews</th>\n",
       "      <td>0.028331</td>\n",
       "    </tr>\n",
       "    <tr>\n",
       "      <th>Email_domain</th>\n",
       "      <td>0.025273</td>\n",
       "    </tr>\n",
       "    <tr>\n",
       "      <th>Confidence_Score</th>\n",
       "      <td>0.023611</td>\n",
       "    </tr>\n",
       "    <tr>\n",
       "      <th>Rating</th>\n",
       "      <td>0.022986</td>\n",
       "    </tr>\n",
       "    <tr>\n",
       "      <th>Mean_employee_age</th>\n",
       "      <td>0.021433</td>\n",
       "    </tr>\n",
       "    <tr>\n",
       "      <th>Number_of_socials</th>\n",
       "      <td>0.019500</td>\n",
       "    </tr>\n",
       "    <tr>\n",
       "      <th>company</th>\n",
       "      <td>0.017749</td>\n",
       "    </tr>\n",
       "    <tr>\n",
       "      <th>Web_Ad_Outlet_Source_code</th>\n",
       "      <td>0.017740</td>\n",
       "    </tr>\n",
       "    <tr>\n",
       "      <th>Map_Exists</th>\n",
       "      <td>0.016393</td>\n",
       "    </tr>\n",
       "    <tr>\n",
       "      <th>Average_years_employees_work_at_company</th>\n",
       "      <td>0.016305</td>\n",
       "    </tr>\n",
       "    <tr>\n",
       "      <th>Is_established</th>\n",
       "      <td>0.015655</td>\n",
       "    </tr>\n",
       "    <tr>\n",
       "      <th>address</th>\n",
       "      <td>0.014695</td>\n",
       "    </tr>\n",
       "    <tr>\n",
       "      <th>LS_Self_Graded_Credit</th>\n",
       "      <td>0.014583</td>\n",
       "    </tr>\n",
       "    <tr>\n",
       "      <th>Permanently_Closed</th>\n",
       "      <td>0.005639</td>\n",
       "    </tr>\n",
       "    <tr>\n",
       "      <th>Has_Customer_Service</th>\n",
       "      <td>0.004406</td>\n",
       "    </tr>\n",
       "    <tr>\n",
       "      <th>Results_From_Wikipedia</th>\n",
       "      <td>0.002331</td>\n",
       "    </tr>\n",
       "    <tr>\n",
       "      <th>Unclaimed_Listing</th>\n",
       "      <td>0.000000</td>\n",
       "    </tr>\n",
       "  </tbody>\n",
       "</table>\n",
       "</div>"
      ]
     },
     "metadata": {
      "application/vnd.databricks.v1+output": {
       "addedWidgets": {},
       "arguments": {},
       "data": "<div>\n<style scoped>\n    .dataframe tbody tr th:only-of-type {\n        vertical-align: middle;\n    }\n\n    .dataframe tbody tr th {\n        vertical-align: top;\n    }\n\n    .dataframe thead th {\n        text-align: right;\n    }\n</style>\n<table border=\"1\" class=\"dataframe\">\n  <thead>\n    <tr style=\"text-align: right;\">\n      <th></th>\n      <th>importance</th>\n    </tr>\n  </thead>\n  <tbody>\n    <tr>\n      <th>Number_of_Results</th>\n      <td>0.119503</td>\n    </tr>\n    <tr>\n      <th>Average_annual_income_per_household</th>\n      <td>0.067908</td>\n    </tr>\n    <tr>\n      <th>NAICS_sector_code</th>\n      <td>0.067690</td>\n    </tr>\n    <tr>\n      <th>LS_Amount_to_Borrow</th>\n      <td>0.065236</td>\n    </tr>\n    <tr>\n      <th>LS_GAS</th>\n      <td>0.062907</td>\n    </tr>\n    <tr>\n      <th>Mean_monthly_mortgage_and_owner_costs</th>\n      <td>0.061668</td>\n    </tr>\n    <tr>\n      <th>Rent_mean</th>\n      <td>0.061177</td>\n    </tr>\n    <tr>\n      <th>LS_State</th>\n      <td>0.052694</td>\n    </tr>\n    <tr>\n      <th>Number_of_technologies</th>\n      <td>0.049583</td>\n    </tr>\n    <tr>\n      <th>Difference</th>\n      <td>0.043114</td>\n    </tr>\n    <tr>\n      <th>Web_Ad_Outlet_code</th>\n      <td>0.041680</td>\n    </tr>\n    <tr>\n      <th>Company_credit_score</th>\n      <td>0.040209</td>\n    </tr>\n    <tr>\n      <th>Number_of_Reviews</th>\n      <td>0.028331</td>\n    </tr>\n    <tr>\n      <th>Email_domain</th>\n      <td>0.025273</td>\n    </tr>\n    <tr>\n      <th>Confidence_Score</th>\n      <td>0.023611</td>\n    </tr>\n    <tr>\n      <th>Rating</th>\n      <td>0.022986</td>\n    </tr>\n    <tr>\n      <th>Mean_employee_age</th>\n      <td>0.021433</td>\n    </tr>\n    <tr>\n      <th>Number_of_socials</th>\n      <td>0.019500</td>\n    </tr>\n    <tr>\n      <th>company</th>\n      <td>0.017749</td>\n    </tr>\n    <tr>\n      <th>Web_Ad_Outlet_Source_code</th>\n      <td>0.017740</td>\n    </tr>\n    <tr>\n      <th>Map_Exists</th>\n      <td>0.016393</td>\n    </tr>\n    <tr>\n      <th>Average_years_employees_work_at_company</th>\n      <td>0.016305</td>\n    </tr>\n    <tr>\n      <th>Is_established</th>\n      <td>0.015655</td>\n    </tr>\n    <tr>\n      <th>address</th>\n      <td>0.014695</td>\n    </tr>\n    <tr>\n      <th>LS_Self_Graded_Credit</th>\n      <td>0.014583</td>\n    </tr>\n    <tr>\n      <th>Permanently_Closed</th>\n      <td>0.005639</td>\n    </tr>\n    <tr>\n      <th>Has_Customer_Service</th>\n      <td>0.004406</td>\n    </tr>\n    <tr>\n      <th>Results_From_Wikipedia</th>\n      <td>0.002331</td>\n    </tr>\n    <tr>\n      <th>Unclaimed_Listing</th>\n      <td>0.000000</td>\n    </tr>\n  </tbody>\n</table>\n</div>",
       "datasetInfos": [],
       "metadata": {},
       "removedWidgets": [],
       "textData": null,
       "type": "htmlSandbox"
      }
     },
     "output_type": "display_data"
    }
   ],
   "source": [
    "feature_importances = pd.DataFrame(model.feature_importances_, index=X_train.columns.tolist(), columns=['importance'])\n",
    "feature_importances.sort_values('importance', ascending=False)\n"
   ]
  },
  {
   "cell_type": "code",
   "execution_count": 0,
   "metadata": {
    "application/vnd.databricks.v1+cell": {
     "inputWidgets": {},
     "nuid": "11e1882c-4fe1-41ff-9a58-f62d474ce941",
     "showTitle": false,
     "title": ""
    }
   },
   "outputs": [],
   "source": [
    "clf = RandomForestClassifier(random_state = 2)\n",
    "clf.fit(X_train,y_train)\n",
    "# y_pred = clf.predict(X_test)  # default threshold is 0.5\n",
    "y_pred = (clf.predict_proba(X_test)[:,1] >= 0.30).astype(bool) # set threshold as 0.3"
   ]
  },
  {
   "cell_type": "code",
   "execution_count": 0,
   "metadata": {
    "application/vnd.databricks.v1+cell": {
     "inputWidgets": {},
     "nuid": "de601d12-563f-4165-b19a-b31aab385a79",
     "showTitle": false,
     "title": ""
    }
   },
   "outputs": [],
   "source": [
    "import os\n",
    "import requests\n",
    "import numpy as np\n",
    "import pandas as pd\n",
    "\n",
    "def create_tf_serving_json(data):\n",
    "  return {'inputs': {name: data[name].tolist() for name in data.keys()} if isinstance(data, dict) else data.tolist()}\n",
    "\n",
    "def score_model(dataset):\n",
    "  url = 'https://adb-8618183333104940.0.azuredatabricks.net/model/RandomForestLN/2/invocations'\n",
    "  headers = {'Authorization': f'Bearer {os.environ.get(\"DATABRICKS_TOKEN\")}'}\n",
    "  data_json = dataset.to_dict(orient='split') if isinstance(dataset, pd.DataFrame) else create_tf_serving_json(dataset)\n",
    "  response = requests.request(method='POST', headers=headers, url=url, json=data_json)\n",
    "  if response.status_code != 200:\n",
    "    raise Exception(f'Request failed with status {response.status_code}, {response.text}')\n",
    "  return response.json()"
   ]
  },
  {
   "cell_type": "code",
   "execution_count": 0,
   "metadata": {
    "application/vnd.databricks.v1+cell": {
     "inputWidgets": {},
     "nuid": "bd39084c-333c-4ec5-a934-d6b948d49884",
     "showTitle": false,
     "title": ""
    }
   },
   "outputs": [],
   "source": []
  },
  {
   "cell_type": "markdown",
   "metadata": {
    "application/vnd.databricks.v1+cell": {
     "inputWidgets": {},
     "nuid": "bbace10c-c37e-4a76-b3bc-0952b347b650",
     "showTitle": false,
     "title": ""
    }
   },
   "source": [
    "## Inference\n",
    "[The MLflow Model Registry](https://docs.databricks.com/applications/mlflow/model-registry.html) is a collaborative hub where teams can share ML models, work together from experimentation to online testing and production, integrate with approval and governance workflows, and monitor ML deployments and their performance. The snippets below show how to add the model trained in this notebook to the model registry and to retrieve it later for inference.\n",
    "\n",
    "> **NOTE:** The `model_uri` for the model already trained in this notebook can be found in the cell below\n",
    "\n",
    "### Register to Model Registry\n",
    "```\n",
    "model_name = \"Example\"\n",
    "\n",
    "model_uri = f\"runs:/{ mlflow_run.info.run_id }/model\"\n",
    "registered_model_version = mlflow.register_model(model_uri, model_name)\n",
    "```\n",
    "\n",
    "### Load from Model Registry\n",
    "```\n",
    "model_name = \"Example\"\n",
    "model_version = registered_model_version.version\n",
    "\n",
    "model = mlflow.pyfunc.load_model(model_uri=f\"models:/{model_name}/{model_version}\")\n",
    "model.predict(input_X)\n",
    "```\n",
    "\n",
    "### Load model without registering\n",
    "```\n",
    "model_uri = f\"runs:/{ mlflow_run.info.run_id }/model\"\n",
    "\n",
    "model = mlflow.pyfunc.load_model(model_uri)\n",
    "model.predict(input_X)\n",
    "```"
   ]
  },
  {
   "cell_type": "code",
   "execution_count": 0,
   "metadata": {
    "application/vnd.databricks.v1+cell": {
     "inputWidgets": {},
     "nuid": "a3f8dece-2273-4f4c-85d5-7aa6826b71cc",
     "showTitle": false,
     "title": ""
    },
    "execution": {
     "iopub.execute_input": "2022-06-21T22:13:51.831582Z",
     "iopub.status.busy": "2022-06-21T22:13:51.830350Z",
     "iopub.status.idle": "2022-06-21T22:13:51.840768Z",
     "shell.execute_reply": "2022-06-21T22:13:51.839995Z"
    }
   },
   "outputs": [
    {
     "data": {
      "text/plain": [
       "runs:/ebcd2153faf0483e95f5a1cbc944df01/model\n"
      ]
     },
     "metadata": {
      "application/vnd.databricks.v1+output": {
       "addedWidgets": {},
       "arguments": {},
       "data": "runs:/ebcd2153faf0483e95f5a1cbc944df01/model\n",
       "datasetInfos": [],
       "metadata": {},
       "removedWidgets": [],
       "type": "ansi"
      }
     },
     "output_type": "display_data"
    }
   ],
   "source": [
    "# model_uri for the generated model\n",
    "print(f\"runs:/{ mlflow_run.info.run_id }/model\")"
   ]
  }
 ],
 "metadata": {
  "application/vnd.databricks.v1+notebook": {
   "dashboards": [],
   "language": "python",
   "notebookMetadata": {
    "pythonIndentUnit": 2
   },
   "notebookName": "22-06-21-22:02-LightGBM-2397173ff053267431b9ff8792fe8e94",
   "notebookOrigID": 2547542356850517,
   "widgets": {}
  },
  "kernelspec": {
   "display_name": "Python 3",
   "language": "python",
   "name": "python3"
  },
  "language_info": {
   "codemirror_mode": {
    "name": "ipython",
    "version": 3
   },
   "file_extension": ".py",
   "mimetype": "text/x-python",
   "name": "python",
   "nbconvert_exporter": "python",
   "pygments_lexer": "ipython3",
   "version": "3.7.2"
  },
  "name": "LightGBM-2397173ff053267431b9ff8792fe8e94"
 },
 "nbformat": 4,
 "nbformat_minor": 1
}
